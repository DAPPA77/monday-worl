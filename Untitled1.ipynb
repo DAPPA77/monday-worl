{
 "cells": [
  {
   "cell_type": "code",
   "execution_count": null,
   "metadata": {},
   "outputs": [],
   "source": [
    "from math import pi"
   ]
  },
  {
   "cell_type": "code",
   "execution_count": null,
   "metadata": {},
   "outputs": [],
   "source": [
    "import math\n",
    "while False:\n",
    "    n=3\n",
    "    b=[(n),(n+1),(n+2),(n+3)]\n",
    "    for i in b:\n",
    "        a=math.pi\n",
    "        if a==(n+(n+1)/(n-1)*(n*n+1)):\n",
    "            \n",
    "                print(round(i))\n",
    "               \n",
    "        \n",
    "        \n",
    "    "
   ]
  },
  {
   "cell_type": "code",
   "execution_count": null,
   "metadata": {},
   "outputs": [],
   "source": [
    "import math\n",
    "a=math.pi\n",
    "print(a)"
   ]
  },
  {
   "cell_type": "code",
   "execution_count": null,
   "metadata": {},
   "outputs": [],
   "source": [
    "n=3\n",
    "pi=[(n+((n+1)/((n-1)*n*(n+1)))),(n-(n+1)/(n+1)*(n+2)*(n+3))]\n",
    "for i in pi:\n",
    "    print(i)"
   ]
  },
  {
   "cell_type": "code",
   "execution_count": null,
   "metadata": {},
   "outputs": [],
   "source": [
    "import random\n",
    "for i in range(4):\n",
    "    h=\"080\"\n",
    "    for f in range(9):\n",
    "        digit=random.randint(0,9)\n",
    "        h=h+str(digit)\n",
    "    print(h)"
   ]
  },
  {
   "cell_type": "code",
   "execution_count": null,
   "metadata": {},
   "outputs": [],
   "source": []
  },
  {
   "cell_type": "code",
   "execution_count": null,
   "metadata": {},
   "outputs": [],
   "source": [
    "a=input(\"what is heavy and back ward it is not\")\n",
    "b=input(\"first black president\")\n",
    "c=[a,b]\n",
    "for i in c:\n",
    "    if a is \"ton\":\n",
    "        print(\"good\")\n",
    "    else:\n",
    "        print(\"ton is the answer\")\n",
    "    if b is \"obama\":\n",
    "        print(\"correct\")\n",
    "    else:\n",
    "        print(\"learn black history\")\n",
    "    \n",
    "    "
   ]
  },
  {
   "cell_type": "code",
   "execution_count": null,
   "metadata": {},
   "outputs": [],
   "source": []
  },
  {
   "cell_type": "code",
   "execution_count": null,
   "metadata": {},
   "outputs": [],
   "source": [
    "import random\n",
    "guess=input(\"a number\")\n",
    "number=random.randrange(int(guess)+1)\n",
    "if int(guess)==(number):\n",
    "    print(\"correct\")\n",
    "elif int(guess)>(number):\n",
    "    print(\"so close\")\n",
    "elif int(guess)<(number):\n",
    "    print(\"less than\")"
   ]
  },
  {
   "cell_type": "raw",
   "metadata": {},
   "source": []
  },
  {
   "cell_type": "code",
   "execution_count": null,
   "metadata": {},
   "outputs": [],
   "source": [
    "har=input(\"first digit number\")\n",
    "her=input(\"second digit number\")\n",
    "got=her+har\n",
    "sum_digit=int(har+her)\n",
    "if int(got)%sum_git==0:\n",
    "    print(\"harshard\")"
   ]
  },
  {
   "cell_type": "code",
   "execution_count": null,
   "metadata": {},
   "outputs": [],
   "source": [
    "a=int(input(\"a number\"))\n",
    "b=int(input(\"a number\"))\n",
    "c=int(input(\"a number\"))\n",
    "d=[a,b,c]\n",
    "for i in d:\n",
    "    except:\n",
    "        if>(d[0])<2:\n",
    "            print(\"no charge\")\n",
    "        if(d[1]) in range(3,13):\n",
    "            print(\" 10 dollars\")\n",
    "        if(d[2])>=66:\n",
    "            print(\"13 dollars\")\n",
    "        print(i)\n",
    "    \n",
    "        \n",
    "    \n",
    "\n",
    "            \n",
    "    \n",
    "\n",
    "        "
   ]
  },
  {
   "cell_type": "markdown",
   "metadata": {},
   "source": [
    "#### "
   ]
  },
  {
   "cell_type": "code",
   "execution_count": null,
   "metadata": {},
   "outputs": [],
   "source": [
    "a=[1,3,4,5,6]\n",
    "print (a[4])"
   ]
  },
  {
   "cell_type": "code",
   "execution_count": null,
   "metadata": {},
   "outputs": [],
   "source": [
    "import random\n",
    "while True:\n",
    "    game=[\"rock\",\"paper\",\"scissors\"]\n",
    "    game_d=random.randrange(game)\n",
    "    a=input(\"what\")\n",
    "    if a in game_d:\n",
    "        print(\"okay\")\n",
    "    if a==\"rock\":\n",
    "        print(\"good\")\n",
    "    elif a==\"paper\":\n",
    "        print(\"lost\")\n",
    "    elif a==\"scissors\":\n",
    "        print(\"dd\")\n",
    "    \n"
   ]
  },
  {
   "cell_type": "code",
   "execution_count": null,
   "metadata": {},
   "outputs": [],
   "source": [
    "import random\n",
    "game=[\"rock\",\"paper\",\"scissors\"]\n",
    "while True:\n",
    "    a=input(\"a number\")\n",
    "    if a  not in game:\n",
    "        continue\n",
    "    randomx=random.randint(0,2)\n",
    "    radom=game[randomx]\n",
    "    print(radom)\n",
    "    if a==\"rock\" and radom==\"scissors\":\n",
    "        print(\"u won\")\n",
    "    \n",
    "\n",
    "\n"
   ]
  },
  {
   "cell_type": "code",
   "execution_count": null,
   "metadata": {},
   "outputs": [],
   "source": [
    "game=[(\"rock\"),(\"paper\"),(\"scisso\")]\n",
    "while True:\n",
    "    a=int(input(\"input a nu\"))\n",
    "    b=game[a]\n",
    "    x=game[((int(a))+1)]\n",
    "    if b==game[1]:\n",
    "        x==game[((int(a))+1)]\n",
    "        print(x)\n",
    "            "
   ]
  },
  {
   "cell_type": "code",
   "execution_count": null,
   "metadata": {},
   "outputs": [],
   "source": [
    "user=int(input(\"a number\"))\n",
    "x=user/2\n",
    "while x==-abs(((x*x)-user)<=(10**(-2))) is True:\n",
    "    print(x=(x+(user/x))/2)\n",
    "else:\n",
    "    print(\"cannot be done\")"
   ]
  },
  {
   "cell_type": "code",
   "execution_count": null,
   "metadata": {},
   "outputs": [],
   "source": [
    "import random as dan\n",
    "guess=dan.randint(1,9)\n",
    "for i in range(5):\n",
    "    user=int(input(\"enter a number\"))\n",
    "    if guess>5:\n",
    "        print(\"guess\")\n",
    "    elif user>guess:\n",
    "        print(\"greater than\")\n",
    "    elif user<guess:\n",
    "        print(\"less than\")\n",
    "    elif (user==guess):\n",
    "        print(\"congrats\\nyou got it\")\n",
    "        break\n",
    "    else:\n",
    "        print(f\"failed!!\\nyouhave {5-(i+1)}trials left\\ntry again\")"
   ]
  },
  {
   "cell_type": "code",
   "execution_count": null,
   "metadata": {},
   "outputs": [],
   "source": [
    "name=\"boma\"\n",
    "fname=\"george\"\n",
    "f\"{name}{fname}\""
   ]
  },
  {
   "cell_type": "code",
   "execution_count": null,
   "metadata": {},
   "outputs": [],
   "source": [
    "f\"({name}{fname})\""
   ]
  },
  {
   "cell_type": "code",
   "execution_count": null,
   "metadata": {},
   "outputs": [],
   "source": []
  },
  {
   "cell_type": "code",
   "execution_count": null,
   "metadata": {},
   "outputs": [],
   "source": [
    "import random as dan\n",
    "low=10\n",
    "high=100\n",
    "comp_guess=dan.randint(low,high) \n",
    "for i in range(10):\n",
    "    user_guess=int(input(f\"make a guess({low}-{high}):\"))\n",
    "    if user_guess>high or user_guess<low:\n",
    "        print(\"invalid entry\")\n",
    "    elif(user_guess>comp_guess):\n",
    "        print(\"your guess is too high\\ntry again\")\n",
    "    elif user_guess<comp_guess:\n",
    "        print(\"your guess is too loos\\ntry again\")\n",
    "    elif user_guess==comp_guess:\n",
    "        print(\"congrats\\n you got it\")\n",
    "        break"
   ]
  },
  {
   "cell_type": "code",
   "execution_count": 2,
   "metadata": {},
   "outputs": [],
   "source": [
    "from random import choices,choice"
   ]
  },
  {
   "cell_type": "code",
   "execution_count": null,
   "metadata": {},
   "outputs": [],
   "source": [
    "a=[2,3,4,5]\n",
    "choices(a,k=3,weights=[0.3,0.2,0.3,0.1])"
   ]
  },
  {
   "cell_type": "code",
   "execution_count": 2,
   "metadata": {},
   "outputs": [
    {
     "ename": "NameError",
     "evalue": "name 'choices' is not defined",
     "output_type": "error",
     "traceback": [
      "\u001b[1;31m---------------------------------------------------------------------------\u001b[0m",
      "\u001b[1;31mNameError\u001b[0m                                 Traceback (most recent call last)",
      "\u001b[1;32m<ipython-input-2-5c52f0d5d384>\u001b[0m in \u001b[0;36m<module>\u001b[1;34m\u001b[0m\n\u001b[1;32m----> 1\u001b[1;33m \u001b[0mchoices\u001b[0m\u001b[1;33m(\u001b[0m\u001b[1;33m[\u001b[0m\u001b[1;36m2\u001b[0m\u001b[1;33m,\u001b[0m\u001b[1;36m3\u001b[0m\u001b[1;33m,\u001b[0m\u001b[1;36m4\u001b[0m\u001b[1;33m,\u001b[0m\u001b[1;34m\"rock\"\u001b[0m\u001b[1;33m]\u001b[0m\u001b[1;33m,\u001b[0m\u001b[0mk\u001b[0m\u001b[1;33m=\u001b[0m\u001b[1;36m2\u001b[0m\u001b[1;33m,\u001b[0m\u001b[0mweights\u001b[0m\u001b[1;33m=\u001b[0m\u001b[1;33m[\u001b[0m\u001b[1;36m0.2\u001b[0m\u001b[1;33m,\u001b[0m\u001b[1;36m0.002\u001b[0m\u001b[1;33m,\u001b[0m\u001b[1;36m0.1\u001b[0m\u001b[1;33m,\u001b[0m\u001b[1;36m0.5\u001b[0m\u001b[1;33m]\u001b[0m\u001b[1;33m)\u001b[0m\u001b[1;33m\u001b[0m\u001b[1;33m\u001b[0m\u001b[0m\n\u001b[0m",
      "\u001b[1;31mNameError\u001b[0m: name 'choices' is not defined"
     ]
    }
   ],
   "source": [
    "choices([2,3,4,\"rock\"],k=2,weights=[0.2,0.002,0.1,0.5])"
   ]
  },
  {
   "cell_type": "code",
   "execution_count": null,
   "metadata": {},
   "outputs": [],
   "source": [
    "choice([2,4,77,9])"
   ]
  },
  {
   "cell_type": "code",
   "execution_count": null,
   "metadata": {},
   "outputs": [],
   "source": [
    "for i in range(5):\n",
    "    comp_choice=choice([\"rock\",\"paper\",\"scissors\"])\n",
    "    user_choice=input(\"make a choice:\")\n",
    "    print(f\"the computer chosed {comp_choice}\")\n",
    "    print()\n",
    "    if user_choice==comp_choice:\n",
    "        print(\"is a draw\")\n",
    "        break\n",
    "    "
   ]
  },
  {
   "cell_type": "code",
   "execution_count": 4,
   "metadata": {},
   "outputs": [
    {
     "ename": "IndentationError",
     "evalue": "unexpected indent (<ipython-input-4-85cc5ce6c965>, line 2)",
     "output_type": "error",
     "traceback": [
      "\u001b[1;36m  File \u001b[1;32m\"<ipython-input-4-85cc5ce6c965>\"\u001b[1;36m, line \u001b[1;32m2\u001b[0m\n\u001b[1;33m    a=[\"rock\",\"paper\",\"scissors\"]\u001b[0m\n\u001b[1;37m    ^\u001b[0m\n\u001b[1;31mIndentationError\u001b[0m\u001b[1;31m:\u001b[0m unexpected indent\n"
     ]
    }
   ],
   "source": [
    "for i in range(5):\n",
    "    a=[\"rock\",\"paper\",\"scissors\"]\n",
    "    user_choice=input(\"make a choice:\")\n",
    "    comp_choice=(\",\".join(choices([\"rock\",\"paper\",\"scissors\"])))\n",
    "    print(f\"the computer chosed {comp_choice}\")\n",
    "    print()\n",
    "    if user_choice==comp_choice:\n",
    "        print(\"is a draw\")\n",
    "        break\n",
    "    elif user_choice==\"rock\":\n",
    "        comp_choice=(\",\".join(choices(a,weights[0.05,0.9,0.05])))\n",
    "        if user_choice==\"rock\" and comp_choice==\"paper\":\n",
    "            print(\"computer wins\")\n",
    "    elif user_choice==\"paper\":\n",
    "        comp_choice=(\",\".join(choices(a,weights[0.05,0.05,0.9])))\n",
    "        if user_choice==\"paper\" and comp_choice==\"scissors\":\n",
    "            print(\"computer winss\")\n",
    "    elif user_choice==\"scissors\":\n",
    "        comp_choice=(\",\".join(choices(a,weights[0.9,0.05,0.05])))\n",
    "        if user_choice==\"scissors\" and comp_choice==\"rock\":\n",
    "                     print(\"u lost\")\n"
   ]
  },
  {
   "cell_type": "code",
   "execution_count": null,
   "metadata": {},
   "outputs": [],
   "source": [
    "a=[\"rock\",\"paper\",\"scissors\"]\n",
    "       user_choice=input(\"make a choice:\")\n",
    "       comp_choice=(\",\".join(choices([\"rock\",\"paper\",\"scissors\"])))\n",
    "       print(f\"the computer chosed {comp_choice}\")\n",
    "       print()\n",
    "f user_choice==comp_choice:\n",
    "            print(\"is a draw\")\n",
    "            break\n",
    "        elif user_choice==\"rock\":\n",
    "            comp_choice=(\",\".join(choices(a,weights[0.05,0.9,0.05])))\n",
    "            if user_choice==\"rock\" and comp_choice==\"paper\":\n",
    "                print(\"computer wins\")\n",
    "        elif user_choice==\"paper\":\n",
    "            comp_choice=(\",\".join(choices(a,weights[0.05,0.05,0.9])))\n",
    "            if user_choice==\"paper\" and comp_choice==\"scissors\":\n",
    "                print(\"computer winss\")\n",
    "        elif user_choice==\"scissors\":\n",
    "            comp_choice=(\",\".join(choices(a,weights[0.9,0.05,0.05])))\n",
    "            if user_choice==\"scissors\" and comp_choice==\"rock\":\n",
    "    print(\"u lost\")\n"
   ]
  },
  {
   "cell_type": "code",
   "execution_count": 2,
   "metadata": {},
   "outputs": [],
   "source": [
    "for i in range(100):\n",
    "    if i > i:\n",
    "        print(i)"
   ]
  },
  {
   "cell_type": "code",
   "execution_count": null,
   "metadata": {},
   "outputs": [],
   "source": []
  }
 ],
 "metadata": {
  "kernelspec": {
   "display_name": "Python 3",
   "language": "python",
   "name": "python3"
  },
  "language_info": {
   "codemirror_mode": {
    "name": "ipython",
    "version": 3
   },
   "file_extension": ".py",
   "mimetype": "text/x-python",
   "name": "python",
   "nbconvert_exporter": "python",
   "pygments_lexer": "ipython3",
   "version": "3.7.3"
  }
 },
 "nbformat": 4,
 "nbformat_minor": 2
}
