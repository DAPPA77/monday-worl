{
 "cells": [
  {
   "cell_type": "code",
   "execution_count": 7,
   "metadata": {},
   "outputs": [
    {
     "ename": "SyntaxError",
     "evalue": "invalid syntax (<ipython-input-7-2cf916df969a>, line 1)",
     "output_type": "error",
     "traceback": [
      "\u001b[1;36m  File \u001b[1;32m\"<ipython-input-7-2cf916df969a>\"\u001b[1;36m, line \u001b[1;32m1\u001b[0m\n\u001b[1;33m    datalist=[[1452,11.23,1+2j],\"true\",'w3resource',(0,-1),[5,12]{\"class\":'V',\"section\":A}]\u001b[0m\n\u001b[1;37m                                                                 ^\u001b[0m\n\u001b[1;31mSyntaxError\u001b[0m\u001b[1;31m:\u001b[0m invalid syntax\n"
     ]
    }
   ],
   "source": [
    "datalist=[[1452,11.23,1+2j],\"true\",'w3resource',(0,-1),[5,12]{\"class\":'V',\"section\":A}]\n",
    "for i in datalist:\n",
    "    print(type(i))"
   ]
  },
  {
   "cell_type": "code",
   "execution_count": 4,
   "metadata": {},
   "outputs": [
    {
     "name": "stdout",
     "output_type": "stream",
     "text": [
      "0\n",
      "1\n",
      "2\n",
      "4\n",
      "5\n"
     ]
    }
   ],
   "source": [
    "for i in range(7):\n",
    "    if i==3 or i==6:\n",
    "        continue\n",
    "    print(i)"
   ]
  },
  {
   "cell_type": "code",
   "execution_count": 33,
   "metadata": {},
   "outputs": [
    {
     "name": "stdout",
     "output_type": "stream",
     "text": [
      "fizz\n",
      "buzz\n",
      "fizz buzz\n",
      "0\n",
      "1\n",
      "2\n",
      "fizz\n",
      "3\n",
      "4\n",
      "buzz\n",
      "5\n",
      "fizz\n",
      "6\n",
      "7\n",
      "8\n",
      "fizz\n",
      "9\n",
      "buzz\n",
      "10\n",
      "11\n",
      "fizz\n",
      "12\n",
      "13\n",
      "14\n",
      "fizz\n",
      "buzz\n",
      "fizz buzz\n",
      "15\n",
      "16\n",
      "17\n",
      "fizz\n",
      "18\n",
      "19\n",
      "buzz\n",
      "20\n",
      "fizz\n",
      "21\n",
      "22\n",
      "23\n",
      "fizz\n",
      "24\n",
      "buzz\n",
      "25\n",
      "26\n",
      "fizz\n",
      "27\n",
      "28\n",
      "29\n",
      "fizz\n",
      "buzz\n",
      "fizz buzz\n",
      "30\n",
      "31\n",
      "32\n",
      "fizz\n",
      "33\n",
      "34\n",
      "buzz\n",
      "35\n",
      "fizz\n",
      "36\n",
      "37\n",
      "38\n",
      "fizz\n",
      "39\n",
      "buzz\n",
      "40\n",
      "41\n",
      "fizz\n",
      "42\n",
      "43\n",
      "44\n",
      "fizz\n",
      "buzz\n",
      "fizz buzz\n",
      "45\n",
      "46\n",
      "47\n",
      "fizz\n",
      "48\n",
      "49\n",
      "buzz\n",
      "50\n"
     ]
    }
   ],
   "source": [
    "for i in range(0,51):\n",
    "    if i%3==0:\n",
    "        print(\"fizz\")\n",
    "    if i%5==0:\n",
    "            print(\"buzz\") \n",
    "    if i%3==0 and i%5==0: \n",
    "        print(\"fizz buzz\")\n",
    "    print(i)\n",
    "    \n",
    "                "
   ]
  },
  {
   "cell_type": "code",
   "execution_count": 36,
   "metadata": {},
   "outputs": [
    {
     "ename": "SyntaxError",
     "evalue": "invalid syntax (<ipython-input-36-2ddab8238bd7>, line 3)",
     "output_type": "error",
     "traceback": [
      "\u001b[1;36m  File \u001b[1;32m\"<ipython-input-36-2ddab8238bd7>\"\u001b[1;36m, line \u001b[1;32m3\u001b[0m\n\u001b[1;33m    print(i,end\"\")\u001b[0m\n\u001b[1;37m                ^\u001b[0m\n\u001b[1;31mSyntaxError\u001b[0m\u001b[1;31m:\u001b[0m invalid syntax\n"
     ]
    }
   ],
   "source": [
    "for i in range(100,401):\n",
    "    if i%2==0:\n",
    "        print(i,end\"\")"
   ]
  },
  {
   "cell_type": "code",
   "execution_count": null,
   "metadata": {},
   "outputs": [],
   "source": []
  }
 ],
 "metadata": {
  "kernelspec": {
   "display_name": "Python 3",
   "language": "python",
   "name": "python3"
  },
  "language_info": {
   "codemirror_mode": {
    "name": "ipython",
    "version": 3
   },
   "file_extension": ".py",
   "mimetype": "text/x-python",
   "name": "python",
   "nbconvert_exporter": "python",
   "pygments_lexer": "ipython3",
   "version": "3.7.3"
  }
 },
 "nbformat": 4,
 "nbformat_minor": 2
}
