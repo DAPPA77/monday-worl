{
 "cells": [
  {
   "cell_type": "code",
   "execution_count": null,
   "metadata": {},
   "outputs": [],
   "source": [
    "\n",
    "datalist=[[1452, 11.23, 1+2j],True, 'w3resource',(0,-1),[5,12],{\"class\":'V', \"section\":\"A\"}]\n",
    "for i in datalist:\n",
    "    print(i)"
   ]
  },
  {
   "cell_type": "code",
   "execution_count": null,
   "metadata": {},
   "outputs": [],
   "source": [
    "def cypher(g):\n",
    "    alpha=list(\"abcdefghijklmnopqrstuvwxyz\")\n",
    "    b= alpha[-1]\n",
    "    return b\n",
    "\n",
    "    "
   ]
  },
  {
   "cell_type": "code",
   "execution_count": null,
   "metadata": {},
   "outputs": [],
   "source": [
    "def function(letter):\n",
    "    wo=input(\"enter a munber\")\n",
    "    a=\"\".join(word)\n",
    "    C=list(a)\n",
    "    d=C.pop(0)\n",
    "    z=a[-1]+d+a[1:-1]+ \"ay\"\n",
    "    return (z)\n"
   ]
  },
  {
   "cell_type": "code",
   "execution_count": null,
   "metadata": {},
   "outputs": [],
   "source": [
    "\n",
    "b=\"\"\n",
    "b+= \n",
    "print(b)"
   ]
  },
  {
   "cell_type": "code",
   "execution_count": null,
   "metadata": {},
   "outputs": [],
   "source": [
    "cypher(\"f\")"
   ]
  },
  {
   "cell_type": "code",
   "execution_count": null,
   "metadata": {},
   "outputs": [],
   "source": [
    "for i in range(7):\n",
    "    if i==3 or i==6:\n",
    "        continue\n",
    "        \n",
    "    print(i,end=\"\""
   ]
  },
  {
   "cell_type": "code",
   "execution_count": null,
   "metadata": {},
   "outputs": [],
   "source": [
    "for i in range(1,51):\n",
    "    if i%3==0 and i%5!=0:\n",
    "        print(\"fizz\")\n",
    "    elif i%5==0 and i%3!=0 :\n",
    "            print(\"buzz\") \n",
    "    elif i%3==0 and i%5==0: \n",
    "        print(\"fizz buzz\")\n",
    "    else:\n",
    "        print(i)\n",
    "    \n",
    "                "
   ]
  },
  {
   "cell_type": "code",
   "execution_count": null,
   "metadata": {},
   "outputs": [],
   "source": [
    "for i in range(100,401):\n",
    "    if i%2==0:\n",
    "        print(i,enthisd=\",\")"
   ]
  },
  {
   "cell_type": "code",
   "execution_count": null,
   "metadata": {},
   "outputs": [],
   "source": [
    "for number in range(100,401):\n",
    "    x=False\n",
    "    for digit in str(number):\n",
    "        if(int(digit)%2!=0):\n",
    "             x=True\n",
    "    if(not x):\n",
    "            print(number)"
   ]
  },
  {
   "cell_type": "code",
   "execution_count": null,
   "metadata": {},
   "outputs": [],
   "source": [
    "import random"
   ]
  },
  {
   "cell_type": "code",
   "execution_count": null,
   "metadata": {},
   "outputs": [],
   "source": [
    "random.randint(1,6)"
   ]
  },
  {
   "cell_type": "code",
   "execution_count": null,
   "metadata": {},
   "outputs": [],
   "source": [
    "import random"
   ]
  },
  {
   "cell_type": "code",
   "execution_count": null,
   "metadata": {},
   "outputs": [],
   "source": [
    "acct_number=\"00\"\n",
    "for i in range(8):\n",
    "    digit=random.randint(0,9)\n",
    "    acct_number=acct_number+str(digit)\n",
    "print(\"ur account number is\",acct_number)"
   ]
  },
  {
   "cell_type": "code",
   "execution_count": null,
   "metadata": {},
   "outputs": [],
   "source": [
    "import random\n",
    "for i in range(5):\n",
    "    nepa=\"821446\"\n",
    "    for i in range(6):\n",
    "        nepas=random.randint(0,9)\n",
    "        nepa=nepa+str(nepas)\n",
    "    print(nepa)"
   ]
  },
  {
   "cell_type": "code",
   "execution_count": null,
   "metadata": {},
   "outputs": [],
   "source": [
    "for i in range(20):\n",
    "    acct_number=\"00\"\n",
    "    for i in range(8):\n",
    "        digit=random.randint(0,9)\n",
    "        acct_number=acct_number+str(digit)\n",
    "    print(\"ur account number is\",acct_number)"
   ]
  },
  {
   "cell_type": "code",
   "execution_count": null,
   "metadata": {},
   "outputs": [],
   "source": [
    "import random"
   ]
  },
  {
   "cell_type": "code",
   "execution_count": null,
   "metadata": {},
   "outputs": [],
   "source": [
    "for g in range(9):\n",
    "    h=\"0\"\n",
    "    for i in range(6):\n",
    "        i=random.randint(0,8)\n",
    "        h=(str(i)+(h))   \n",
    "    print(h)"
   ]
  },
  {
   "cell_type": "code",
   "execution_count": null,
   "metadata": {},
   "outputs": [],
   "source": [
    "length=int(input(\"length_1\"))\n",
    "length_2=int(input(\"length_1\"))\n",
    "if length==length_2:\n",
    "    print(\"equilateral\")\n",
    "else:\n",
    "    print(\"another type\")"
   ]
  },
  {
   "cell_type": "code",
   "execution_count": null,
   "metadata": {},
   "outputs": [],
   "source": [
    "chess=[(input(\"enter position\")),(input(\"enter position\")),(input(\"enter position\"))]\n",
    "for i in chess:\n",
    "    if i==(\"b2\"):\n",
    "        print(\"white\")\n",
    "    if i!=(\"b2\"):\n",
    "        print(\"black\")\n"
   ]
  },
  {
   "cell_type": "code",
   "execution_count": null,
   "metadata": {},
   "outputs": [],
   "source": [
    "a=int(input(\"enter a number\"))\n",
    "b=int(input(\"enter a number\"))\n",
    "c=int(input(\"enter a number\"))        \n",
    "d=int(input(\"enter a number\"))\n",
    "peri=[float(a),float(b),float(c),float(d)] \n",
    "for i in peri:\n",
    "    i=((((a-b)**2)+((c-d)**2)**(1/2)))\n",
    "    if a==0 or b==0 or c==0 or d==0:\n",
    "        print(\"blank line\")\n",
    "        if a==()or b==():\n",
    "            print(a+b)\n",
    "        if c==() or d==():\n",
    "            m=(c+d)\n",
    "        print(i+m)\n"
   ]
  },
  {
   "cell_type": "markdown",
   "metadata": {},
   "source": [
    "## "
   ]
  },
  {
   "cell_type": "code",
   "execution_count": null,
   "metadata": {},
   "outputs": [],
   "source": [
    "import random"
   ]
  },
  {
   "cell_type": "code",
   "execution_count": null,
   "metadata": {},
   "outputs": [],
   "source": [
    "for r in range(10):\n",
    "    account_num=\"307\"\n",
    "    for i in range(6):\n",
    "        digit=random.randint(0,9)\n",
    "        account_num=(account_num + str(digit))\n",
    "    print( account_num)"
   ]
  },
  {
   "cell_type": "markdown",
   "metadata": {},
   "source": [
    "## list"
   ]
  },
  {
   "cell_type": "code",
   "execution_count": null,
   "metadata": {},
   "outputs": [],
   "source": [
    "numbers=[1,2,3,4,5]\n",
    "len(numbers)\n",
    "numbers[-3]"
   ]
  },
  {
   "cell_type": "markdown",
   "metadata": {},
   "source": [
    "slicing you want to get a subset of the list"
   ]
  },
  {
   "cell_type": "markdown",
   "metadata": {},
   "source": [
    "nameoflist[start:stop:step]"
   ]
  },
  {
   "cell_type": "code",
   "execution_count": null,
   "metadata": {},
   "outputs": [],
   "source": [
    "numbers[-5:-1:1]"
   ]
  },
  {
   "cell_type": "code",
   "execution_count": null,
   "metadata": {},
   "outputs": [],
   "source": [
    "numbers[::-1]"
   ]
  },
  {
   "cell_type": "markdown",
   "metadata": {},
   "source": [
    "## list methods"
   ]
  },
  {
   "cell_type": "code",
   "execution_count": null,
   "metadata": {},
   "outputs": [],
   "source": [
    "numbers.append(40)"
   ]
  },
  {
   "cell_type": "code",
   "execution_count": null,
   "metadata": {},
   "outputs": [],
   "source": [
    "daya=[1,2,3,3,4,5,6,6]\n",
    "daya.append(30)\n",
    "daya"
   ]
  },
  {
   "cell_type": "code",
   "execution_count": null,
   "metadata": {},
   "outputs": [],
   "source": [
    "daya.insert(1,2)"
   ]
  },
  {
   "cell_type": "code",
   "execution_count": null,
   "metadata": {},
   "outputs": [],
   "source": [
    "day"
   ]
  },
  {
   "cell_type": "code",
   "execution_count": null,
   "metadata": {},
   "outputs": [],
   "source": [
    "nums=[1]\n",
    "nums.extend([12,34])\n",
    "nums.extend(numbers[1:4])\n",
    "nums"
   ]
  },
  {
   "cell_type": "code",
   "execution_count": null,
   "metadata": {},
   "outputs": [],
   "source": [
    "numbersss=[]\n",
    "while True:\n",
    "    numberss=float(input(\"enter a number\"))\n",
    "    numbersss.append(numberss)\n",
    "    \n",
    "    \n"
   ]
  },
  {
   "cell_type": "code",
   "execution_count": null,
   "metadata": {},
   "outputs": [],
   "source": [
    "number=[]\n",
    "data=(input(\"a number\"))\n",
    "data_f=(input(\"a number\"))\n",
    "number=[data,data_f]\n",
    "print(max(number))\n",
    "print(min(number))"
   ]
  },
  {
   "cell_type": "code",
   "execution_count": null,
   "metadata": {},
   "outputs": [],
   "source": [
    "import random\n",
    "guess=random.randint(1,9)\n",
    "for i in range(10):\n",
    "    user=input(\"enter a number\")\n",
    "    if int(user)==guess:\n",
    "        print(\"u got it\")\n",
    "        break\n",
    "    else:\n",
    "        print(\"try again\")"
   ]
  },
  {
   "cell_type": "code",
   "execution_count": null,
   "metadata": {},
   "outputs": [],
   "source": [
    "n=(input(\"input a number\"))\n",
    "r=(input(\"input a number\"))\n",
    "count=([int(n),(int(n)-1),(int(n)-2),(int(n)-3),(int(n)-4),(int(n)-5),(int(n)-6),(int(n)-6),(int(n)-7),(int(n)-8),(int(n)-9)])\n",
    "while count[-1]<=0 :\n",
    "    if int(n)>5:\n",
    "        print[(int(count[0])*(int(count[1]))*(int(count[2]))*(int(count[3]))*(int(count[4]))*(int(count[5]))*(int(count[7])))]\n",
    "        if int(count[-1])<0:\n",
    "            pop()"
   ]
  },
  {
   "cell_type": "code",
   "execution_count": null,
   "metadata": {},
   "outputs": [],
   "source": [
    "price=[4.95,9.95,14.95,19.95,24.95]\n",
    "for i in price:\n",
    "    a=((60/100)*(i))\n",
    "    print((round(a,3)),i)"
   ]
  },
  {
   "cell_type": "code",
   "execution_count": null,
   "metadata": {},
   "outputs": [],
   "source": [
    "a=input(\"any word\")\n",
    "b=a[::-1]\n",
    "c=a.split()\n",
    "for i in c:\n",
    "    if i == b:\n",
    "        print(\"far\")"
   ]
  },
  {
   "cell_type": "code",
   "execution_count": null,
   "metadata": {},
   "outputs": [],
   "source": [
    "tup=(33,4,5,6,7,8,9,1,9,9)\n",
    "tup\n",
    "tup.count(9)"
   ]
  },
  {
   "cell_type": "code",
   "execution_count": null,
   "metadata": {},
   "outputs": [],
   "source": [
    "set={tup}\n",
    "set\n"
   ]
  },
  {
   "cell_type": "code",
   "execution_count": null,
   "metadata": {},
   "outputs": [],
   "source": [
    "import math\n",
    "basea=int(input(\"a number\"))\n",
    "print(f\"binary{basea:b}\")"
   ]
  },
  {
   "cell_type": "code",
   "execution_count": null,
   "metadata": {},
   "outputs": [],
   "source": [
    "0b11111"
   ]
  },
  {
   "cell_type": "code",
   "execution_count": null,
   "metadata": {},
   "outputs": [],
   "source": [
    "p=[1,2,3,4,5,6,7,8,9,0]\n",
    "for i in p:\n",
    "    n=[1,2,3,4,5,6,7,8,9,0]\n",
    "    print(i)\n",
    "    for b in n:\n",
    "        if b*i==0:\n",
    "            continue\n",
    "        print(b*i,end=\"\")\n",
    "    \n",
    "    "
   ]
  },
  {
   "cell_type": "code",
   "execution_count": null,
   "metadata": {},
   "outputs": [],
   "source": [
    "n=input(\"enter a number\")\n",
    "for i in n:\n",
    "    a=(bin(int(i)))\n",
    "    \n",
    "        \n",
    "    "
   ]
  },
  {
   "cell_type": "code",
   "execution_count": null,
   "metadata": {},
   "outputs": [],
   "source": [
    "person={\"name\":\"smith\",\"age\":45,\"marital\":\"married\",\"likes\":[\"travelling\",\"singing\"]}"
   ]
  },
  {
   "cell_type": "code",
   "execution_count": null,
   "metadata": {},
   "outputs": [],
   "source": [
    "type(person)"
   ]
  },
  {
   "cell_type": "raw",
   "metadata": {},
   "source": [
    "person[\"age\"]"
   ]
  },
  {
   "cell_type": "code",
   "execution_count": null,
   "metadata": {},
   "outputs": [],
   "source": [
    "person[\"age\"]=32"
   ]
  },
  {
   "cell_type": "code",
   "execution_count": null,
   "metadata": {},
   "outputs": [],
   "source": [
    "person[\"age\"]"
   ]
  },
  {
   "cell_type": "code",
   "execution_count": null,
   "metadata": {},
   "outputs": [],
   "source": [
    "person[\"likes\"].append(\"cooking\")"
   ]
  },
  {
   "cell_type": "code",
   "execution_count": null,
   "metadata": {},
   "outputs": [],
   "source": [
    "person"
   ]
  },
  {
   "cell_type": "code",
   "execution_count": null,
   "metadata": {},
   "outputs": [],
   "source": [
    "person[\"likes\"]=person[\"likes\"]+[\"swimming\"]"
   ]
  },
  {
   "cell_type": "code",
   "execution_count": null,
   "metadata": {},
   "outputs": [],
   "source": [
    "person"
   ]
  },
  {
   "cell_type": "markdown",
   "metadata": {},
   "source": [
    "# problem129"
   ]
  },
  {
   "cell_type": "code",
   "execution_count": null,
   "metadata": {},
   "outputs": [],
   "source": [
    "codes"
   ]
  },
  {
   "cell_type": "code",
   "execution_count": null,
   "metadata": {},
   "outputs": [],
   "source": [
    "def avg(a,b,c):\n",
    "    ans=(a+b+c)/3\n",
    "    print(ans)   "
   ]
  },
  {
   "cell_type": "code",
   "execution_count": null,
   "metadata": {},
   "outputs": [],
   "source": [
    "avg(3,4,5)"
   ]
  },
  {
   "cell_type": "code",
   "execution_count": null,
   "metadata": {},
   "outputs": [],
   "source": [
    "avg(3,5,10)"
   ]
  },
  {
   "cell_type": "code",
   "execution_count": null,
   "metadata": {},
   "outputs": [],
   "source": [
    "def age(a):\n",
    "    year=2022-a\n",
    "    print(year)"
   ]
  },
  {
   "cell_type": "code",
   "execution_count": null,
   "metadata": {},
   "outputs": [],
   "source": [
    "age(22)"
   ]
  },
  {
   "cell_type": "code",
   "execution_count": null,
   "metadata": {},
   "outputs": [],
   "source": [
    "def age(b):\n",
    "    year=2024-b\n",
    "    print(year)\n",
    "       "
   ]
  },
  {
   "cell_type": "code",
   "execution_count": null,
   "metadata": {},
   "outputs": [],
   "source": [
    "age(20)"
   ]
  },
  {
   "cell_type": "code",
   "execution_count": null,
   "metadata": {},
   "outputs": [],
   "source": [
    "person={\"name\":\"smith\",\"age\":64,\"marital satus\":\"single\",\"likes\":[\"singlurality\"]}"
   ]
  },
  {
   "cell_type": "code",
   "execution_count": null,
   "metadata": {},
   "outputs": [],
   "source": [
    "person[\"likes\"].append(\"dope\")"
   ]
  },
  {
   "cell_type": "code",
   "execution_count": null,
   "metadata": {},
   "outputs": [],
   "source": [
    "person[\"likes\"]"
   ]
  },
  {
   "cell_type": "code",
   "execution_count": null,
   "metadata": {},
   "outputs": [],
   "source": [
    "person[\"state of origin\"]=\"rivers\""
   ]
  },
  {
   "cell_type": "code",
   "execution_count": null,
   "metadata": {},
   "outputs": [],
   "source": [
    "person"
   ]
  },
  {
   "cell_type": "code",
   "execution_count": null,
   "metadata": {},
   "outputs": [],
   "source": [
    "def fuction(word): \n",
    "    n=0\n",
    "    if \"a\" in word:\n",
    "        n=(n+1)\n",
    "    elif\"e\" in word:\n",
    "        n=(n+1)\n",
    "        print(n)\n",
    "            \n",
    "        \n",
    "     "
   ]
  },
  {
   "cell_type": "code",
   "execution_count": null,
   "metadata": {},
   "outputs": [],
   "source": [
    "fuction(\"iamabeoy\")"
   ]
  },
  {
   "cell_type": "code",
   "execution_count": null,
   "metadata": {},
   "outputs": [],
   "source": [
    "a=int(input(\"one side\"))\n",
    "b=int(input(\"one side\"))\n",
    "def function(a,b):\n",
    "    c=(((a**2)+(b**2))**(1/2))\n",
    "    print(c)"
   ]
  },
  {
   "cell_type": "code",
   "execution_count": null,
   "metadata": {},
   "outputs": [],
   "source": [
    "function(a,b)"
   ]
  },
  {
   "cell_type": "code",
   "execution_count": null,
   "metadata": {},
   "outputs": [],
   "source": [
    "a=int(input(\"distance in km\"))\n",
    "def function(a):\n",
    "    c=4\n",
    "    b=0.14\n",
    "    if b>=0.14:\n",
    "        c=(c+0.25)"
   ]
  },
  {
   "cell_type": "code",
   "execution_count": null,
   "metadata": {},
   "outputs": [],
   "source": [
    "function(a)"
   ]
  },
  {
   "cell_type": "code",
   "execution_count": null,
   "metadata": {},
   "outputs": [],
   "source": [
    "d=(input(\"no of items\"))\n",
    "def price(d):\n",
    "    e={\"1\":\"10 d0llars\",\"2\":\"2 d0llars\" }\n",
    "    for i in e:\n",
    "        c=e[d]\n",
    "    print(c)"
   ]
  },
  {
   "cell_type": "code",
   "execution_count": null,
   "metadata": {},
   "outputs": [],
   "source": [
    "price(d)"
   ]
  },
  {
   "cell_type": "code",
   "execution_count": null,
   "metadata": {},
   "outputs": [],
   "source": [
    "a=int(input(\"enter a number\"))\n",
    "b=int(input(\"enter a number\"))\n",
    "c=int(input(\"enter a number\"))\n",
    "def mean(a,b,c):\n",
    "    med=[a,b,c]\n",
    "    print(max(med))\n",
    "    print(min(med))\n",
    "    if  b!=(min(med))and b!=(max(med)):\n",
    "        print(b)\n",
    "    \n",
    "        "
   ]
  },
  {
   "cell_type": "code",
   "execution_count": null,
   "metadata": {},
   "outputs": [],
   "source": [
    "mean(a,b,c)"
   ]
  },
  {
   "cell_type": "code",
   "execution_count": null,
   "metadata": {},
   "outputs": [],
   "source": [
    "def function(a):\n",
    "    a=(input(\"a number\"))\n",
    "    c={\"1\":\"one\",2:\"two\"}\n",
    "    for i in a:\n",
    "        b=c[a]\n",
    "    print(b)\n",
    "    \n",
    "    \n"
   ]
  },
  {
   "cell_type": "code",
   "execution_count": null,
   "metadata": {},
   "outputs": [],
   "source": [
    "function(1)"
   ]
  },
  {
   "cell_type": "code",
   "execution_count": null,
   "metadata": {},
   "outputs": [],
   "source": [
    "a=range(13)\n",
    "print(a)"
   ]
  },
  {
   "cell_type": "code",
   "execution_count": null,
   "metadata": {},
   "outputs": [],
   "source": [
    "\n",
    "n=input(\"a sentence\")\n",
    "def function(n):\n",
    "    c=0\n",
    "    for i in n:\n",
    "        if i==\"a\" or i==\"e\" or i==\"i\" or i==\"o\" or i==\"u\":\n",
    "            c+=1\n",
    "    print(c)\n",
    "        \n",
    "        "
   ]
  },
  {
   "cell_type": "code",
   "execution_count": null,
   "metadata": {},
   "outputs": [],
   "source": [
    "function(n)"
   ]
  },
  {
   "cell_type": "code",
   "execution_count": null,
   "metadata": {},
   "outputs": [],
   "source": [
    "if \"i\" in \"king\":\n",
    "    print(\"true\")\n"
   ]
  },
  {
   "cell_type": "code",
   "execution_count": null,
   "metadata": {},
   "outputs": [],
   "source": [
    "person={\"name\":\"amith\",\"class\":\"jss3\"}\n",
    "person[\"name\"]"
   ]
  },
  {
   "cell_type": "code",
   "execution_count": null,
   "metadata": {},
   "outputs": [],
   "source": [
    "person[\"class\"]=\"ss1\""
   ]
  },
  {
   "cell_type": "code",
   "execution_count": null,
   "metadata": {},
   "outputs": [],
   "source": [
    "person[\"class\"]"
   ]
  },
  {
   "cell_type": "code",
   "execution_count": null,
   "metadata": {},
   "outputs": [],
   "source": [
    "person[\"state of origin\"]=\"bayelse\""
   ]
  },
  {
   "cell_type": "code",
   "execution_count": null,
   "metadata": {},
   "outputs": [],
   "source": [
    "person"
   ]
  },
  {
   "cell_type": "code",
   "execution_count": null,
   "metadata": {},
   "outputs": [],
   "source": [
    "christmas={\"first day\":\"a patridge in a pear tree\" ,\"\":\"two turtle dove and a patridge in a pear tree\"}\n",
    "c=input(\"day\")\n",
    "def harmony(a):\n",
    "    c=input(\"day\")\n",
    "    for i in c:\n",
    "        b=christmas[c]\n",
    "    print(b)"
   ]
  },
  {
   "cell_type": "code",
   "execution_count": null,
   "metadata": {},
   "outputs": [],
   "source": [
    "harmony(c)"
   ]
  },
  {
   "cell_type": "code",
   "execution_count": null,
   "metadata": {},
   "outputs": [],
   "source": [
    "n=input(\"a sentence\")\n",
    "def gate(n):\n",
    "    v=0\n",
    "    a=len(n)\n",
    "    c=0\n",
    "    for i in n:\n",
    "        if i==\"a\" or i==\"e\" or i==\"i\" or i==\"o\" or i==\"u\":\n",
    "            v=v+1\n",
    "        elif i!=\"a\" or i!=\"e\" or i!=\"i\" or i!=\"o\" or i!=\"u\":\n",
    "            c=c+1\n",
    "        d=(v/a,c/a)\n",
    "    print(d)\n",
    "    "
   ]
  },
  {
   "cell_type": "code",
   "execution_count": null,
   "metadata": {},
   "outputs": [],
   "source": [
    "gate(n)"
   ]
  },
  {
   "cell_type": "code",
   "execution_count": null,
   "metadata": {},
   "outputs": [],
   "source": [
    "a=int(input(\"a side\"))\n",
    "b=int(input(\"a side\"))\n",
    "c=int(input(\"a side\"))\n",
    "def tri(a,b,c):\n",
    "    while True:\n",
    "        if a>=(b+c) or b>=(a+c) or c>=(a+b):\n",
    "            print(False)\n",
    "        break\n",
    "        else:\n",
    "            print(True)\n",
    "        break"
   ]
  },
  {
   "cell_type": "code",
   "execution_count": null,
   "metadata": {},
   "outputs": [],
   "source": [
    "tri(a,b,c)"
   ]
  },
  {
   "cell_type": "code",
   "execution_count": null,
   "metadata": {},
   "outputs": [],
   "source": [
    "a=int(input(\"a side\"))\n",
    "b=int(input(\"a side\"))\n",
    "c=[a,b]\n",
    "d=min(c)\n",
    "while d%a!=0 or d%b!=0:\n",
    "    d=d-1\n",
    "     d%a==0 and d%b==0:\n",
    "        print(d)\n",
    "        break\n",
    "    \n",
    "    "
   ]
  },
  {
   "cell_type": "markdown",
   "metadata": {},
   "source": [
    "use return instead of print"
   ]
  },
  {
   "cell_type": "code",
   "execution_count": null,
   "metadata": {},
   "outputs": [],
   "source": [
    "def r(distance):\n",
    "    basefare=4\n",
    "    \n",
    "    "
   ]
  },
  {
   "cell_type": "code",
   "execution_count": null,
   "metadata": {},
   "outputs": [],
   "source": [
    "a=int(input(\"a side\"))\n",
    "rr=range(1,a+1)\n",
    "for i in rr: \n",
    "        if i%i==0 and i%1==0 and a%i==0:\n",
    "                print(i)\n",
    "        else:\n",
    "            i=i+1\n",
    "\n",
    "\n"
   ]
  },
  {
   "cell_type": "code",
   "execution_count": null,
   "metadata": {},
   "outputs": [],
   "source": [
    "range(1,7)\n",
    "for i in range(1,7):\n",
    "    print(i)"
   ]
  },
  {
   "cell_type": "code",
   "execution_count": null,
   "metadata": {},
   "outputs": [],
   "source": [
    "import random"
   ]
  },
  {
   "cell_type": "code",
   "execution_count": null,
   "metadata": {},
   "outputs": [],
   "source": [
    "random.randrange(100)\n",
    "a=random.randrange(100)\n",
    "b=range(1,101)\n",
    "for i in b:\n",
    "    if i>a:\n",
    "        a=i\n",
    "print(a)\n",
    "\n"
   ]
  },
  {
   "cell_type": "code",
   "execution_count": null,
   "metadata": {},
   "outputs": [],
   "source": [
    "def tun(n):\n",
    "    n=input(\"a sentence\")\n",
    "    for i in n:\n",
    "        if i.isupper():\n",
    "            for a in i.isupper:\n",
    "                print(a.lo\n",
    "            \n",
    "            print(b,end=\"\")"
   ]
  },
  {
   "cell_type": "code",
   "execution_count": null,
   "metadata": {},
   "outputs": [],
   "source": [
    "tun(\"thIs Is me\")"
   ]
  },
  {
   "cell_type": "code",
   "execution_count": null,
   "metadata": {},
   "outputs": [],
   "source": [
    "from random import choice"
   ]
  },
  {
   "cell_type": "code",
   "execution_count": null,
   "metadata": {},
   "outputs": [],
   "source": [
    "import random\n",
    "for i in range(13):\n",
    "    a=[\"heads\",\"talis\"]\n",
    "    for c in a:\n",
    "        b=choice(a)\n",
    "        while random.randrange(b)=\"heads\"\n",
    "        \n",
    "    "
   ]
  },
  {
   "cell_type": "code",
   "execution_count": null,
   "metadata": {},
   "outputs": [],
   "source": [
    "def comment(content,name=None):\n",
    "    return f\"{name}=>{content}\""
   ]
  },
  {
   "cell_type": "code",
   "execution_count": null,
   "metadata": {},
   "outputs": [],
   "source": [
    "comment(\"he is mad\")"
   ]
  },
  {
   "cell_type": "code",
   "execution_count": null,
   "metadata": {},
   "outputs": [],
   "source": [
    "def function(n):\n",
    "    li=[[3,2,4,9],[4,2,5,3]]\n",
    "    a=int(input(\"no of rows\"))\n",
    "    n=input(\"rows\")\n",
    "    b={\"row_1\":li[a],\"row_2\":li[a]}\n",
    "    for i in n:\n",
    "       c=b[n]\n",
    "    return c"
   ]
  },
  {
   "cell_type": "code",
   "execution_count": null,
   "metadata": {},
   "outputs": [],
   "source": [
    "function(\"c\")"
   ]
  },
  {
   "cell_type": "code",
   "execution_count": null,
   "metadata": {},
   "outputs": [],
   "source": [
    "max(function(\"c\")) "
   ]
  },
  {
   "cell_type": "code",
   "execution_count": null,
   "metadata": {},
   "outputs": [],
   "source": [
    "import random\n",
    "def function(b):\n",
    "    d=chr(int(input(\"input\")))\n",
    "    for i in range(9):\n",
    "        a=(random.randrange(15))\n",
    "        b=chr(a)\n",
    "        c=ord(b)\n",
    "        return c\n",
    "        \n",
    "        "
   ]
  },
  {
   "cell_type": "code",
   "execution_count": null,
   "metadata": {},
   "outputs": [],
   "source": [
    "function(10)"
   ]
  },
  {
   "cell_type": "code",
   "execution_count": null,
   "metadata": {},
   "outputs": [],
   "source": [
    "for i in range(4):\n",
    "    d=random.randrange(3)\n",
    "    c=random"
   ]
  },
  {
   "cell_type": "code",
   "execution_count": null,
   "metadata": {},
   "outputs": [],
   "source": [
    "for r in range(10):\n",
    "    account_num=\"307\"\n",
    "    for i in range(6):\n",
    "        digit=random.randint(0,9)\n",
    "    print(i)"
   ]
  },
  {
   "cell_type": "code",
   "execution_count": null,
   "metadata": {},
   "outputs": [],
   "source": [
    "t=open(\"artwork.txt\")"
   ]
  },
  {
   "cell_type": "code",
   "execution_count": null,
   "metadata": {},
   "outputs": [],
   "source": [
    "import pandas"
   ]
  },
  {
   "cell_type": "raw",
   "metadata": {},
   "source": [
    "t=open(\"artwork.txt\",\"r\")"
   ]
  },
  {
   "cell_type": "code",
   "execution_count": null,
   "metadata": {},
   "outputs": [],
   "source": [
    "n=int(input(\"a number\"))\n",
    "b=int(input(\"a number\"))\n",
    "c=[a,b]\n",
    "for i in c:\n",
    "    if i==0:\n",
    "        continue\n",
    "    else:\n",
    "        print(\\n(i))\n",
    "c.  "
   ]
  },
  {
   "cell_type": "code",
   "execution_count": null,
   "metadata": {},
   "outputs": [],
   "source": [
    "lis=[]\n",
    "num=int(input(\"no\"))\n",
    "for i in range(1,num+1):\n",
    "    val=int(input(\"no\"))\n",
    "    lis.append(val)\n",
    "lis.sort()\n",
    "print(lis[4])"
   ]
  },
  {
   "cell_type": "code",
   "execution_count": null,
   "metadata": {},
   "outputs": [],
   "source": [
    "lis=[]\n",
    "n=int(input(\"how\"))\n",
    "for i in range(1,num+1):\n",
    "    c=int(input(\"h\"))\n",
    "    if c==0:\n",
    "        continue\n",
    "    lis.append(c)\n",
    "lis.sort()\n",
    "print(lis[5])\n",
    "len(lis)"
   ]
  },
  {
   "cell_type": "code",
   "execution_count": null,
   "metadata": {},
   "outputs": [],
   "source": [
    "lis=[]\n",
    "no=int(input(\"n\"))\n",
    "for i in range(1,no+1):\n",
    "    c=int(input())\n",
    "    lis.append(c)\n",
    "    \n",
    "lis.sort()\n",
    "lis.remove(lis[no-1])\n",
    "print(lis)\n",
    "    \n",
    "    \n",
    "\n",
    "    "
   ]
  },
  {
   "cell_type": "code",
   "execution_count": null,
   "metadata": {},
   "outputs": [],
   "source": [
    "\n",
    "n=[]\n",
    "for i in range(6):\n",
    "    c=input(\"a number\")\n",
    "    n.append(c)\n",
    "    \n",
    "    for i in n:\n",
    "        a=n.count(i)\n",
    "        if a>1:\n",
    "            n.remove(i\n",
    "                    )\n",
    "    print(n)"
   ]
  },
  {
   "cell_type": "code",
   "execution_count": null,
   "metadata": {},
   "outputs": [],
   "source": [
    "def function(a):\n",
    "    d=[]\n",
    "    n=int(input(\"a number\"))\n",
    "    for i in range(1,n-1):\n",
    "        if n%i==0:\n",
    "            print(i)\n",
    "            d.append(i)\n",
    "    print(sum(d))"
   ]
  },
  {
   "cell_type": "code",
   "execution_count": null,
   "metadata": {},
   "outputs": [],
   "source": [
    "function(10)"
   ]
  },
  {
   "cell_type": "code",
   "execution_count": null,
   "metadata": {},
   "outputs": [],
   "source": [
    "def fun (a,b):\n",
    "    a=ord(input(\"a number\"))\n",
    "    b=int(input(\"a number\"))\n",
    "    \n",
    "    return (a,b)    "
   ]
  },
  {
   "cell_type": "code",
   "execution_count": null,
   "metadata": {},
   "outputs": [],
   "source": [
    "fun(3,7)"
   ]
  },
  {
   "cell_type": "code",
   "execution_count": null,
   "metadata": {},
   "outputs": [],
   "source": [
    "lis=[]\n",
    "for i in range(7):\n",
    "    n=int(input(\"enter a number\"))\n",
    "    lis.append(n)\n",
    "lis.sort()\n",
    "lis.reverse()\n",
    "print(lis)"
   ]
  },
  {
   "cell_type": "code",
   "execution_count": null,
   "metadata": {},
   "outputs": [],
   "source": [
    "\n",
    "    lis=[]\n",
    "    for i in range():\n",
    "        n=int(input(\"a number\"))\n",
    "        for i in range(1,n-1):\n",
    "            if n%i==0:\n",
    "                print(i)\n",
    "                lis.append(i)\n",
    "                c=sum(lis)\n",
    "    print(c)\n",
    "    \n",
    "            "
   ]
  },
  {
   "cell_type": "code",
   "execution_count": null,
   "metadata": {},
   "outputs": [],
   "source": [
    "file=open(\"my file.txt\")"
   ]
  },
  {
   "cell_type": "code",
   "execution_count": null,
   "metadata": {},
   "outputs": [],
   "source": [
    "try:\n",
    "    file=open(\"my file.txt\") \n",
    "except FileNotFoundError:\n",
    "    print(\"no such file exist\")"
   ]
  },
  {
   "cell_type": "code",
   "execution_count": null,
   "metadata": {},
   "outputs": [],
   "source": [
    "try:\n",
    "    file=open(\"my file.txt\") \n",
    "except FileNotFoundError:\n",
    "    \n",
    "    file=open(\"my file.txt\",mode=\"w\") \n",
    "    "
   ]
  },
  {
   "cell_type": "code",
   "execution_count": null,
   "metadata": {},
   "outputs": [],
   "source": [
    "file=open(\"my file.txt\",mode=\"w\")\n",
    "file.write(\"this is the first content\")\n",
    "file.close()"
   ]
  },
  {
   "cell_type": "code",
   "execution_count": null,
   "metadata": {},
   "outputs": [],
   "source": [
    "file=open(\"my file.txt\",mode=\"w\")\n",
    "file.write(\"this is the second content\")\n",
    "file.close()"
   ]
  },
  {
   "cell_type": "code",
   "execution_count": null,
   "metadata": {},
   "outputs": [],
   "source": [
    "file=open(\"my file.txt\",mode=\"a\")\n",
    "file.write(\"\\nthis is the second content\")\n",
    "file.close()"
   ]
  },
  {
   "cell_type": "code",
   "execution_count": null,
   "metadata": {},
   "outputs": [],
   "source": [
    "import math\n",
    "Factorial"
   ]
  },
  {
   "cell_type": "code",
   "execution_count": null,
   "metadata": {},
   "outputs": [],
   "source": [
    "\n",
    "n=input(\"a grade\")\n",
    "for i in n:\n",
    "    lis={\"a\":range(70,100),\"b\":range(60,70)}\n",
    "print(lis[n])"
   ]
  },
  {
   "cell_type": "code",
   "execution_count": null,
   "metadata": {},
   "outputs": [],
   "source": [
    "range(100)"
   ]
  },
  {
   "cell_type": "code",
   "execution_count": null,
   "metadata": {},
   "outputs": [],
   "source": []
  },
  {
   "cell_type": "code",
   "execution_count": null,
   "metadata": {},
   "outputs": [],
   "source": [
    "m=int(input(\"a number\"))\n",
    "n=range(1,m+1)\n",
    "lsi=[]\n",
    "for i in n:\n",
    "    if m%i==0:\n",
    "        print(i)\n",
    "        lsi.append(i)\n",
    "print(lsi)"
   ]
  },
  {
   "cell_type": "code",
   "execution_count": null,
   "metadata": {},
   "outputs": [],
   "source": [
    "import math\n",
    "basea=int(input(\"a number\"))\n",
    "print(f\"binary{basea:b}\")"
   ]
  },
  {
   "cell_type": "code",
   "execution_count": null,
   "metadata": {},
   "outputs": [],
   "source": [
    "bin(basea)"
   ]
  },
  {
   "cell_type": "code",
   "execution_count": null,
   "metadata": {},
   "outputs": [],
   "source": [
    "m=int(input(\"a number\"))\n",
    "n=math.factorial(m)\n",
    "print(n)"
   ]
  },
  {
   "cell_type": "code",
   "execution_count": null,
   "metadata": {},
   "outputs": [],
   "source": [
    "a=int(input(\"a syd\"))\n",
    "c=math.degree(a)\n",
    "b=int(input(\"a syd\"))\n",
    "d=math.degree(b)\n",
    "if c+d==int(0.25):\n",
    "    print(\"compliment\")"
   ]
  },
  {
   "cell_type": "code",
   "execution_count": null,
   "metadata": {},
   "outputs": [],
   "source": [
    "area=((s*(s-a))*(s-b)*(s-c))*(1/2)"
   ]
  },
  {
   "cell_type": "code",
   "execution_count": null,
   "metadata": {},
   "outputs": [],
   "source": [
    "for i in range(11):\n",
    "    for m in range(100):\n",
    "        if i * i==m:\n",
    "            print(m)\n",
    "            \n",
    "        "
   ]
  },
  {
   "cell_type": "markdown",
   "metadata": {},
   "source": [
    "rstrip"
   ]
  },
  {
   "cell_type": "code",
   "execution_count": null,
   "metadata": {},
   "outputs": [],
   "source": [
    "x=int(input(\"a point\"))\n",
    "y=[1,2]\n",
    "for i in y:\n",
    "    print(y[1]-y[0])"
   ]
  },
  {
   "cell_type": "code",
   "execution_count": null,
   "metadata": {},
   "outputs": [],
   "source": [
    "import math\n",
    "x=int(input(\"a point\"))\n",
    "r=int(input(\"a point\"))\n",
    "p=math.factorial(x)\n",
    "g=math.factorial(r)\n",
    "c=p/math.factorial(x-r)\n",
    "print(c)"
   ]
  },
  {
   "cell_type": "code",
   "execution_count": null,
   "metadata": {},
   "outputs": [],
   "source": [
    "n=int(input(\"a point\"))\n",
    "lsi={range(0,90):\"ist\"\n",
    ",\"2nd\":180}\n",
    "if n <90:\n",
    "    c=math.sin(n)\n",
    "    print(lsi[n])"
   ]
  },
  {
   "cell_type": "code",
   "execution_count": null,
   "metadata": {},
   "outputs": [],
   "source": [
    "main=Tk()\n",
    "main.mainloop()"
   ]
  },
  {
   "cell_type": "code",
   "execution_count": null,
   "metadata": {},
   "outputs": [],
   "source": [
    "from tkinter import *\n",
    "main=Tk()\n",
    "Label(main,text=\"name\").pack()\n",
    "Entry(main).pack()\n",
    "Label(main,text=\"age\").pack()\n",
    "Entry(main).pack()\n",
    "Button(main,text=\"Submit\").pack()\n",
    "main.mainloop()"
   ]
  },
  {
   "cell_type": "code",
   "execution_count": null,
   "metadata": {},
   "outputs": [],
   "source": [
    "n=i(input(\"a nnumber\"))nt\n",
    "lis={n:\"first quadrant\",a:\"ssecond\"}\n",
    "if n<=91:\n",
    "    print(lis[n])\n",
    "if n>90:\n",
    "    print(lis[n])"
   ]
  },
  {
   "cell_type": "code",
   "execution_count": null,
   "metadata": {},
   "outputs": [],
   "source": [
    "import random\n",
    "n=(int(input(\"a number\")))\n",
    "c=random.randint(1,10)\n",
    "if i==c:\n",
    "    print(i)\n",
    "    print(c)\n",
    "    print(\"nice one\")"
   ]
  },
  {
   "cell_type": "code",
   "execution_count": null,
   "metadata": {},
   "outputs": [],
   "source": [
    "def startswithAlimi(name):return True if name.startswith(alimi) else False"
   ]
  },
  {
   "cell_type": "code",
   "execution_count": null,
   "metadata": {},
   "outputs": [],
   "source": [
    "def do3(fn):\n",
    "    for i in range(3):\n",
    "        fn()"
   ]
  },
  {
   "cell_type": "code",
   "execution_count": null,
   "metadata": {},
   "outputs": [],
   "source": [
    "def printmessage():\n",
    "    print(\"hello dear\")"
   ]
  },
  {
   "cell_type": "code",
   "execution_count": null,
   "metadata": {},
   "outputs": [],
   "source": [
    "printmessage()"
   ]
  },
  {
   "cell_type": "code",
   "execution_count": null,
   "metadata": {},
   "outputs": [],
   "source": [
    "do3(printmessage)"
   ]
  },
  {
   "cell_type": "code",
   "execution_count": null,
   "metadata": {},
   "outputs": [],
   "source": [
    "def theupper(a):\n",
    "    def inner(x):\n",
    "        return a+x\n",
    "    return inner"
   ]
  },
  {
   "cell_type": "code",
   "execution_count": null,
   "metadata": {},
   "outputs": [],
   "source": [
    "theupper(4)(8)"
   ]
  },
  {
   "cell_type": "code",
   "execution_count": null,
   "metadata": {},
   "outputs": [],
   "source": [
    "from tkinter import*\n",
    "root=Tk()\n",
    "root.mainloop()"
   ]
  },
  {
   "cell_type": "code",
   "execution_count": null,
   "metadata": {},
   "outputs": [],
   "source": [
    "main=Tk()\n",
    "Label(main,text=\"name\").pack()\n",
    "Entry(main).pack()\n",
    "main.mainloop()"
   ]
  },
  {
   "cell_type": "code",
   "execution_count": null,
   "metadata": {},
   "outputs": [],
   "source": [
    "root=Tk()\n",
    "x=Label(root,text=\"hello world\")\n",
    "x.pack()\n",
    "e=Entry(root).pack()\n",
    "e.get()\n",
    "e.insert(0,\"enter ur name\")\n",
    "root.mainloop()"
   ]
  },
  {
   "cell_type": "code",
   "execution_count": null,
   "metadata": {},
   "outputs": [],
   "source": [
    "root=Tk()\n",
    "x=Label(root,text=\"hello world\")\n",
    "x.grid(row=0,column=0)\n",
    "b=Label(root,text=\"dope\")\n",
    "b.grid(row=1,column=1)\n",
    "root.mainloop()"
   ]
  },
  {
   "cell_type": "code",
   "execution_count": null,
   "metadata": {},
   "outputs": [],
   "source": [
    "root=Tk()\n",
    "\n",
    "def click():\n",
    "    x=Label(root,text=e.get())\n",
    "    x.pack()\n",
    "Button(root,text=\"click me\",padx=50,pady=70,command=click).pack()\n",
    "root.mainloop()"
   ]
  },
  {
   "cell_type": "code",
   "execution_count": null,
   "metadata": {},
   "outputs": [],
   "source": [
    "from random import choice\n",
    "def function():\n",
    "    lis=[\"yellow\",\"blue\",\"red\",\"grey\"]\n",
    "    choice(lis)\n",
    "    \n",
    "    root.config(bg=choice(lis))\n",
    "\n",
    "from tkinter import*\n",
    "root=Tk(className=\"colour game\")\n",
    "c=Label(root,text=\"pick a colour\").pack()\n",
    "Button(root,text=\"click\",command=function).pack()\n",
    "result=Label(root)\n",
    "result.pack()\n",
    "\n",
    "root.mainloop()"
   ]
  },
  {
   "cell_type": "code",
   "execution_count": null,
   "metadata": {},
   "outputs": [],
   "source": [
    "function()"
   ]
  },
  {
   "cell_type": "code",
   "execution_count": null,
   "metadata": {},
   "outputs": [],
   "source": [
    "from random import choice\n",
    "def function():\n",
    "    list=[\"yellow\",\"blue\",\"red\",\"grey\"]\n",
    "    a=choice(list)\n",
    "    return a"
   ]
  },
  {
   "cell_type": "code",
   "execution_count": null,
   "metadata": {},
   "outputs": [],
   "source": [
    "def func(a,b):\n",
    "    a=int(x.get())\n",
    "    b=int(c.get())\n",
    "    p=a+b\n",
    "    result[\"text\"]=str(p)\n",
    "from tkinter import *\n",
    "root=Tk()\n",
    "f=Frame(root)\n",
    "f.pack()\n",
    "g=Frame(root)\n",
    "g.pack()\n",
    "y=Frame(root)\n",
    "y.pack()\n",
    "b=Label(f,text=\"enter a number\")\n",
    "b.pack()\n",
    "c=Entry(f)\n",
    "c.pack\n",
    "result=Label(g,bg=\"grey\").pack()\n",
    "x=Entry(g)\n",
    "x.pack()\n",
    "\n",
    "Button(root,text=\"damn\",command=func).pack()\n",
    "root.mainloop()\n",
    "\n",
    "\n"
   ]
  },
  {
   "cell_type": "code",
   "execution_count": null,
   "metadata": {},
   "outputs": [],
   "source": [
    "func(3,8)"
   ]
  },
  {
   "cell_type": "raw",
   "metadata": {},
   "source": []
  },
  {
   "cell_type": "code",
   "execution_count": null,
   "metadata": {},
   "outputs": [],
   "source": [
    "\n",
    "def function():\n",
    "    lis={\"mul\":(int(c.get())*int(d.get())),\"sub\":(int(c.get())-int(d.get())),\"add\":(int(c.get())+int(d.get()))}\n",
    "    reward[\"text\"]=(lis[\"mul\"])\n",
    "    mark[\"text\"]=(lis[\"sub\"])\n",
    "    new[\"text\"]=(lis[\"add\"])\n",
    "root=Tk()\n",
    "m=Label(root,text=\"arithmetic\")\n",
    "m.pack()\n",
    "c=Entry(root)\n",
    "c.pack()\n",
    "b=Label(root,text=\"ar\")\n",
    "b.pack\n",
    "d=Entry(root,)\n",
    "d.pack()\n",
    "reward=Label(root,text=\"multiply\")\n",
    "reward.pack()\n",
    "mark=Label(root,text=\"subtract\")\n",
    "mark.pack()\n",
    "new=Label(root,text=\"add\")\n",
    "new.pack()\n",
    "\n",
    "Button(root,text=\"damn\",command=function).pack()\n",
    "root.mainloop()"
   ]
  },
  {
   "cell_type": "code",
   "execution_count": null,
   "metadata": {},
   "outputs": [],
   "source": [
    "def function():\n",
    "    lis={\"sub\":a*b}\n",
    "    lis[sub]"
   ]
  },
  {
   "cell_type": "code",
   "execution_count": null,
   "metadata": {},
   "outputs": [],
   "source": [
    "function(3,5)"
   ]
  },
  {
   "cell_type": "raw",
   "metadata": {},
   "source": []
  },
  {
   "cell_type": "markdown",
   "metadata": {},
   "source": [
    "file=open(\"my file.txt\",mode=\"a\")\n",
    "file.write(\"this is the first content\")\n",
    "file.append\n",
    "(function())\n",
    "file.close()"
   ]
  },
  {
   "cell_type": "code",
   "execution_count": null,
   "metadata": {},
   "outputs": [],
   "source": [
    "che"
   ]
  },
  {
   "cell_type": "code",
   "execution_count": null,
   "metadata": {},
   "outputs": [],
   "source": [
    "34%35"
   ]
  },
  {
   "cell_type": "code",
   "execution_count": null,
   "metadata": {},
   "outputs": [],
   "source": [
    "from tkinter import *\n",
    "root=Tk(className=\"my calculator\")\n",
    "y=Entry(root)\n",
    "y.grid(row=0,column=0,columnspan=3)\n",
    "def click(num):\n",
    "    bad=y.get()\n",
    "    y.delete(0,END)\n",
    "    y.insert(0,str(bad)+str(num))\n",
    "             \n",
    "a=Button(root,text=\"1\",command=lambda:click(1))\n",
    "b=Button(root,text=\"2\",command=lambda:click(2))\n",
    "c=Button(root,text=\"3\",command=lambda:click(3))\n",
    "d=Button(root,text=\"4\",command=lambda:click(4))\n",
    "e=Button(root,text=\"5\",command=lambda:click(5))\n",
    "f=Button(root,text=\"6\",command=lambda:click(6))\n",
    "\n",
    "g=Button(root,text=\"7\",command=lambda:click(7))\n",
    "h=Button(root,text=\"8\",command=lambda:click(8))\n",
    "i=Button(root,text=\"9\",command=lambda:click(9))\n",
    "j=Button(root,text=\"0\",command=lambda:click(0))\n",
    "add=Button(root,text=\"+\",command=lambda:click())\n",
    "equal=Button(root,text=\"=\",command=lambda:click())\n",
    "a.grid(row=3,column=0)\n",
    "b.grid(row=3,column=1)\n",
    "c.grid(row=3,column=2)\n",
    "d.grid(row=2,column=0)\n",
    "e.grid(row=2,column=1)\n",
    "f.grid(row=2,column=2)\n",
    "g.grid(row=1,column=0)\n",
    "h.grid(row=1,column=1)\n",
    "i.grid(row=1,column=2)\n",
    "j.grid(row=4,column=1)\n",
    "add.grid(row=4,column=0)\n",
    "equal.grid(row=4,column=2)\n",
    "root.mainloop()"
   ]
  },
  {
   "cell_type": "code",
   "execution_count": null,
   "metadata": {},
   "outputs": [],
   "source": [
    "from tkinter import *"
   ]
  },
  {
   "cell_type": "code",
   "execution_count": null,
   "metadata": {},
   "outputs": [],
   "source": [
    "from tkinter import *\n",
    "master=Tk()\n",
    "Radiobutton(master,text=\"male\").grid(row=1,column=0)\n",
    "Radiobutton(master,text=\"Female\").grid(row=1,column=1)\n",
    "master.mainloop()"
   ]
  },
  {
   "cell_type": "code",
   "execution_count": null,
   "metadata": {},
   "outputs": [],
   "source": [
    "master=Tk()\n",
    "frame=LabelFrame(master,text=\"gender\")\n",
    "frame.grid(row=0)\n",
    "Radiobutton(frame,text=\"Male\").grid(row=1,column=0)\n",
    "Radiobutton(frame,text=\"female\").grid(row=1,column=1)\n",
    "master.mainloop()"
   ]
  },
  {
   "cell_type": "code",
   "execution_count": null,
   "metadata": {},
   "outputs": [],
   "source": [
    "master=Tk()\n",
    "frame=LabelFrame(master,text=\"gender\")\n",
    "frame.grid(row=0)\n",
    "gender=IntVar()\n",
    "Radiobutton(frame,text=\"male\",value=1,variable=gender).grid(row=1,column=0)\n",
    "Radiobutton(frame,text=\"Female\",value=2,variable=gender).grid(row=1,column=1)\n",
    "master.mainloop()"
   ]
  },
  {
   "cell_type": "code",
   "execution_count": null,
   "metadata": {},
   "outputs": [],
   "source": [
    "root=Tk()\n",
    "Checkbutton(root,text=\"RICE\").pack()\n",
    "Checkbutton(root,text=\"beans\").pack()\n",
    "Checkbutton(root,text=\"garri and soup\").pack()\n",
    "Checkbutton(root,text=\"shagetti\",indicatoron=False).pack()\n",
    "root.mainloop()"
   ]
  },
  {
   "cell_type": "code",
   "execution_count": null,
   "metadata": {},
   "outputs": [],
   "source": [
    "from random import choices\n",
    "def function(r):\n",
    "    list=[\"red\",\"green\",\"blue\"]\n",
    "    a=choices(list,weights=[1,0,0])\n",
    "    b[\"bg\"]=\"\".join(a) \n",
    "def take(e):\n",
    "    list=[\"red\",\"green\",\"blue\"]\n",
    "    a=choices(list,weights=[0,1,0])\n",
    "    b[\"bg\"]=\"\".join(a)\n",
    "def rest(c):\n",
    "    list=[\"red\",\"green\",\"blue\"]\n",
    "    a=choices(list,weights=[0,0,1])\n",
    "    b[\"bg\"]=\"\".join(a)\n",
    "\n",
    "root=Tk()\n",
    "root.geometry(\"500x200\")\n",
    "F=Frame(root)\n",
    "F.pack(side=LEFT)\n",
    "\n",
    "b=Label(F,height=20,width=20)\n",
    "b.pack()\n",
    "f1=Frame(root)\n",
    "f1.pack()\n",
    "f2=Frame(root)\n",
    "f2.pack()\n",
    "f3=Frame(root)\n",
    "f3.pack()\n",
    "Scale(f1,from_=1, to=225,orient=HORIZONTAL,command=function,fg=\"red\").pack(side=RIGHT)\n",
    "Scale(f2,from_=1, to=225,orient=HORIZONTAL,fg=\"green\",command=take).pack(side=RIGHT)\n",
    "Scale(f3,from_=1, to=225,orient=HORIZONTAL,fg=\"blue\",command=rest).pack(side=RIGHT)\n",
    "root.mainloop()"
   ]
  },
  {
   "cell_type": "code",
   "execution_count": null,
   "metadata": {},
   "outputs": [],
   "source": [
    "list=[\"red\",\"green\",\"blue\"]\n",
    "a=choices(list,weights=[1,0,0])\n",
    "print(a)"
   ]
  },
  {
   "cell_type": "code",
   "execution_count": null,
   "metadata": {},
   "outputs": [],
   "source": [
    "root=Tk()\n",
    "f=Frame(root)\n",
    "f.grid(row=0)\n",
    "f2=Frame(root)\n",
    "f2.grid(row=1)\n",
    "b=LabelFrame(f,text=\"email\",bg=\"red\")\n",
    "b.grid()\n",
    "Text=(b).grid()\n",
    "c=Label(f2,text=\"password\")\n",
    "c.grid()\n",
    "root.mainloop()"
   ]
  },
  {
   "cell_type": "code",
   "execution_count": null,
   "metadata": {},
   "outputs": [],
   "source": []
  },
  {
   "cell_type": "code",
   "execution_count": null,
   "metadata": {},
   "outputs": [],
   "source": []
  },
  {
   "cell_type": "code",
   "execution_count": null,
   "metadata": {},
   "outputs": [],
   "source": []
  },
  {
   "cell_type": "code",
   "execution_count": null,
   "metadata": {},
   "outputs": [],
   "source": [
    "def fun(val):\n",
    "    entry.insert(END,val)\n",
    "def remove():\n",
    "    print(entry.get())\n",
    "    new=entry.get()[:-1]\n",
    "    print(new)\n",
    "    entry.delete(\"0\",\"end\")\n",
    "    entry.insert(\"end\",new)\n",
    "def compute():\n",
    "    val=eval(entry.get())\n",
    "    print(val)\n",
    "    entry.delete(\"0\",\"end\")\n",
    "    entry.insert(\"end\",str(val))\n",
    "def clear():\n",
    "    entry.get()\n",
    "    new=entry.delete(\"0\",\"end\")\n",
    "    print(new)\n",
    "    \n",
    "    \n",
    "\n",
    "\n",
    "from tkinter import *\n",
    "root=Tk()\n",
    "root.config(bg=\"red\")\n",
    "length=10\n",
    "dicti={\"bg\":\"white\",\"bd\":6}\n",
    "entry=Entry(root,width=25)\n",
    "entry.grid(row=0,column=1,columnspan=4)\n",
    "Button(root,text=\"1\",width=length,**dicti,command=lambda:fun(\"1\")).grid(row=1,column=1)\n",
    "Button(root,text=\"2\",width=length,**dicti,command=lambda:fun(\"2\")).grid(row=1,column=2)\n",
    "Button(root,text=\"3\",width=length,**dicti,command=lambda:fun(\"3\")).grid(row=1,column=3)\n",
    "Button(root,text=\"+\",width=length,**dicti,command=lambda:fun(\"+\")).grid(row=1,column=4)\n",
    "Button(root,text=\"4\",width=length,**dicti,command=lambda:fun(\"4\")).grid(row=2,column=1)\n",
    "Button(root,text=\"5\",width=length,**dicti,command=lambda:fun(\"5\")).grid(row=2,column=2)\n",
    "Button(root,text=\"6\",width=length,**dicti,command=lambda:fun(\"6\")).grid(row=2,column=3)\n",
    "Button(root,text=\"-\",width=length,**dicti,command=lambda:fun(\"-\")).grid(row=2,column=4)\n",
    "Button(root,text=\"7\",width=length,**dicti,command=lambda:fun(\"7\")).grid(row=3,column=1)\n",
    "Button(root,text=\"8\",width=length,**dicti,command=lambda:fun(\"8\")).grid(row=3,column=2)\n",
    "Button(root,text=\"9\",width=length,**dicti,command=lambda:fun(\"9\")).grid(row=3,column=3)\n",
    "Button(root,text=\"x\",width=length,**dicti,command=lambda:fun(\"*\")).grid(row=3,column=4)\n",
    "Button(root,text=\".\",width=length,**dicti,command=lambda:fun(\".\")).grid(row=4,column=1)\n",
    "Button(root,text=\"0\",width=length,**dicti,command=lambda:fun(\"0\")).grid(row=4,column=2)\n",
    "Button(root,text=\"c\",width=length,**dicti,command=remove).grid(row=4,column=3)\n",
    "Button(root,text=\"clear\",width=length,**dicti,command=clear).grid(row=5,column=1,columnspan=2)\n",
    "Button(root,text=\"=\",width=length,**dicti,command=compute).grid(row=5,column=2,columnspan=2)\n",
    "Button(root,text=chr(247),width=length,**dicti,command=lambda:fun(\"/\")).grid(row=4,column=4)\n",
    "root.mainloop()"
   ]
  },
  {
   "cell_type": "code",
   "execution_count": null,
   "metadata": {},
   "outputs": [],
   "source": [
    "def func():\n",
    "    if c.cget(\"show\")==\"\":\n",
    "        c.config(show=\"*\")\n",
    "    else:\n",
    "        c.config(show=\"\")\n",
    "from tkinter import *\n",
    "root=Tk()\n",
    "root.title(\"facebook log\")\n",
    "\n",
    "f=LabelFrame(root,text=\"mobile number\")\n",
    "f.grid(row=0,sticky=S)\n",
    "\n",
    "a=Label(f)\n",
    "a.grid()\n",
    "d=Entry(a)\n",
    "d.grid()\n",
    "\n",
    "g=LabelFrame(root,text=\"password\")\n",
    "g.grid(row=1,sticky=S)\n",
    "b=Label(g)\n",
    "b.grid()\n",
    "c=Entry(b,show=\"*\")\n",
    "c.grid()\n",
    "d=Checkbutton(root,text=\"show password\",command=func)\n",
    "d.grid()\n",
    "Button(root,bg=\"blue\",text=\"log in\",fg=\"white\").grid(row=3)\n",
    "root.mainloop()"
   ]
  },
  {
   "cell_type": "code",
   "execution_count": null,
   "metadata": {},
   "outputs": [],
   "source": [
    "chr(247)"
   ]
  },
  {
   "cell_type": "markdown",
   "metadata": {},
   "source": [
    "## crypto rugpull app"
   ]
  },
  {
   "cell_type": "code",
   "execution_count": null,
   "metadata": {},
   "outputs": [],
   "source": []
  },
  {
   "cell_type": "raw",
   "metadata": {},
   "source": [
    "verify rugpull data from rugdoctor and token sniffer,coin market cap,cointelegraph\n",
    "{rugpull:\"stealing liquidity\",\n",
    "rugpull2:\"disabling the ability to sell tokens\",\n",
    "rugpull3:overnight project,no audits,\n",
    "rugpull4:lack a community,lowtvl\n",
    "rugpull5:not lsited on any exchange}\n",
    "if conditions met>70 probably a rugpull"
   ]
  },
  {
   "cell_type": "markdown",
   "metadata": {},
   "source": [
    "## minerals app"
   ]
  },
  {
   "cell_type": "raw",
   "metadata": {},
   "source": []
  },
  {
   "cell_type": "markdown",
   "metadata": {},
   "source": [
    "properties of minerals will be stored in a database\n",
    "this GUI is for geologist and miners\n",
    "say you are in the field and discover a mineral and you are not sure what it is\n",
    "you can input the properties of the mineral found and the app will narrow down the possibility of the minerals giving the name and the real market price"
   ]
  },
  {
   "cell_type": "code",
   "execution_count": null,
   "metadata": {},
   "outputs": [],
   "source": [
    "global and local 77 7"
   ]
  },
  {
   "cell_type": "code",
   "execution_count": null,
   "metadata": {},
   "outputs": [],
   "source": [
    "from tkinter import *"
   ]
  },
  {
   "cell_type": "code",
   "execution_count": null,
   "metadata": {},
   "outputs": [],
   "source": [
    "root= Tk()\n",
    "s1=root.winfo_screenwidth()\n",
    "s2=root.winfo_screenheight()\n",
    "root.geometry(f\"{s1}x{s2}\")\n",
    "Label(root,text=\"pos\").pack()\n",
    "lb=LabelFrame(root,text=\"login\")\n",
    "lb.pack()\n",
    "Label(lb,text=\"usename\").grid(row=1,column=1)\n",
    "Entry(lb).grid(row=1,column=2)\n",
    "Label(lb,text=\"password\").grid(row=2,column=1)\n",
    "Entry(lb).grid(row=2,column=2)   \n",
    "Button(lb,text=\"login\").grid(row=3,column=1)\n",
    "root.mainloop()\n",
    "              \n",
    "              \n",
    "              "
   ]
  },
  {
   "cell_type": "code",
   "execution_count": null,
   "metadata": {},
   "outputs": [],
   "source": [
    "root= Tk()\n",
    "s1=root.winfo_screenwidth()\n",
    "s2=root.winfo_screenheight()\n",
    "root.geometry(f\"{s1}x{s2}\")\n",
    "Label(root,text=\"pos\").pack()\n",
    "lb=LabelFrame(root,text=\"login\")\n",
    "lb.pack()\n",
    "Label(lb,text=\"usename\").grid(row=1,column=1)\n",
    "Entry(lb).grid(row=1,column=2)\n",
    "Label(lb,text=\"password\").grid(row=2,column=1)\n",
    "Entry(lb).grid(row=2,column=2)   \n",
    "Button(lb,text=\"login\").grid(row=3,column=1)\n",
    "Button(lb,text=\"forgot password\").grid(row=4,column=1)\n",
    "Button(lb,text=\"create an account\").grid(row=5,column=3)\n",
    "Label(lb,text=\"dont have an account\").grid(row=5,column=1)\n",
    "root.mainloop\n"
   ]
  },
  {
   "cell_type": "code",
   "execution_count": null,
   "metadata": {},
   "outputs": [],
   "source": [
    "def account():\n",
    "    new=Toplevel()\n",
    "    new.geometry((f\"{s1}x{s2}\"))\n",
    "    L=LabelFrame(new,text=\"create account\")\n",
    "    L.pack()\n",
    "    Label(L,text=\"usename\").grid(row=1,column=1)\n",
    "    Entry(L).grid(row=1,column=2)\n",
    "    Label(L,text=\"password\").grid(row=2,column=1)\n",
    "    Entry(L).grid(row=2,column=2) \n",
    "    Label(L,text=\"password\").grid(row=2,column=1)\n",
    "    Entry(L).grid(row=2,column=2) \n",
    "    Label(L,text=\" confirm password\").grid(row=3,column=1)\n",
    "    Entry(L).grid(row=3,column=2)\n",
    "    Label(L,text=\"phone\").grid(row=4,column=1)\n",
    "    Entry(L).grid(row=4,column=2)\n",
    "    Button(L,text=\"create an account\").grid(row=5,column=1)\n",
    "    Label(L,text=\"have an account\").grid(row=6,column=1)\n",
    "    Button(L,text=\"login\").grid(row=6,column=2)\n",
    "\n",
    "\n",
    "\n",
    "\n",
    "\n",
    "\n",
    "\n",
    "\n",
    "\n",
    "\n",
    "\n",
    "\n",
    "\n",
    "\n",
    "\n",
    "\n",
    "\n",
    "\n",
    "\n",
    "\n",
    "root= Tk()\n",
    "s1=root.winfo_screenwidth()\n",
    "s2=root.winfo_screenheight()\n",
    "root.geometry(f\"{s1}x{s2}\")\n",
    "Label(root,text=\"pos\").pack()\n",
    "lb=LabelFrame(root,text=\"login\")\n",
    "lb.pack()\n",
    "Label(lb,text=\"usename\").grid(row=1,column=1)\n",
    "Entry(lb).grid(row=1,column=2)\n",
    "Label(lb,text=\"password\").grid(row=2,column=1)\n",
    "Entry(lb).grid(row=2,column=2)   \n",
    "Button(lb,text=\"login\").grid(row=3,column=1)\n",
    "Button(lb,text=\"forgot password\").grid(row=4,column=1)\n",
    "Label(lb,text=\"dont have an account\").grid(row=5,column=1)\n",
    "Button(lb,text=\"create account\",command=account).grid(row=5,column=2)\n",
    "root.mainloop()"
   ]
  },
  {
   "cell_type": "code",
   "execution_count": null,
   "metadata": {},
   "outputs": [],
   "source": [
    "def user():\n",
    "    print(usernameVar.get())\n",
    "    print(passtVar.get())\n",
    "\n",
    "\n",
    "\n",
    "def account():\n",
    "    global usernameVar,passtVar,con,phone\n",
    "    new=Toplevel()\n",
    "    new.geometry((f\"{s1}x{s2}\"))\n",
    "    \n",
    "    L=LabelFrame(new,text=\"create account\")\n",
    "    \n",
    "    L.pack()\n",
    "    Label(L,text=\"usename\").grid(row=1,column=1)\n",
    "    usernameVar=StringVar()\n",
    "    Entry(L,textvariable=usernameVar).grid(row=1,column=2)\n",
    "    Label(L,text=\"password\").grid(row=2,column=1)\n",
    "    passtVar=StringVar()\n",
    "    \n",
    "    Entry(L,textvariable=passtVar).grid(row=2,column=2) \n",
    "    \n",
    "    Label(L,text=\"confirm password\").grid(row=3,column=1)\n",
    "    con=StringVar()\n",
    "    Entry(L,textvariable=con).grid(row=3,column=2)\n",
    "    Label(L,text=\"phone\").grid(row=4,column=1)\n",
    "    phone=StringVar()\n",
    "    Entry(L,textvariable=phone).grid(row=4,column=2)\n",
    "    Button(L,text=\"create an account\",command=user).grid(row=5,column=1)\n",
    "    Label(L,text=\"have an account\").grid(row=6,column=1)\n",
    "    Button(L,text=\"login\",command=account).grid(row=6,column=2)\n",
    "\n",
    "\n",
    "\n",
    "\n",
    "\n",
    "root= Tk()\n",
    "s1=root.winfo_screenwidth()\n",
    "s2=root.winfo_screenheight()\n",
    "root.geometry(f\"{s1}x{s2}\")\n",
    "Label(root,text=\"pos\").pack()\n",
    "lb=LabelFrame(root,text=\"login\")\n",
    "lb.pack()\n",
    "Label(lb,text=\"usename\").grid(row=1,column=1)\n",
    "Entry(lb).grid(row=1,column=2)\n",
    "Label(lb,text=\"password\").grid(row=2,column=1)\n",
    "Entry(lb).grid(row=2,column=2)   \n",
    "Button(lb,text=\"login\").grid(row=3,column=1)\n",
    "Button(lb,text=\"forgot password\").grid(row=4,column=1)\n",
    "Label(lb,text=\"dont have an account\").grid(row=5,column=1)\n",
    "Button(lb,text=\"create account\",command=account).grid(row=5,column=2)\n",
    "root.mainloop()"
   ]
  },
  {
   "cell_type": "code",
   "execution_count": null,
   "metadata": {},
   "outputs": [],
   "source": [
    "from  tkinter import messagebox\n",
    "def function():\n",
    "    if username==a.get() and password==b.get():\n",
    "        messagebox.showinfo(\"login succesful\")\n",
    "\n",
    "def user():\n",
    "    global username,password,confirm,number\n",
    "    username=usernameVar.get()\n",
    "    password=passtVar.get()\n",
    "    confirm=con.get()\n",
    "    number=phone.get()\n",
    "    if len(username or password or confirm or number) == 0:\n",
    "        messagebox.showerror(\"fill them up biko\")\n",
    "\n",
    "        if password!=confirm:\n",
    "            messagebox.showerror(\"password error\")\n",
    "    else:\n",
    "        file=open(\"user.txt\",\"a\")\n",
    "        content=f\"{username},{password},{phone}\"\n",
    "        file.close\n",
    "    \n",
    "        \n",
    "\n",
    "\n",
    "def account():\n",
    "    global usernameVar,passtVar,con,phone\n",
    "    new=Toplevel()\n",
    "    new.geometry((f\"{s1}x{s2}\"))\n",
    "    \n",
    "    L=LabelFrame(new,text=\"create account\")\n",
    "    \n",
    "    L.pack()\n",
    "    Label(L,text=\"usename\").grid(row=1,column=1)\n",
    "    usernameVar=StringVar()\n",
    "    Entry(L,textvariable=usernameVar).grid(row=1,column=2)\n",
    "    Label(L,text=\"password\").grid(row=2,column=1)\n",
    "    passtVar=StringVar()\n",
    "    \n",
    "    Entry(L,textvariable=passtVar).grid(row=2,column=2) \n",
    "    \n",
    "    Label(L,text=\"confirm password\").grid(row=3,column=1)\n",
    "    con=StringVar()\n",
    "    Entry(L,textvariable=con).grid(row=3,column=2)\n",
    "    Label(L,text=\"phone\").grid(row=4,column=1)\n",
    "    phone=StringVar()\n",
    "    Entry(L,textvariable=phone).grid(row=4,column=2)\n",
    "    Button(L,text=\"create an account\",command=user).grid(row=5,column=1)\n",
    "    Label(L,text=\"have an account\").grid(row=6,column=1)\n",
    "    Button(L,text=\"login\",command=user).grid(row=6,column=2)\n",
    "\n",
    "\n",
    "\n",
    "\n",
    "\n",
    "root= Tk()\n",
    "s1=root.winfo_screenwidth()\n",
    "s2=root.winfo_screenheight()\n",
    "root.geometry(f\"{s1}x{s2}\")\n",
    "Label(root,text=\"pos\").pack()\n",
    "lb=LabelFrame(root,text=\"login\")\n",
    "lb.pack()\n",
    "Label(lb,text=\"usename\").grid(row=1,column=1)\n",
    "a=Entry(lb)\n",
    "a.grid(row=1,column=2)\n",
    "Label(lb,text=\"password\").grid(row=2,column=1)\n",
    "b=Entry(lb)\n",
    "b.grid(row=2,column=2)   \n",
    "Button(lb,text=\"login\",command=function).grid(row=3,column=1)\n",
    "Button(lb,text=\"forgot password\").grid(row=4,column=1)\n",
    "Label(lb,text=\"dont have an account\").grid(row=5,column=1)\n",
    "Button(lb,text=\"create account\",command=account).grid(row=5,column=2)\n",
    "root.mainloop()"
   ]
  },
  {
   "cell_type": "code",
   "execution_count": null,
   "metadata": {},
   "outputs": [],
   "source": [
    "from tkinter import *\n",
    "from PIL import ImageTk,Image\n",
    "root=Tk()\n",
    "root.title(\"lea\")\n",
    "root.\n",
    "root.mainloop()"
   ]
  },
  {
   "cell_type": "code",
   "execution_count": null,
   "metadata": {},
   "outputs": [],
   "source": [
    "import sys\n",
    "!{sys.executable} -m pip install Pillow"
   ]
  },
  {
   "cell_type": "code",
   "execution_count": null,
   "metadata": {},
   "outputs": [],
   "source": [
    "from tkinter import *\n",
    "from PIL import ImageTk,Image\n",
    "root=Tk()\n",
    "root.title(\"lea\")\n",
    "img=ImageTk.PhotoImage(Image.open(\"C:\\\\Users\\\\USER\\\\Desktop\\\\facebook/monkey.JPG\"))\n",
    "my = Label(root,image=img)\n",
    "my.pack()\n",
    "root.mainloop(\n",
    ")\n"
   ]
  },
  {
   "cell_type": "code",
   "execution_count": null,
   "metadata": {},
   "outputs": [],
   "source": [
    "root=Tk()\n",
    "root=Canvas()\n",
    "root.pack()\n",
    "image=PhotoImage(file)"
   ]
  },
  {
   "cell_type": "code",
   "execution_count": null,
   "metadata": {},
   "outputs": [],
   "source": [
    "from tkinter import *\n",
    "from PIL import ImageTk,Image\n",
    "root=Tk()\n",
    "rooot.geometry(\"250x250\")\n",
    "root.title(\"lea\")\n",
    "img1=ImageTk.PhotoImage(Image.open(\"C:\\\\Users\\\\USER\\\\Desktop\\\\facebook/monkey.JPG\"))\n",
    "img2=ImageTk.PhotoImage(Image.open(\"C:\\\\Users\\\\USER\\\\Desktop\\\\facebook/image.JPG\"))\n",
    "img3=ImageTk.PhotoImage(Image.open(\"C:\\\\Users\\\\USER\\\\Desktop\\\\facebook/image2.JPG\"))\n",
    "img4=ImageTk.PhotoImage(Image.open(\"C:\\\\Users\\\\USER\\\\Desktop\\\\facebook/image3.JPG\"))\n",
    "img5=ImageTk.PhotoImage(Image.open(\"C:\\\\Users\\\\USER\\\\Desktop\\\\facebook/image4.JPG\"))\n",
    "imagelist=[img1,img2,img3,img4,img5]\n",
    "\n",
    "my = Label(root,image=img1)\n",
    "my.grid(row=0,column=0,columnspan=3)\n",
    "def forward(image):\n",
    "    global my\n",
    "    global buttonfo\n",
    "    global buttonback\n",
    "    my.grid_forget()\n",
    "    my=Label(root,image=imagelist[image-1])\n",
    "    buttonfo= Button(root,text=\"forward\",command=lambda:forward(image+1))\n",
    "    buttonback = Button(root,text=\"back\",command=lambda:back(image-1)\n",
    "    buttonback.grid(row=1,column=0)\n",
    "    buttonfo.grid(row=1,column=2)                    \n",
    "                      \n",
    "    \n",
    "def back():\n",
    "    global my,buttonfo,buttonback\n",
    "    \n",
    "\n",
    "\n",
    "buttonback= Button(root,text=\"back\",command=back())\n",
    "buttonfo= Button(root,text=\"forward\",command=lambda:forward(1))\n",
    "buttonexit= Button(root,text=\"exit\",command=root.quit)\n",
    "buttonback.grid(row=1,column=0)\n",
    "buttonexit.grid(row=1,column=1)\n",
    "buttonfo.grid(row=1,column=2)\n",
    "root.mainloop(\n",
    ")\n"
   ]
  },
  {
   "cell_type": "markdown",
   "metadata": {},
   "source": [
    "classes and object"
   ]
  },
  {
   "cell_type": "code",
   "execution_count": null,
   "metadata": {},
   "outputs": [],
   "source": [
    "(lambda age:2011-age)(11)"
   ]
  },
  {
   "cell_type": "code",
   "execution_count": null,
   "metadata": {},
   "outputs": [],
   "source": [
    "def shift(letter,by=2):\n",
    "    a=list(\"abcdefghijklmnopqrstuvwxyz\")\n",
    "    a.extend([\"\",\",\"])\n",
    "    index=(a.index(letter.lower())+by)%len(a)\n",
    "    return a[index]"
   ]
  },
  {
   "cell_type": "code",
   "execution_count": null,
   "metadata": {},
   "outputs": [],
   "source": [
    "shift(\"a\")"
   ]
  },
  {
   "cell_type": "code",
   "execution_count": null,
   "metadata": {},
   "outputs": [],
   "source": [
    "from tkintker import *\n",
    "root=Tk()\n",
    "width= master.winfo_screenwidth()\n",
    "height=master.winfo_screenheight()\n",
    "master.geometry(f\"{width}x{height}\")\n",
    "Label(root,text=\"pos\").pack()\n",
    "lb=LabelFrame(root,text=\"Login\")\n",
    "lb.pack()\n",
    "Label(lb,te)"
   ]
  },
  {
   "cell_type": "code",
   "execution_count": null,
   "metadata": {},
   "outputs": [],
   "source": [
    "class Robot:\n",
    "    def um(self):\n",
    "        print(\"my name is \" + self.name)"
   ]
  },
  {
   "cell_type": "code",
   "execution_count": null,
   "metadata": {},
   "outputs": [],
   "source": [
    "r1=Robot()\n",
    "r1.name = \"tom\"\n",
    "r1.colour =\"red\"\n",
    "r1.weight = 40\n",
    "\n",
    "r2 = Robot()\n",
    "r2.name=\"john\"\n"
   ]
  },
  {
   "cell_type": "code",
   "execution_count": null,
   "metadata": {},
   "outputs": [],
   "source": [
    "r1.um()\n",
    "r2.um()"
   ]
  },
  {
   "cell_type": "code",
   "execution_count": null,
   "metadata": {},
   "outputs": [],
   "source": [
    "def function():\n",
    "    if var1.get()==1:\n",
    "        user=open(\"file.txt\",\"a\")\n",
    "        user.write(a[\"text\"])/n\n",
    "        user.close\n",
    "def ant():\n",
    "    new=Toplevel()\n",
    "    b=LabelFrame(root,text=\"laundry\")\n",
    "    b.grid()\n",
    "    var2=IntVar()\n",
    "    c=Checkbutton(b,text=\"shirts\",onvalue=1,offvalue=0,variable=var2)\n",
    "    c.grid(row=1,column=0)\n",
    "    \n",
    "    \n",
    "from tkinter import *\n",
    "root=Tk()\n",
    "Label(root,text=\"TO DO\").grid()\n",
    "c=LabelFrame(root,text=\"groceries\")\n",
    "c.grid()\n",
    "var1=IntVar()\n",
    "var2=IntVar()                   \n",
    "a=Checkbutton(c,text=\"rice\",onvalue=1,offvalue=0,variable=var1,command=function)\n",
    "a.grid(row=1,column=0)\n",
    "b=Checkbutton(c,text=\"beans\",onvalue=1,offvalue=0,variable=var2)\n",
    "b.grid(row=2,column=0)\n",
    "\n",
    "bu=Button(c,text=\"finish\",command=ant)\n",
    "bu.grid()\n",
    "root.mainloop()"
   ]
  },
  {
   "cell_type": "code",
   "execution_count": null,
   "metadata": {},
   "outputs": [],
   "source": [
    "class Bankaccount:\n",
    "    pass"
   ]
  },
  {
   "cell_type": "code",
   "execution_count": null,
   "metadata": {},
   "outputs": [],
   "source": [
    "paul=Bankaccount()"
   ]
  },
  {
   "cell_type": "code",
   "execution_count": null,
   "metadata": {},
   "outputs": [],
   "source": [
    "paul"
   ]
  },
  {
   "cell_type": "code",
   "execution_count": null,
   "metadata": {},
   "outputs": [],
   "source": [
    "paul.balance=10"
   ]
  },
  {
   "cell_type": "code",
   "execution_count": null,
   "metadata": {},
   "outputs": [],
   "source": [
    "paul.balance"
   ]
  },
  {
   "cell_type": "code",
   "execution_count": null,
   "metadata": {},
   "outputs": [],
   "source": [
    "paul.account=\"current\""
   ]
  },
  {
   "cell_type": "code",
   "execution_count": null,
   "metadata": {},
   "outputs": [],
   "source": [
    "paul.account"
   ]
  },
  {
   "cell_type": "code",
   "execution_count": null,
   "metadata": {},
   "outputs": [],
   "source": [
    "class Bankaccount:\n",
    "    def __init__(self,bvn,marriage,firstname,lastname,age,initialdeposit):\n",
    "        self.bvn=bvn\n",
    "        self.lastname=lastname\n",
    "        self.marriage=marriage\n",
    "        self.balance=initialdeposit\n",
    "        global a,b\n",
    "        se\n",
    "        \n",
    "        \n",
    "    def withdraw(self,amount):\n",
    "        self.balance=self.balance-amount\n",
    "    def deposit(self,amoun):\n",
    "        self.deposi=self.balance+amoun\n",
    "    def account(self,amount):\n",
    "        acct=[\"savings\",\"current\"]\n",
    "        for i in acct:\n",
    "            self.account=self.balance\n",
    "            if self.account>10000:\n",
    "                print(acct[1])\n",
    "            \n",
    "            else:\n",
    "                print(acct[0])\n",
    "        \n",
    "            \n",
    "        \n",
    "    "
   ]
  },
  {
   "cell_type": "code",
   "execution_count": null,
   "metadata": {},
   "outputs": [],
   "source": [
    "class Bankaccount:\n",
    "    def __init__(self,bvn,marriage,firstname,lastname,age,initialdeposit,savings):\n",
    "        self.bvn=bvn\n",
    "        self.lastname=lastname\n",
    "        self.marriage=marriage"
   ]
  },
  {
   "cell_type": "code",
   "execution_count": null,
   "metadata": {},
   "outputs": [],
   "source": [
    "acc1.initialdeposit"
   ]
  },
  {
   "cell_type": "code",
   "execution_count": null,
   "metadata": {},
   "outputs": [],
   "source": [
    "acc1=Bankaccount(2200100223,\"single\",\"boma\",\"smith\",40,100000)"
   ]
  },
  {
   "cell_type": "code",
   "execution_count": null,
   "metadata": {},
   "outputs": [],
   "source": [
    "acc1.withdraw(9000)"
   ]
  },
  {
   "cell_type": "code",
   "execution_count": null,
   "metadata": {},
   "outputs": [],
   "source": [
    "acc1.balance"
   ]
  },
  {
   "cell_type": "code",
   "execution_count": null,
   "metadata": {},
   "outputs": [],
   "source": [
    "acc1.deposit(7000)"
   ]
  },
  {
   "cell_type": "code",
   "execution_count": null,
   "metadata": {},
   "outputs": [],
   "source": [
    "acc1.balance"
   ]
  },
  {
   "cell_type": "code",
   "execution_count": null,
   "metadata": {},
   "outputs": [],
   "source": [
    "class Bankaccount:\n",
    "    def __init__(self,bvn,marriage,firstname,lastname,age,initialdeposit):\n",
    "        self.bvn=bvn\n",
    "        self.lastname=lastname\n",
    "        self.marriage=marriage\n",
    "        self.deposi=initialdeposit\n",
    "    def deposit(self,amoun):\n",
    "        self.deposi=self.deposi+amoun"
   ]
  },
  {
   "cell_type": "code",
   "execution_count": null,
   "metadata": {},
   "outputs": [],
   "source": [
    "acc1.deposi"
   ]
  },
  {
   "cell_type": "code",
   "execution_count": null,
   "metadata": {},
   "outputs": [],
   "source": [
    "acc1.account"
   ]
  },
  {
   "cell_type": "code",
   "execution_count": null,
   "metadata": {},
   "outputs": [],
   "source": [
    "acc1.account()"
   ]
  },
  {
   "cell_type": "code",
   "execution_count": null,
   "metadata": {},
   "outputs": [],
   "source": [
    "def ant():\n",
    "    new=Toplevel()\n",
    "    go=gvar.get()\n",
    "    come=fvar.get()\n",
    "    gat=svar.get()\n",
    "    if come/gat>24.9:\n",
    "        messagebox.showinfo(\"normal\")\n",
    "    else:\n",
    "        messagebox.showinfo(\"over weight\")\n",
    "def function():\n",
    "    go=gvar.get()\n",
    "    come=fvar.get()    #weight\n",
    "    \n",
    "def getscale(t): \n",
    "    t=name\n",
    "    \n",
    "    \n",
    "    \n",
    "from tkinter import *\n",
    "from tkinter import messagebox\n",
    "global gvar,fvar,scale,go,come,went,svar,t,name\n",
    "root=Tk()\n",
    "root.bg=\"black\"\n",
    "a=LabelFrame(root,text=\"BMI CALCULATOR\")\n",
    "a.grid(row=0)\n",
    "d=LabelFrame(root,text=\"height\")\n",
    "e=LabelFrame(root)\n",
    "e.grid(row=2)\n",
    "d.grid(row=1)\n",
    "var1=IntVar()\n",
    "var2=IntVar()\n",
    "b=Checkbutton(a,text=\"male\",onvalue=1,offvalue=0,variable=var1)\n",
    "c=Checkbutton(a,text=\"female\",onvalue=1,offvalue=0,variable=var2)\n",
    "b.grid(row=0,column=0)\n",
    "c.grid(row=0,column=1)\n",
    "svar=IntVar()\n",
    "Spinbox(root,from_=1, to=200,textvariable=svar).grid(row=3)\n",
    "\n",
    "\n",
    "f=LabelFrame(e,text=\"weight\")\n",
    "f.pack(side=\"right\")\n",
    "g=LabelFrame(e,text=\"age\")\n",
    "g.pack(side=\"left\")\n",
    "fvar=IntVar()\n",
    "h=Entry(f,textvariable=fvar)\n",
    "h.pack()\n",
    "gvar=IntVar()\n",
    "i=Entry(g,textvariable=gvar)\n",
    "i.pack()\n",
    "Button(root,text=\"CALCULATE\",command=ant).grid(row=3)\n",
    "\n",
    "root.mainloop()"
   ]
  },
  {
   "cell_type": "code",
   "execution_count": null,
   "metadata": {},
   "outputs": [],
   "source": []
  },
  {
   "cell_type": "code",
   "execution_count": null,
   "metadata": {},
   "outputs": [],
   "source": [
    "class Quadratic:\n",
    "    def __init__(self,a,b,c):\n",
    "        self.a=a\n",
    "        self.b=b\n",
    "        self.c=c\n",
    "    def happy(self):\n",
    "        return ((self.b**2)-4*(self.a*self.c))"
   ]
  },
  {
   "cell_type": "code",
   "execution_count": null,
   "metadata": {},
   "outputs": [],
   "source": [
    "b=Quadratic(1,4,16)"
   ]
  },
  {
   "cell_type": "code",
   "execution_count": null,
   "metadata": {},
   "outputs": [],
   "source": [
    "b.a"
   ]
  },
  {
   "cell_type": "code",
   "execution_count": null,
   "metadata": {},
   "outputs": [],
   "source": [
    "b.b"
   ]
  },
  {
   "cell_type": "code",
   "execution_count": null,
   "metadata": {},
   "outputs": [],
   "source": [
    "b.happy()"
   ]
  },
  {
   "cell_type": "code",
   "execution_count": null,
   "metadata": {},
   "outputs": [],
   "source": [
    "class Quadratic:\n",
    "    def __init__(this,a,b,c):\n",
    "        this.a=a\n",
    "        this.b=b\n",
    "        this.c=c\n",
    "    def quad(this):\n",
    "        return((this.b**2)-4*(this.a*this.c))"
   ]
  },
  {
   "cell_type": "code",
   "execution_count": null,
   "metadata": {},
   "outputs": [],
   "source": [
    "b=Quadratic(16,2,1)"
   ]
  },
  {
   "cell_type": "code",
   "execution_count": null,
   "metadata": {},
   "outputs": [],
   "source": [
    "b.a"
   ]
  },
  {
   "cell_type": "code",
   "execution_count": null,
   "metadata": {},
   "outputs": [],
   "source": [
    "class vector:\n",
    "    def __init__(self,a,b):\n",
    "        self.a=a\n",
    "        self.y=b\n",
    "    def getMag(self):\n",
    "        return (self.a**2+self.y**2)**0.5\n",
    "            \n",
    "        "
   ]
  },
  {
   "cell_type": "code",
   "execution_count": null,
   "metadata": {},
   "outputs": [],
   "source": [
    "t=vector(0,9)\n"
   ]
  },
  {
   "cell_type": "code",
   "execution_count": null,
   "metadata": {},
   "outputs": [],
   "source": [
    "t.a"
   ]
  },
  {
   "cell_type": "code",
   "execution_count": null,
   "metadata": {},
   "outputs": [],
   "source": [
    "t.y"
   ]
  },
  {
   "cell_type": "code",
   "execution_count": null,
   "metadata": {},
   "outputs": [],
   "source": [
    "t.getMag()"
   ]
  },
  {
   "cell_type": "code",
   "execution_count": null,
   "metadata": {},
   "outputs": [],
   "source": [
    "a=vector(0,9)\n",
    "b=vector(1,4)"
   ]
  },
  {
   "cell_type": "markdown",
   "metadata": {},
   "source": [
    "assignment\n",
    "abstraction\n",
    "encapsulation\n",
    "inheritance\n",
    "polymorphism"
   ]
  },
  {
   "cell_type": "code",
   "execution_count": null,
   "metadata": {},
   "outputs": [],
   "source": [
    "a.a"
   ]
  },
  {
   "cell_type": "code",
   "execution_count": null,
   "metadata": {},
   "outputs": [],
   "source": [
    "b.y"
   ]
  },
  {
   "cell_type": "code",
   "execution_count": null,
   "metadata": {},
   "outputs": [],
   "source": [
    "class bank:\n",
    "    def __init__(self,marriage,status,name,lname,age,init_dep):\n",
    "        self.name=name\n",
    "        self.last=lname\n",
    "        self.dep=init_dep\n",
    "        self.balance=init_dep\n",
    "        self.age=age\n",
    "    def withdraw(self,amount):\n",
    "        self.balance=self.balance-amount\n",
    "    def deposit(self,amount):\n",
    "        self.balance=self.balance+amount"
   ]
  },
  {
   "cell_type": "code",
   "execution_count": null,
   "metadata": {},
   "outputs": [],
   "source": [
    "acc=bank(\"single\",\"rich\",\"faith\",\"west\",\"20\",1000000)"
   ]
  },
  {
   "cell_type": "code",
   "execution_count": null,
   "metadata": {},
   "outputs": [],
   "source": [
    "acc.balance"
   ]
  },
  {
   "cell_type": "code",
   "execution_count": null,
   "metadata": {},
   "outputs": [],
   "source": [
    "acc.deposit(50000)"
   ]
  },
  {
   "cell_type": "code",
   "execution_count": null,
   "metadata": {},
   "outputs": [],
   "source": [
    "acc.balance"
   ]
  },
  {
   "cell_type": "code",
   "execution_count": null,
   "metadata": {},
   "outputs": [],
   "source": [
    "class bank:\n",
    "    def __init__(self,marriage,status,name,lname,age,init_dep):\n",
    "        self.name=name\n",
    "        self.last=lname\n",
    "        self.dep=init_dep\n",
    "        self.balance=init_dep\n",
    "        self.age=age\n",
    "        self.atype=\"savings\"\n",
    "    def withdraw(self,amount):\n",
    "        self.balance=self.balance-amount\n",
    "    def deposit(self,amount):\n",
    "        self.balance=self.balance+amount\n",
    "    def ss(self,acc_type):\n",
    "        self.atype=acc_type\n",
    "        "
   ]
  },
  {
   "cell_type": "code",
   "execution_count": null,
   "metadata": {},
   "outputs": [],
   "source": [
    "acc=bank(\"single\",\"rich\",\"faith\",\"west\",\"20\",1000000)"
   ]
  },
  {
   "cell_type": "code",
   "execution_count": null,
   "metadata": {},
   "outputs": [],
   "source": [
    "acc.ss(\"current\")"
   ]
  },
  {
   "cell_type": "code",
   "execution_count": null,
   "metadata": {},
   "outputs": [],
   "source": [
    "acc.atype"
   ]
  },
  {
   "cell_type": "code",
   "execution_count": null,
   "metadata": {},
   "outputs": [],
   "source": [
    "class bank:\n",
    "    def __init__(self,marriage,status,name,lname,age,init_dep):\n",
    "        self.name=name\n",
    "        self.last=lname\n",
    "        self.dep=init_dep\n",
    "        self.balance=init_dep\n",
    "        self.age=age\n",
    "        self.atype=\"savings\"\n",
    "    def withdraw(self,amount):\n",
    "        if (amount>self.balance-1000):\n",
    "            print(f\"insuffivient funds u can only withdraw ftom 50-{self.balance}\")\n",
    "        else:\n",
    "            self.balance -= amount\n",
    "    def deposit(self,amount):\n",
    "        self.balance=self.balance+amount\n",
    "    def ss(self,acc_type):\n",
    "        self.atype=acc_type\n",
    "        "
   ]
  },
  {
   "cell_type": "code",
   "execution_count": null,
   "metadata": {},
   "outputs": [],
   "source": [
    "from random import randint\n",
    "class bank:\n",
    "    def __init__(self,marriage,status,name,lname,age,init_dep):\n",
    "        self.name=name\n",
    "        self.last=lname\n",
    "        self.dep=init_dep\n",
    "        self.balance=init_dep\n",
    "        self.age=age\n",
    "        self.atype=\"savings\"\n",
    "        self.acct=\"\"\n",
    "    def withdraw(self,amount):\n",
    "        if (amount>self.balance-1000):\n",
    "            print(f\"insuffivient funds u can only withdraw ftom 50-{self.balance}\")\n",
    "        else:\n",
    "            self.balance -= amount\n",
    "    def deposit(self,amount):\n",
    "        self.balance=self.balance+amount\n",
    "    def ss(self,acc_type):\n",
    "        self.atype=acc_type"
   ]
  },
  {
   "cell_type": "code",
   "execution_count": null,
   "metadata": {},
   "outputs": [],
   "source": [
    "from random import randint\n",
    "for i in range(9):\n",
    "    print(randint(0,i))"
   ]
  },
  {
   "cell_type": "code",
   "execution_count": null,
   "metadata": {},
   "outputs": [],
   "source": [
    "class rectangle:\n",
    "    def __init__(self,a,b):\n",
    "        self._x=a\n",
    "        self._y=b\n",
    "        self.area=self._x * self._y\n",
    "    def get(self):\n",
    "        self.x\n",
    "        self.y\n",
    "    def set(self,a,b):\n",
    "        self._x= a\n",
    "        self._y=b\n",
    "    class square:\n",
    "        def __init__(self,a,b):\n",
    "            self._x= a\n",
    "            self._y= b\n",
    "            \n",
    "        def area(self):\n",
    "            self.area\n",
    "            "
   ]
  },
  {
   "cell_type": "code",
   "execution_count": null,
   "metadata": {},
   "outputs": [],
   "source": [
    "shape=rectangle(50,100)"
   ]
  },
  {
   "cell_type": "code",
   "execution_count": null,
   "metadata": {},
   "outputs": [],
   "source": [
    "shape.get"
   ]
  },
  {
   "cell_type": "code",
   "execution_count": null,
   "metadata": {},
   "outputs": [],
   "source": [
    "shape.set(50,100)"
   ]
  },
  {
   "cell_type": "code",
   "execution_count": null,
   "metadata": {},
   "outputs": [],
   "source": [
    "shape.square"
   ]
  },
  {
   "cell_type": "code",
   "execution_count": null,
   "metadata": {},
   "outputs": [],
   "source": [
    "shape.rectangle=shape.square"
   ]
  },
  {
   "cell_type": "code",
   "execution_count": null,
   "metadata": {},
   "outputs": [],
   "source": [
    "rectangle.area"
   ]
  },
  {
   "cell_type": "code",
   "execution_count": null,
   "metadata": {},
   "outputs": [],
   "source": [
    "from tkinter import *\n",
    "root=Tk()\n",
    "options=[\"coke\",\"fanta\",\"pepsi\"]\n",
    "frame1=Frame(root)\n",
    "frame1.pack()\n",
    "itemVar=StringVar()\n",
    "Label(frame1,text=\"item\").pack(side=\"left\")\n",
    "itemVar.set(options[1])\n",
    "OptionMenu(frame1,itemVar,*options).pack()\n",
    "\n",
    "\n",
    "sizes=[\"small\",\"medium\",\"large\"]\n",
    "frame2=Frame(root)\n",
    "frame2.pack()\n",
    "sizeVar=StringVar()\n",
    "Label(frame2,text=\"size\").pack(side=\"left\")\n",
    "sizeVar.set(options[0])\n",
    "OptionMenu(frame2,sizeVar,*sizes).pack()\n",
    "\n",
    "frame3=Frame(root)\n",
    "frame3.pack()\n",
    "qytVar=StringVar()\n",
    "Label(frame3,text=\"Quantity\").pack()\n",
    "Spinbox(frame3,from_=1, to=20).pack()\n",
    "\n",
    "frame4=Frame(root)\n",
    "frame4.pack()\n",
    "qytVar=StringVar()\n",
    "Label(frame4,text=\"unit price\").pack(side=\"left\")\n",
    "\n",
    "frame5=Frame(root)\n",
    "frame5.pack()\n",
    "priceVar=StringVar()\n",
    "Label(frame5,text=\"Total price:700\").pack(side=\"left\")\n",
    "root.mainloop()\n"
   ]
  },
  {
   "cell_type": "code",
   "execution_count": null,
   "metadata": {},
   "outputs": [],
   "source": [
    "class fanta:\n",
    "    def __init__(self,small,medium,large):\n",
    "        self.small=small\n",
    "        self.medium=medium\n",
    "        self.large=large\n",
    "        "
   ]
  },
  {
   "cell_type": "code",
   "execution_count": null,
   "metadata": {},
   "outputs": [],
   "source": [
    "acc1=fanta(700,800,900)"
   ]
  },
  {
   "cell_type": "code",
   "execution_count": null,
   "metadata": {},
   "outputs": [],
   "source": [
    "acc1.sizez"
   ]
  },
  {
   "cell_type": "code",
   "execution_count": null,
   "metadata": {},
   "outputs": [],
   "source": [
    "\n",
    "from tkinter import*\n",
    "coke={\"medium\":700,\"small\":600,\"large\":800}\n",
    "fanta={\"medium\":800,\"small\":700,\"large\":1000}\n",
    "pepsi={\"medium\":800,\"small\":600,\"large\":9000}\n",
    "prices={\"coke\":600,\"pepsi\":800,\"fanta\":500}\n",
    "lis=[]\n",
    "\n",
    "\n",
    "\n",
    "\n",
    "\n",
    "\n",
    "def changes(a,b,c):\n",
    "    item=itemVar.get()\n",
    "    sizez=sizeVar.get()\n",
    "    print(qytVar)\n",
    "    print(item)\n",
    "    quantity=qytVar.get()\n",
    "    if item ==\"coke\":\n",
    "        unitprice[\"text\"]=f\"unit price:{coke[sizez]}\"\n",
    "    \n",
    "    if item==\"fanta\":\n",
    "        unitprice[\"text\"]=f\"unit price:{fanta[sizez]}\"\n",
    "    \n",
    "    if item==\"pepsi\":\n",
    "        unitprice[\"text\"]=f\"unit price:{pepsi[sizez]}\"\n",
    "        \n",
    "    \n",
    "    totalprice[\"text\"]=f\"Total price:{int(unitprice.get())* quantity }\"\n",
    "    print(totalprice)\n",
    "                                          \n",
    "    \n",
    "    \n",
    "    \n",
    "    \n",
    "    \n",
    "root=Tk()\n",
    "options=[\"coke\",\"fanta\",\"pepsi\"]\n",
    "frame1=Frame(root)\n",
    "frame1.pack()\n",
    "itemVar=StringVar()\n",
    "Label(frame1,text=\"item\").pack(side=\"left\")\n",
    "itemVar.set(options[1])\n",
    "itemVar.trace_add(\"write\",changes)\n",
    "OptionMenu(frame1,itemVar,*options).pack()\n",
    "\n",
    "\n",
    "sizes=[\"small\",\"medium\",\"large\"]\n",
    "frame2=Frame(root)\n",
    "frame2.pack()\n",
    "sizeVar=StringVar()\n",
    "Label(frame2,text=\"size\").pack(side=\"left\")\n",
    "sizeVar.set(sizes[0])\n",
    "sizeVar.trace_add(\"write\",changes)\n",
    "OptionMenu(frame2,sizeVar,*sizes).pack()\n",
    "\n",
    "frame3=Frame(root)\n",
    "frame3.pack()\n",
    "qytVar=IntVar()\n",
    "Label(frame3,text=\"Quantity\").pack()\n",
    "qytVar.trace_add(\"write\",changes)\n",
    "Spinbox(frame3,from_=1, to=20,textvariable=qytVar).pack()\n",
    "\n",
    "frame4=Frame(root)\n",
    "frame4.pack()\n",
    "\n",
    "unitprice=Label(frame4,text=\"unit price:700\")\n",
    "unitprice.pack(side=\"left\")\n",
    "\n",
    "\n",
    "\n",
    "frame5=Frame(root)\n",
    "frame5.pack()\n",
    "priceVar=StringVar()\n",
    "totalprice=Label(frame5,text=\"Total price:700\")\n",
    "totalprice.pack(side=\"left\")\n",
    "unitvar=IntVar()\n",
    "root.mainloop()\n"
   ]
  },
  {
   "cell_type": "code",
   "execution_count": null,
   "metadata": {},
   "outputs": [],
   "source": [
    "acc1.small"
   ]
  },
  {
   "cell_type": "code",
   "execution_count": null,
   "metadata": {},
   "outputs": [],
   "source": [
    "coke={\"medium\":700,\"small\":600,\"large\":800}\n",
    "fanta={\"medium\":800,\"small\":700,\"large\":1000}\n",
    "pepsi={\"medium\":800,\"small\":600,\"large\":9000}\n",
    "lis=[coke,fanta,pepsi]\n",
    "psrint(lis[0])"
   ]
  },
  {
   "cell_type": "code",
   "execution_count": null,
   "metadata": {},
   "outputs": [],
   "source": [
    "coke={\"medium\":700,\"small\":600,\"large\":800}\n",
    "fanta={\"medium\":800,\"small\":700,\"large\":1000}\n",
    "pepsi={\"medium\":800,\"small\":600,\"large\":9000}\n",
    "prices={\"coke\":600,\"pepsi\":800,\"fanta\":500}\n",
    "lis=[list(coke.items()),list(fanta.items()),list(pepsi.items())]\n",
    "print(lis)"
   ]
  },
  {
   "cell_type": "code",
   "execution_count": null,
   "metadata": {},
   "outputs": [],
   "source": [
    "use google colab to learn\n",
    "\n",
    "\n",
    "\n",
    "study decorators and polyymorphism"
   ]
  },
  {
   "cell_type": "code",
   "execution_count": null,
   "metadata": {},
   "outputs": [],
   "source": [
    "n=input(\"a sentence\")\n",
    "d=list(n)\n",
    "for i in d:\n",
    "    if i!=i:\n",
    "        print(len(i))\n",
    "    "
   ]
  },
  {
   "cell_type": "code",
   "execution_count": null,
   "metadata": {},
   "outputs": [],
   "source": [
    "a=0\n",
    "c=(input(\"a string\"))\n",
    "fivt={\"n\":c}\n",
    "for i in fivt[\"n\"]:\n",
    "    if i != i:\n",
    "        a=len(c)\n",
    "    \n",
    "    \n",
    "        "
   ]
  },
  {
   "cell_type": "code",
   "execution_count": null,
   "metadata": {},
   "outputs": [],
   "source": [
    "a=set(\"abcdefghijklmnopqrstuvwxyz\")\n",
    "n=input(\"a number\")\n",
    "for i in n:\n",
    "    if i in a:\n",
    "        print(len(n)\n",
    "              \n",
    "              \n",
    "              \n",
    "              \n",
    "              \n",
    "              \n",
    "              \n",
    "              \n",
    "              \n",
    "              \n",
    "              \n",
    "              \n",
    "              \n",
    "              "
   ]
  },
  {
   "cell_type": "code",
   "execution_count": null,
   "metadata": {},
   "outputs": [],
   "source": [
    "set(\"@tytrttrertt\")"
   ]
  },
  {
   "cell_type": "code",
   "execution_count": null,
   "metadata": {},
   "outputs": [],
   "source": [
    "def function(a,b):\n",
    "    if (set(a)==set(b)):return \"true\" \n",
    "    return \"false\"\n",
    "        \n",
    "    "
   ]
  },
  {
   "cell_type": "code",
   "execution_count": null,
   "metadata": {},
   "outputs": [],
   "source": [
    "function(\"this\",\"her\")"
   ]
  },
  {
   "cell_type": "code",
   "execution_count": null,
   "metadata": {},
   "outputs": [],
   "source": [
    "n=int(input(\"a number\"))\n",
    "if n==3:\n",
    "    print(\"triangle\")\n",
    "elif n==4:\n",
    "    print(\"square\")\n",
    "elif n==5:\n",
    "    print(\"5 sides\")"
   ]
  },
  {
   "cell_type": "code",
   "execution_count": null,
   "metadata": {},
   "outputs": [],
   "source": [
    "a=[\"january\",\"febuary\",\"march\"]\n",
    "n=input(\"a number\")\n",
    "if n in a:\n",
    "    print(\"31\")"
   ]
  },
  {
   "cell_type": "code",
   "execution_count": null,
   "metadata": {},
   "outputs": [],
   "source": [
    "a={130:\"jackhammer\",106:\"lawnmower\",70:\"alarm clock\",40:\"quiet room\"}\n",
    "n=int(input(\"a number\"))\n",
    "print(a[n])"
   ]
  },
  {
   "cell_type": "code",
   "execution_count": null,
   "metadata": {},
   "outputs": [],
   "source": [
    "a=int(input(\"a number\"))\n",
    "b=int(input(\"a number\"))\n",
    "c=int(input(\"a number\"))\n",
    "if a==b and b==c:\n",
    "    print(\"equlateeral\")\n",
    "elif a==b and b!=c:\n",
    "    print(\"isocelse\")\n",
    "elif a!=b and b!=c:\n",
    "    print(\"scalene\")"
   ]
  },
  {
   "cell_type": "code",
   "execution_count": null,
   "metadata": {},
   "outputs": [],
   "source": [
    "a={\"george\":1,\"thomas\":2,\"lincoln\":5,\"alex\":10,\"jackson\":20,\"grant\":50,\"benji\":100}\n",
    "n=input(\"a number\")\n",
    "print(a[n])"
   ]
  },
  {
   "cell_type": "code",
   "execution_count": null,
   "metadata": {},
   "outputs": [],
   "source": [
    "a=[\"a1\",\"c1\",\"e1\",\"g1\"]\n",
    "n=input(\"enter a syd\")\n",
    "for i in a:\n",
    "    if n==i:\n",
    "        print(\"black\")"
   ]
  },
  {
   "cell_type": "code",
   "execution_count": null,
   "metadata": {},
   "outputs": [],
   "source": [
    "a=[\"Spring\",\"Summer\",\"Fall\",\"Winter\"]\n",
    "n=input(\"enter a syd\")\n",
    "if n ==\"march 2\":\n",
    "    print(a[0])\n",
    "elif n==\"june 21\":\n",
    "    print(a[1])"
   ]
  },
  {
   "cell_type": "code",
   "execution_count": null,
   "metadata": {},
   "outputs": [],
   "source": []
  },
  {
   "cell_type": "code",
   "execution_count": null,
   "metadata": {},
   "outputs": [],
   "source": [
    "a=range(1,30)\n",
    "n=input(\"enter a syd\")\n",
    "c=input(\"enter a syd\")\n",
    "for i in a:\n",
    "    if n==(\"jan\",a):\n",
    "        print(\"cappricon\")"
   ]
  },
  {
   "cell_type": "code",
   "execution_count": null,
   "metadata": {},
   "outputs": [],
   "source": [
    "a=[1,3,5,7,9,11,13]\n",
    "c=[2,4,6,8,10,12,14]\n",
    "from random import randrange\n",
    "b=randrange(0,14)\n",
    "d=(b)\n",
    "if d in a:\n",
    "    print(\"pay\",b)\n",
    "elif d in c:\n",
    "    print(\"pay\",b)"
   ]
  },
  {
   "cell_type": "code",
   "execution_count": null,
   "metadata": {},
   "outputs": [],
   "source": [
    "from random import randrange\n",
    "b=randrange(0,36)\n",
    "print(str(b))"
   ]
  },
  {
   "cell_type": "code",
   "execution_count": null,
   "metadata": {},
   "outputs": [],
   "source": [
    "a=set(\"1,3,5,7,9,11,13\")"
   ]
  },
  {
   "cell_type": "code",
   "execution_count": null,
   "metadata": {},
   "outputs": [],
   "source": [
    "n=0\n",
    "while True:\n",
    "    n=input(\"enter a syd\")\n",
    "    if n:\n",
    "        print(\"error\")\n",
    "    avg=n/len(n)\n",
    "    "
   ]
  },
  {
   "cell_type": "code",
   "execution_count": null,
   "metadata": {},
   "outputs": [],
   "source": [
    "p=[4.95,9.95,14.95,19.95,24.95]\n",
    "for i in p:\n",
    "    a=i *(0.6)\n",
    "    print(a)"
   ]
  },
  {
   "cell_type": "code",
   "execution_count": null,
   "metadata": {},
   "outputs": [],
   "source": [
    "a=[0,10,20,30,40,50,60,70,80,90,100]\n",
    "for i in a:\n",
    "    b=(i*9/5)+32\n",
    "    print(i,b)"
   ]
  },
  {
   "cell_type": "code",
   "execution_count": null,
   "metadata": {},
   "outputs": [],
   "source": [
    "sumof=0\n",
    "while True:\n",
    "    n=int(input(\"prices\"))\n",
    "    sumof+=n\n",
    "    if n == \" \":\n",
    "        break\n",
    "    print(sumof)\n",
    "    print(sumof * 100)"
   ]
  },
  {
   "cell_type": "code",
   "execution_count": null,
   "metadata": {},
   "outputs": [],
   "source": [
    "sumof=0\n",
    "while True:\n",
    "    x=(input(\"prices\"))\n",
    "    y=(input(\"prices\"))\n",
    "    x=float(x)\n",
    "    y=float(y)\n",
    "    sumof+=y\n",
    "    if x==\" \":\n",
    "        sumof-=y\n",
    "   \n",
    "        \n",
    "        "
   ]
  },
  {
   "cell_type": "code",
   "execution_count": null,
   "metadata": {},
   "outputs": [],
   "source": [
    "sumof=0\n",
    "while True:\n",
    "    n=input(\"a\")\n",
    "    d={\"a\":5,\"b\":4,\"c\":3}\n",
    "    sumof+=d[n]\n",
    "    if n ==\" \":\n",
    "        break\n",
    "    print(sumof/len(n))"
   ]
  },
  {
   "cell_type": "code",
   "execution_count": null,
   "metadata": {},
   "outputs": [],
   "source": [
    "while True:\n",
    "    n=input(\"a number\")\n",
    "    sumof=list(n)\n",
    "    for i in sumof:\n",
    "        if i == \"2\":\n",
    "            print(\"14\")"
   ]
  },
  {
   "cell_type": "code",
   "execution_count": null,
   "metadata": {},
   "outputs": [],
   "source": [
    "sumof=0\n",
    "while True:\n",
    "    n=int(input(\"a number\"))\n",
    "    if n==2:\n",
    "        sumof+=0\n",
    "        print(sumof)\n",
    "    elif n==range(3,13):\n",
    "        sumof+=14\n",
    "        print(sumof)\n",
    "    elif n>=65:\n",
    "        sumof+=18\n",
    "        print(sumof)"
   ]
  },
  {
   "cell_type": "code",
   "execution_count": null,
   "metadata": {},
   "outputs": [],
   "source": [
    "a=[\"a\",\"b\",\"c\",\"d\",\"e\",\"f\",\"g\",\"h\",\"i\"]\n",
    "v=input(\"a number\")\n",
    "for i in v:\n",
    "    b=(a.index(i)+2)\n",
    "    print (a[b])"
   ]
  },
  {
   "cell_type": "code",
   "execution_count": 1,
   "metadata": {},
   "outputs": [
    {
     "name": "stdout",
     "output_type": "stream",
     "text": [
      "a number100\n",
      "50.0\n"
     ]
    }
   ],
   "source": [
    "x=float(input(\"a number\"))\n",
    "guess=x/2\n",
    "v=False\n",
    "while v:\n",
    "    if guess != abs(guess*guess) and x<=10**-2:\n",
    "        v=True\n",
    "        guess=(guess+x/guess)\n",
    "        print(guess)\n",
    "        \n",
    "else:\n",
    "    print(guess)"
   ]
  },
  {
   "cell_type": "code",
   "execution_count": 23,
   "metadata": {},
   "outputs": [
    {
     "name": "stdout",
     "output_type": "stream",
     "text": [
      "a numberthis\n",
      "this\n"
     ]
    }
   ],
   "source": [
    "a=input(\"a number\")\n",
    "b=a.split()\n",
    "for i in b:\n",
    "    if i == \n",
    "          "
   ]
  },
  {
   "cell_type": "code",
   "execution_count": 34,
   "metadata": {},
   "outputs": [
    {
     "name": "stdout",
     "output_type": "stream",
     "text": [
      "0\n",
      "0\n",
      "0\n",
      "0\n",
      "1\n",
      "2\n",
      "0\n",
      "2\n",
      "4\n",
      "0\n",
      "3\n",
      "6\n",
      "0\n",
      "4\n",
      "8\n",
      "0\n",
      "5\n",
      "10\n",
      "0\n",
      "6\n",
      "12\n",
      "0\n",
      "7\n",
      "14\n",
      "0\n",
      "8\n",
      "16\n",
      "0\n",
      "9\n",
      "18\n",
      "0\n",
      "10\n",
      "20\n"
     ]
    }
   ],
   "source": [
    "for i in range(11):\n",
    "   \n",
    "    for e in range(3):\n",
    "        if e!=0 or e!=1:\n",
    "            print(i*e)\n",
    "    "
   ]
  },
  {
   "cell_type": "code",
   "execution_count": null,
   "metadata": {},
   "outputs": [],
   "source": [
    "n=int(input(\"a number\"))\n",
    "m=int(input(\"a number\"))\n",
    "d=min(m,n)\n",
    "x=False\n",
    "while x:\n",
    "    if d%n!=0 or d%m!=0:\n",
    "        d-=1\n",
    "        if d%n==0 or d%m==0:\n",
    "            x=True\n",
    "            print(d)\n",
    "        \n",
    "    "
   ]
  },
  {
   "cell_type": "code",
   "execution_count": 1,
   "metadata": {},
   "outputs": [],
   "source": [
    "class rectangle:\n",
    "    def __init__(self,length,width):\n",
    "        self.length=length\n",
    "        self.width=width\n",
    "        \n",
    "    def setlength(self,length):\n",
    "        self.length=length\n",
    "    def swidth(self,width):\n",
    "        self.width=width\n",
    "    def glength(self):\n",
    "        return self.length\n",
    "    def gwidth(self,width):\n",
    "        return self.width"
   ]
  },
  {
   "cell_type": "code",
   "execution_count": 2,
   "metadata": {},
   "outputs": [],
   "source": [
    "r=rectangle(12,10)"
   ]
  },
  {
   "cell_type": "code",
   "execution_count": 3,
   "metadata": {},
   "outputs": [
    {
     "data": {
      "text/plain": [
       "12"
      ]
     },
     "execution_count": 3,
     "metadata": {},
     "output_type": "execute_result"
    }
   ],
   "source": [
    "r.length"
   ]
  },
  {
   "cell_type": "code",
   "execution_count": 5,
   "metadata": {},
   "outputs": [
    {
     "data": {
      "text/plain": [
       "12"
      ]
     },
     "execution_count": 5,
     "metadata": {},
     "output_type": "execute_result"
    }
   ],
   "source": [
    "r.glength()"
   ]
  },
  {
   "cell_type": "code",
   "execution_count": 6,
   "metadata": {},
   "outputs": [],
   "source": [
    "r.length=100"
   ]
  },
  {
   "cell_type": "code",
   "execution_count": 7,
   "metadata": {},
   "outputs": [
    {
     "data": {
      "text/plain": [
       "100"
      ]
     },
     "execution_count": 7,
     "metadata": {},
     "output_type": "execute_result"
    }
   ],
   "source": [
    "r.glength()"
   ]
  },
  {
   "cell_type": "code",
   "execution_count": null,
   "metadata": {},
   "outputs": [],
   "source": [
    "class square(rectangle):\n",
    "    def __init_"
   ]
  }
 ],
 "metadata": {
  "kernelspec": {
   "display_name": "Python 3",
   "language": "python",
   "name": "python3"
  },
  "language_info": {
   "codemirror_mode": {
    "name": "ipython",
    "version": 3
   },
   "file_extension": ".py",
   "mimetype": "text/x-python",
   "name": "python",
   "nbconvert_exporter": "python",
   "pygments_lexer": "ipython3",
   "version": "3.7.3"
  }
 },
 "nbformat": 4,
 "nbformat_minor": 2
}
