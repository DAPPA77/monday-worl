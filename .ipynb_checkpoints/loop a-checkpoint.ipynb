{
 "cells": [
  {
   "cell_type": "code",
   "execution_count": null,
   "metadata": {},
   "outputs": [],
   "source": [
    "\n",
    "datalist = [[1452, 11.23, 1+2j], True, 'w3resource', (0,-1),[5,12]{\"class\":'V', \"section\":A}]\n",
    "for i in datalist:\n",
    "    print(i,type(i))"
   ]
  },
  {
   "cell_type": "code",
   "execution_count": null,
   "metadata": {},
   "outputs": [],
   "source": [
    "\n",
    "\n",
    "    "
   ]
  },
  {
   "cell_type": "code",
   "execution_count": null,
   "metadata": {},
   "outputs": [],
   "source": [
    "for i in range(7):\n",
    "    if i==3 or i==6:\n",
    "        continue\n",
    "        \n",
    "    print(i,end=\"\")"
   ]
  },
  {
   "cell_type": "code",
   "execution_count": null,
   "metadata": {},
   "outputs": [],
   "source": [
    "for i in range(1,51):\n",
    "    if i%3==0 and i%5!=0:\n",
    "        print(\"fizz\")\n",
    "    elif i%5==0 and i%3!=0 :\n",
    "            print(\"buzz\") \n",
    "    elif i%3==0 and i%5==0: \n",
    "        print(\"fizz buzz\")\n",
    "    else:\n",
    "        print(i)\n",
    "    \n",
    "                "
   ]
  },
  {
   "cell_type": "code",
   "execution_count": null,
   "metadata": {},
   "outputs": [],
   "source": [
    "for i in range(100,401):\n",
    "    if i%2==0:\n",
    "        print(i,end=\",\")"
   ]
  },
  {
   "cell_type": "code",
   "execution_count": null,
   "metadata": {},
   "outputs": [],
   "source": [
    "for number in range(100,401):\n",
    "    x=False\n",
    "    for digit in str(number):\n",
    "        if(int(digit)%2!=0):\n",
    "             x=True\n",
    "    if(not x):\n",
    "            print(number)"
   ]
  },
  {
   "cell_type": "code",
   "execution_count": null,
   "metadata": {},
   "outputs": [],
   "source": [
    "import random"
   ]
  },
  {
   "cell_type": "code",
   "execution_count": null,
   "metadata": {},
   "outputs": [],
   "source": [
    "random.randint(1,6)"
   ]
  },
  {
   "cell_type": "code",
   "execution_count": null,
   "metadata": {},
   "outputs": [],
   "source": [
    "import random"
   ]
  },
  {
   "cell_type": "code",
   "execution_count": null,
   "metadata": {},
   "outputs": [],
   "source": [
    "acct_number=\"00\"\n",
    "for i in range(8):\n",
    "    digit=random.randint(0,9)\n",
    "    acct_number=acct_number+str(digit)\n",
    "print(\"ur account number is\",acct_number)"
   ]
  },
  {
   "cell_type": "code",
   "execution_count": null,
   "metadata": {},
   "outputs": [],
   "source": [
    "import random\n",
    "for i in range(5):\n",
    "    nepa=\"821446\"\n",
    "    for i in range(6):\n",
    "        nepas=random.randint(0,9)\n",
    "        nepa=nepa+str(nepas)\n",
    "    print(nepa)"
   ]
  },
  {
   "cell_type": "code",
   "execution_count": null,
   "metadata": {},
   "outputs": [],
   "source": [
    "for i in range(20):\n",
    "    acct_number=\"00\"\n",
    "    for i in range(8):\n",
    "        digit=random.randint(0,9)\n",
    "        acct_number=acct_number+str(digit)\n",
    "    print(\"ur account number is\",acct_number)"
   ]
  },
  {
   "cell_type": "code",
   "execution_count": null,
   "metadata": {},
   "outputs": [],
   "source": [
    "import random"
   ]
  },
  {
   "cell_type": "code",
   "execution_count": null,
   "metadata": {},
   "outputs": [],
   "source": [
    "for g in range(9):\n",
    "    h=\"0\"\n",
    "    for i in range(6):\n",
    "        i=random.randint(0,8)\n",
    "        h=(str(i)+(h))   \n",
    "    print(h)"
   ]
  },
  {
   "cell_type": "code",
   "execution_count": null,
   "metadata": {},
   "outputs": [],
   "source": [
    "length=int(input(\"length_1\"))\n",
    "length_2=int(input(\"length_1\"))\n",
    "if length==length_2:\n",
    "    print(\"equilateral\")\n",
    "else:\n",
    "    print(\"another type\")"
   ]
  },
  {
   "cell_type": "code",
   "execution_count": null,
   "metadata": {},
   "outputs": [],
   "source": [
    "chess=[(input(\"enter position\")),(input(\"enter position\")),(input(\"enter position\"))]\n",
    "for i in chess:\n",
    "    if i==(\"b2\"):\n",
    "        print(\"white\")\n",
    "    if i!=(\"b2\"):\n",
    "        print(\"black\")\n"
   ]
  },
  {
   "cell_type": "code",
   "execution_count": null,
   "metadata": {},
   "outputs": [],
   "source": [
    "a=int(input(\"enter a number\"))\n",
    "b=int(input(\"enter a number\"))\n",
    "c=int(input(\"enter a number\"))        \n",
    "d=int(input(\"enter a number\"))\n",
    "peri=[float(a),float(b),float(c),float(d)] \n",
    "for i in peri:\n",
    "    i=((((a-b)**2)+((c-d)**2)**(1/2)))\n",
    "    if a==0 or b==0 or c==0 or d==0:\n",
    "        print(\"blank line\")\n",
    "        if a==()or b==():\n",
    "            print(a+b)\n",
    "        if c==() or d==():\n",
    "            m=(c+d)\n",
    "        print(i+m)\n"
   ]
  },
  {
   "cell_type": "markdown",
   "metadata": {},
   "source": [
    "## "
   ]
  },
  {
   "cell_type": "code",
   "execution_count": null,
   "metadata": {},
   "outputs": [],
   "source": [
    "import random"
   ]
  },
  {
   "cell_type": "code",
   "execution_count": null,
   "metadata": {},
   "outputs": [],
   "source": [
    "for r in range(10):\n",
    "    account_num=\"307\"\n",
    "    for i in range(6):\n",
    "        digit=random.randint(0,9)\n",
    "        account_num=(account_num + str(digit))\n",
    "    print( account_num)"
   ]
  },
  {
   "cell_type": "markdown",
   "metadata": {},
   "source": [
    "## list"
   ]
  },
  {
   "cell_type": "code",
   "execution_count": null,
   "metadata": {},
   "outputs": [],
   "source": [
    "numbers=[1,2,3,4,5]\n",
    "len(numbers)\n",
    "numbers[-3]"
   ]
  },
  {
   "cell_type": "markdown",
   "metadata": {},
   "source": [
    "slicing you want to get a subset of the list"
   ]
  },
  {
   "cell_type": "markdown",
   "metadata": {},
   "source": [
    "nameoflist[start:stop:step]"
   ]
  },
  {
   "cell_type": "code",
   "execution_count": null,
   "metadata": {},
   "outputs": [],
   "source": [
    "numbers[-5:-1:1]"
   ]
  },
  {
   "cell_type": "code",
   "execution_count": null,
   "metadata": {},
   "outputs": [],
   "source": [
    "numbers[::-1]"
   ]
  },
  {
   "cell_type": "markdown",
   "metadata": {},
   "source": [
    "## list methods"
   ]
  },
  {
   "cell_type": "code",
   "execution_count": null,
   "metadata": {},
   "outputs": [],
   "source": [
    "numbers.append(40)"
   ]
  },
  {
   "cell_type": "code",
   "execution_count": null,
   "metadata": {},
   "outputs": [],
   "source": [
    "daya=[1,2,3,3,4,5,6,6]\n",
    "daya.append(30)\n",
    "daya"
   ]
  },
  {
   "cell_type": "code",
   "execution_count": null,
   "metadata": {},
   "outputs": [],
   "source": [
    "daya.insert(1,2)"
   ]
  },
  {
   "cell_type": "code",
   "execution_count": null,
   "metadata": {},
   "outputs": [],
   "source": [
    "day"
   ]
  },
  {
   "cell_type": "code",
   "execution_count": null,
   "metadata": {},
   "outputs": [],
   "source": [
    "nums=[1]\n",
    "nums.extend([12,34])\n",
    "nums.extend(numbers[1:4])\n",
    "nums"
   ]
  },
  {
   "cell_type": "code",
   "execution_count": null,
   "metadata": {},
   "outputs": [],
   "source": [
    "numbersss=[]\n",
    "while True:\n",
    "    numberss=float(input(\"enter a number\"))\n",
    "    numbersss.append(numberss)\n",
    "    \n",
    "    \n"
   ]
  },
  {
   "cell_type": "code",
   "execution_count": null,
   "metadata": {},
   "outputs": [],
   "source": [
    "number=[]\n",
    "data=(input(\"a number\"))\n",
    "data_f=(input(\"a number\"))\n",
    "number=[data,data_f]\n",
    "print(max(number))\n",
    "print(min(number))"
   ]
  },
  {
   "cell_type": "code",
   "execution_count": null,
   "metadata": {},
   "outputs": [],
   "source": [
    "import random\n",
    "guess=random.randint(1,9)\n",
    "for i in range(10):\n",
    "    user=input(\"enter a number\")\n",
    "    if int(user)==guess:\n",
    "        print(\"u got it\")\n",
    "        break\n",
    "    else:\n",
    "        print(\"try again\")"
   ]
  },
  {
   "cell_type": "code",
   "execution_count": null,
   "metadata": {},
   "outputs": [],
   "source": [
    "n=(input(\"input a number\"))\n",
    "r=(input(\"input a number\"))\n",
    "count=([int(n),(int(n)-1),(int(n)-2),(int(n)-3),(int(n)-4),(int(n)-5),(int(n)-6),(int(n)-6),(int(n)-7),(int(n)-8),(int(n)-9)])\n",
    "while count[-1]<=0 :\n",
    "    if int(n)>5:\n",
    "        print[(int(count[0])*(int(count[1]))*(int(count[2]))*(int(count[3]))*(int(count[4]))*(int(count[5]))*(int(count[7])))]\n",
    "        if int(count[-1])<0:\n",
    "            pop()"
   ]
  },
  {
   "cell_type": "code",
   "execution_count": null,
   "metadata": {},
   "outputs": [],
   "source": [
    "price=[4.95,9.95,14.95,19.95,24.95]\n",
    "for i in price:\n",
    "    a=((60/100)*(i))\n",
    "    print((round(a,3)),i)"
   ]
  },
  {
   "cell_type": "code",
   "execution_count": null,
   "metadata": {},
   "outputs": [],
   "source": [
    "a=input(\"any word\")\n",
    "b=a[::-1]\n",
    "c=a.split()\n",
    "for i in c:\n",
    "    if i == b:\n",
    "        print(\"far\")"
   ]
  },
  {
   "cell_type": "code",
   "execution_count": null,
   "metadata": {},
   "outputs": [],
   "source": [
    "tup=(33,4,5,6,7,8,9,1,9,9)\n",
    "tup\n",
    "tup.count(9)"
   ]
  },
  {
   "cell_type": "code",
   "execution_count": null,
   "metadata": {},
   "outputs": [],
   "source": [
    "set={tup}\n",
    "set\n"
   ]
  },
  {
   "cell_type": "code",
   "execution_count": 34,
   "metadata": {},
   "outputs": [
    {
     "name": "stdout",
     "output_type": "stream",
     "text": [
      "a number10\n",
      "binary1010\n"
     ]
    }
   ],
   "source": [
    "import math\n",
    "basea=int(input(\"a number\"))\n",
    "print(f\"binary{basea:b}\")"
   ]
  },
  {
   "cell_type": "code",
   "execution_count": null,
   "metadata": {},
   "outputs": [],
   "source": [
    "0b11111"
   ]
  },
  {
   "cell_type": "code",
   "execution_count": null,
   "metadata": {},
   "outputs": [],
   "source": [
    "p=[1,2,3,4,5,6,7,8,9,0]\n",
    "for i in p:\n",
    "    n=[1,2,3,4,5,6,7,8,9,0]\n",
    "    print(i)\n",
    "    for b in n:\n",
    "        if b*i==0:\n",
    "            continue\n",
    "        print(b*i,end=\"\")\n",
    "    \n",
    "    "
   ]
  },
  {
   "cell_type": "code",
   "execution_count": null,
   "metadata": {},
   "outputs": [],
   "source": [
    "n=input(\"enter a number\")\n",
    "for i in n:\n",
    "    a=(bin(int(i)))\n",
    "    \n",
    "        \n",
    "    "
   ]
  },
  {
   "cell_type": "code",
   "execution_count": null,
   "metadata": {},
   "outputs": [],
   "source": [
    "person={\"name\":\"smith\",\"age\":45,\"marital\":\"married\",\"likes\":[\"travelling\",\"singing\"]}"
   ]
  },
  {
   "cell_type": "code",
   "execution_count": null,
   "metadata": {},
   "outputs": [],
   "source": [
    "type(person)"
   ]
  },
  {
   "cell_type": "raw",
   "metadata": {},
   "source": [
    "person[\"age\"]"
   ]
  },
  {
   "cell_type": "code",
   "execution_count": null,
   "metadata": {},
   "outputs": [],
   "source": [
    "person[\"age\"]=32"
   ]
  },
  {
   "cell_type": "code",
   "execution_count": null,
   "metadata": {},
   "outputs": [],
   "source": [
    "person[\"age\"]"
   ]
  },
  {
   "cell_type": "code",
   "execution_count": null,
   "metadata": {},
   "outputs": [],
   "source": [
    "person[\"likes\"].append(\"cooking\")"
   ]
  },
  {
   "cell_type": "code",
   "execution_count": null,
   "metadata": {},
   "outputs": [],
   "source": [
    "person"
   ]
  },
  {
   "cell_type": "code",
   "execution_count": null,
   "metadata": {},
   "outputs": [],
   "source": [
    "person[\"likes\"]=person[\"likes\"]+[\"swimming\"]"
   ]
  },
  {
   "cell_type": "code",
   "execution_count": null,
   "metadata": {},
   "outputs": [],
   "source": [
    "person"
   ]
  },
  {
   "cell_type": "markdown",
   "metadata": {},
   "source": [
    "# problem129"
   ]
  },
  {
   "cell_type": "code",
   "execution_count": null,
   "metadata": {},
   "outputs": [],
   "source": [
    "codes"
   ]
  },
  {
   "cell_type": "code",
   "execution_count": null,
   "metadata": {},
   "outputs": [],
   "source": [
    "def avg(a,b,c):\n",
    "    ans=(a+b+c)/3\n",
    "    print(ans)   "
   ]
  },
  {
   "cell_type": "code",
   "execution_count": null,
   "metadata": {},
   "outputs": [],
   "source": [
    "avg(3,4,5)"
   ]
  },
  {
   "cell_type": "code",
   "execution_count": null,
   "metadata": {},
   "outputs": [],
   "source": [
    "avg(3,5,10)"
   ]
  },
  {
   "cell_type": "code",
   "execution_count": null,
   "metadata": {},
   "outputs": [],
   "source": [
    "def age(a):\n",
    "    year=2022-a\n",
    "    print(year)"
   ]
  },
  {
   "cell_type": "code",
   "execution_count": null,
   "metadata": {},
   "outputs": [],
   "source": [
    "age(22)"
   ]
  },
  {
   "cell_type": "code",
   "execution_count": null,
   "metadata": {},
   "outputs": [],
   "source": [
    "def age(b):\n",
    "    year=2024-b\n",
    "    print(year)\n",
    "       "
   ]
  },
  {
   "cell_type": "code",
   "execution_count": null,
   "metadata": {},
   "outputs": [],
   "source": [
    "age(20)"
   ]
  },
  {
   "cell_type": "code",
   "execution_count": null,
   "metadata": {},
   "outputs": [],
   "source": [
    "person={\"name\":\"smith\",\"age\":64,\"marital satus\":\"single\",\"likes\":[\"singlurality\"]}"
   ]
  },
  {
   "cell_type": "code",
   "execution_count": null,
   "metadata": {},
   "outputs": [],
   "source": [
    "person[\"likes\"].append(\"dope\")"
   ]
  },
  {
   "cell_type": "code",
   "execution_count": null,
   "metadata": {},
   "outputs": [],
   "source": [
    "person[\"likes\"]"
   ]
  },
  {
   "cell_type": "code",
   "execution_count": null,
   "metadata": {},
   "outputs": [],
   "source": [
    "person[\"state of origin\"]=\"rivers\""
   ]
  },
  {
   "cell_type": "code",
   "execution_count": null,
   "metadata": {},
   "outputs": [],
   "source": [
    "person"
   ]
  },
  {
   "cell_type": "code",
   "execution_count": null,
   "metadata": {},
   "outputs": [],
   "source": [
    "def fuction(word): \n",
    "    n=0\n",
    "    if \"a\" in word:\n",
    "        n=(n+1)\n",
    "    elif\"e\" in word:\n",
    "        n=(n+1)\n",
    "        print(n)\n",
    "            \n",
    "        \n",
    "     "
   ]
  },
  {
   "cell_type": "code",
   "execution_count": null,
   "metadata": {},
   "outputs": [],
   "source": [
    "fuction(\"iamabeoy\")"
   ]
  },
  {
   "cell_type": "code",
   "execution_count": null,
   "metadata": {},
   "outputs": [],
   "source": [
    "a=int(input(\"one side\"))\n",
    "b=int(input(\"one side\"))\n",
    "def function(a,b):\n",
    "    c=(((a**2)+(b**2))**(1/2))\n",
    "    print(c)"
   ]
  },
  {
   "cell_type": "code",
   "execution_count": null,
   "metadata": {},
   "outputs": [],
   "source": [
    "function(a,b)"
   ]
  },
  {
   "cell_type": "code",
   "execution_count": null,
   "metadata": {},
   "outputs": [],
   "source": [
    "a=int(input(\"distance in km\"))\n",
    "def function(a):\n",
    "    c=4\n",
    "    b=0.14\n",
    "    if b>=0.14:\n",
    "        c=(c+0.25)"
   ]
  },
  {
   "cell_type": "code",
   "execution_count": null,
   "metadata": {},
   "outputs": [],
   "source": [
    "function(a)"
   ]
  },
  {
   "cell_type": "code",
   "execution_count": null,
   "metadata": {},
   "outputs": [],
   "source": [
    "d=(input(\"no of items\"))\n",
    "def price(d):\n",
    "    e={\"1\":\"10 d0llars\",\"2\":\"2 d0llars\" }\n",
    "    for i in e:\n",
    "        c=e[d]\n",
    "    print(c)"
   ]
  },
  {
   "cell_type": "code",
   "execution_count": null,
   "metadata": {},
   "outputs": [],
   "source": [
    "price(d)"
   ]
  },
  {
   "cell_type": "code",
   "execution_count": null,
   "metadata": {},
   "outputs": [],
   "source": [
    "a=int(input(\"enter a number\"))\n",
    "b=int(input(\"enter a number\"))\n",
    "c=int(input(\"enter a number\"))\n",
    "def mean(a,b,c):\n",
    "    med=[a,b,c]\n",
    "    print(max(med))\n",
    "    print(min(med))\n",
    "    if  b!=(min(med))and b!=(max(med)):\n",
    "        print(b)\n",
    "    \n",
    "        "
   ]
  },
  {
   "cell_type": "code",
   "execution_count": null,
   "metadata": {},
   "outputs": [],
   "source": [
    "mean(a,b,c)"
   ]
  },
  {
   "cell_type": "code",
   "execution_count": null,
   "metadata": {},
   "outputs": [],
   "source": [
    "def function(a):\n",
    "    a=(input(\"a number\"))\n",
    "    c={\"1\":\"one\",2:\"two\"}\n",
    "    for i in a:\n",
    "        b=c[a]\n",
    "    print(b)\n",
    "    \n",
    "    \n"
   ]
  },
  {
   "cell_type": "code",
   "execution_count": null,
   "metadata": {},
   "outputs": [],
   "source": [
    "function(1)"
   ]
  },
  {
   "cell_type": "code",
   "execution_count": null,
   "metadata": {},
   "outputs": [],
   "source": [
    "a=range(13)\n",
    "print(a)"
   ]
  },
  {
   "cell_type": "code",
   "execution_count": null,
   "metadata": {},
   "outputs": [],
   "source": [
    "\n",
    "n=input(\"a sentence\")\n",
    "def function(n):\n",
    "    c=0\n",
    "    for i in n:\n",
    "        if i==\"a\" or i==\"e\" or i==\"i\" or i==\"o\" or i==\"u\":\n",
    "            c+=1\n",
    "    print(c)\n",
    "        \n",
    "        "
   ]
  },
  {
   "cell_type": "code",
   "execution_count": null,
   "metadata": {},
   "outputs": [],
   "source": [
    "function(n)"
   ]
  },
  {
   "cell_type": "code",
   "execution_count": null,
   "metadata": {},
   "outputs": [],
   "source": [
    "if \"i\" in \"king\":\n",
    "    print(\"true\")\n"
   ]
  },
  {
   "cell_type": "code",
   "execution_count": null,
   "metadata": {},
   "outputs": [],
   "source": [
    "person={\"name\":\"amith\",\"class\":\"jss3\"}\n",
    "person[\"name\"]"
   ]
  },
  {
   "cell_type": "code",
   "execution_count": null,
   "metadata": {},
   "outputs": [],
   "source": [
    "person[\"class\"]=\"ss1\""
   ]
  },
  {
   "cell_type": "code",
   "execution_count": null,
   "metadata": {},
   "outputs": [],
   "source": [
    "person[\"class\"]"
   ]
  },
  {
   "cell_type": "code",
   "execution_count": null,
   "metadata": {},
   "outputs": [],
   "source": [
    "person[\"state of origin\"]=\"bayelse\""
   ]
  },
  {
   "cell_type": "code",
   "execution_count": null,
   "metadata": {},
   "outputs": [],
   "source": [
    "person"
   ]
  },
  {
   "cell_type": "code",
   "execution_count": null,
   "metadata": {},
   "outputs": [],
   "source": [
    "christmas={\"first day\":\"a patridge in a pear tree\" ,\"\":\"two turtle dove and a patridge in a pear tree\"}\n",
    "c=input(\"day\")\n",
    "def harmony(a):\n",
    "    c=input(\"day\")\n",
    "    for i in c:\n",
    "        b=christmas[c]\n",
    "    print(b)"
   ]
  },
  {
   "cell_type": "code",
   "execution_count": null,
   "metadata": {},
   "outputs": [],
   "source": [
    "harmony(c)"
   ]
  },
  {
   "cell_type": "code",
   "execution_count": null,
   "metadata": {},
   "outputs": [],
   "source": [
    "n=input(\"a sentence\")\n",
    "def gate(n):\n",
    "    v=0\n",
    "    a=len(n)\n",
    "    c=0\n",
    "    for i in n:\n",
    "        if i==\"a\" or i==\"e\" or i==\"i\" or i==\"o\" or i==\"u\":\n",
    "            v=v+1\n",
    "        elif i!=\"a\" or i!=\"e\" or i!=\"i\" or i!=\"o\" or i!=\"u\":\n",
    "            c=c+1\n",
    "        d=(v/a,c/a)\n",
    "    print(d)\n",
    "    "
   ]
  },
  {
   "cell_type": "code",
   "execution_count": null,
   "metadata": {},
   "outputs": [],
   "source": [
    "gate(n)"
   ]
  },
  {
   "cell_type": "code",
   "execution_count": null,
   "metadata": {},
   "outputs": [],
   "source": [
    "a=int(input(\"a side\"))\n",
    "b=int(input(\"a side\"))\n",
    "c=int(input(\"a side\"))\n",
    "def tri(a,b,c):\n",
    "    while True:\n",
    "        if a>=(b+c) or b>=(a+c) or c>=(a+b):\n",
    "            print(False)\n",
    "        break\n",
    "        else:\n",
    "            print(True)\n",
    "        break"
   ]
  },
  {
   "cell_type": "code",
   "execution_count": null,
   "metadata": {},
   "outputs": [],
   "source": [
    "tri(a,b,c)"
   ]
  },
  {
   "cell_type": "code",
   "execution_count": null,
   "metadata": {},
   "outputs": [],
   "source": [
    "a=int(input(\"a side\"))\n",
    "b=int(input(\"a side\"))\n",
    "c=[a,b]\n",
    "d=min(c)\n",
    "while d%a!=0 or d%b!=0:\n",
    "    d=d-1\n",
    "     d%a==0 and d%b==0:\n",
    "        print(d)\n",
    "        break\n",
    "    \n",
    "    "
   ]
  },
  {
   "cell_type": "markdown",
   "metadata": {},
   "source": [
    "use return instead of print"
   ]
  },
  {
   "cell_type": "code",
   "execution_count": null,
   "metadata": {},
   "outputs": [],
   "source": [
    "def r(distance):\n",
    "    basefare=4\n",
    "    \n",
    "    "
   ]
  },
  {
   "cell_type": "code",
   "execution_count": null,
   "metadata": {},
   "outputs": [],
   "source": [
    "a=int(input(\"a side\"))\n",
    "rr=range(1,a+1)\n",
    "for i in rr: \n",
    "        if i%i==0 and i%1==0 and a%i==0:\n",
    "                print(i)\n",
    "        else:\n",
    "            i=i+1\n",
    "\n",
    "\n"
   ]
  },
  {
   "cell_type": "code",
   "execution_count": null,
   "metadata": {},
   "outputs": [],
   "source": [
    "range(1,7)\n",
    "for i in range(1,7):\n",
    "    print(i)"
   ]
  },
  {
   "cell_type": "code",
   "execution_count": null,
   "metadata": {},
   "outputs": [],
   "source": [
    "import random"
   ]
  },
  {
   "cell_type": "code",
   "execution_count": null,
   "metadata": {},
   "outputs": [],
   "source": [
    "random.randrange(100)\n",
    "a=random.randrange(100)\n",
    "b=range(1,101)\n",
    "for i in b:\n",
    "    if i>a:\n",
    "        a=i\n",
    "print(a)\n",
    "\n"
   ]
  },
  {
   "cell_type": "code",
   "execution_count": null,
   "metadata": {},
   "outputs": [],
   "source": [
    "def tun(n):\n",
    "    n=input(\"a sentence\")\n",
    "    for i in n:\n",
    "        if i.isupper():\n",
    "            for a in i.isupper:\n",
    "                print(a.lo\n",
    "            \n",
    "            print(b,end=\"\")"
   ]
  },
  {
   "cell_type": "code",
   "execution_count": null,
   "metadata": {},
   "outputs": [],
   "source": [
    "tun(\"thIs Is me\")"
   ]
  },
  {
   "cell_type": "code",
   "execution_count": null,
   "metadata": {},
   "outputs": [],
   "source": [
    "from random import choice"
   ]
  },
  {
   "cell_type": "code",
   "execution_count": null,
   "metadata": {},
   "outputs": [],
   "source": [
    "import random\n",
    "for i in range(13):\n",
    "    a=[\"heads\",\"talis\"]\n",
    "    for c in a:\n",
    "        b=choice(a)\n",
    "        while random.randrange(b)=\"heads\"\n",
    "        \n",
    "    "
   ]
  },
  {
   "cell_type": "code",
   "execution_count": null,
   "metadata": {},
   "outputs": [],
   "source": [
    "def comment(content,name=None):\n",
    "    return f\"{name}=>{content}\""
   ]
  },
  {
   "cell_type": "code",
   "execution_count": null,
   "metadata": {},
   "outputs": [],
   "source": [
    "comment(\"he is mad\")"
   ]
  },
  {
   "cell_type": "code",
   "execution_count": null,
   "metadata": {},
   "outputs": [],
   "source": [
    "def function(n):\n",
    "    li=[[3,2,4,9],[4,2,5,3]]\n",
    "    a=int(input(\"no of rows\"))\n",
    "    n=input(\"rows\")\n",
    "    b={\"row_1\":li[a],\"row_2\":li[a]}\n",
    "    for i in n:\n",
    "       c=b[n]\n",
    "    return c"
   ]
  },
  {
   "cell_type": "code",
   "execution_count": null,
   "metadata": {},
   "outputs": [],
   "source": [
    "function(\"c\")"
   ]
  },
  {
   "cell_type": "code",
   "execution_count": null,
   "metadata": {},
   "outputs": [],
   "source": [
    "max(function(\"c\")) "
   ]
  },
  {
   "cell_type": "code",
   "execution_count": null,
   "metadata": {},
   "outputs": [],
   "source": [
    "import random\n",
    "def function(b):\n",
    "    d=chr(int(input(\"input\")))\n",
    "    for i in range(9):\n",
    "        a=(random.randrange(15))\n",
    "        b=chr(a)\n",
    "        c=ord(b)\n",
    "        return c\n",
    "        \n",
    "        "
   ]
  },
  {
   "cell_type": "code",
   "execution_count": null,
   "metadata": {},
   "outputs": [],
   "source": [
    "function(10)"
   ]
  },
  {
   "cell_type": "code",
   "execution_count": null,
   "metadata": {},
   "outputs": [],
   "source": [
    "for i in range(4):\n",
    "    d=random.randrange(3)\n",
    "    c=random"
   ]
  },
  {
   "cell_type": "code",
   "execution_count": null,
   "metadata": {},
   "outputs": [],
   "source": [
    "for r in range(10):\n",
    "    account_num=\"307\"\n",
    "    for i in range(6):\n",
    "        digit=random.randint(0,9)\n",
    "    print(i)"
   ]
  },
  {
   "cell_type": "code",
   "execution_count": null,
   "metadata": {},
   "outputs": [],
   "source": [
    "t=open(\"artwork.txt\")"
   ]
  },
  {
   "cell_type": "code",
   "execution_count": null,
   "metadata": {},
   "outputs": [],
   "source": [
    "import pandas"
   ]
  },
  {
   "cell_type": "raw",
   "metadata": {},
   "source": [
    "t=open(\"artwork.txt\",\"r\")"
   ]
  },
  {
   "cell_type": "code",
   "execution_count": null,
   "metadata": {},
   "outputs": [],
   "source": [
    "n=int(input(\"a number\"))\n",
    "b=int(input(\"a number\"))\n",
    "c=[a,b]\n",
    "for i in c:\n",
    "    if i==0:\n",
    "        continue\n",
    "    else:\n",
    "        print(\\n(i))\n",
    "c.  "
   ]
  },
  {
   "cell_type": "code",
   "execution_count": null,
   "metadata": {},
   "outputs": [],
   "source": [
    "lis=[]\n",
    "num=int(input(\"no\"))\n",
    "for i in range(1,num+1):\n",
    "    val=int(input(\"no\"))\n",
    "    lis.append(val)\n",
    "lis.sort()\n",
    "print(lis[4])"
   ]
  },
  {
   "cell_type": "code",
   "execution_count": null,
   "metadata": {},
   "outputs": [],
   "source": [
    "lis=[]\n",
    "n=int(input(\"how\"))\n",
    "for i in range(1,num+1):\n",
    "    c=int(input(\"h\"))\n",
    "    if c==0:\n",
    "        continue\n",
    "    lis.append(c)\n",
    "lis.sort()\n",
    "print(lis[5])\n",
    "len(lis)"
   ]
  },
  {
   "cell_type": "code",
   "execution_count": null,
   "metadata": {},
   "outputs": [],
   "source": [
    "lis=[]\n",
    "no=int(input(\"n\"))\n",
    "for i in range(1,no+1):\n",
    "    c=int(input())\n",
    "    lis.append(c)\n",
    "    \n",
    "lis.sort()\n",
    "lis.remove(lis[no-1])\n",
    "print(lis)\n",
    "    \n",
    "    \n",
    "\n",
    "    "
   ]
  },
  {
   "cell_type": "code",
   "execution_count": null,
   "metadata": {},
   "outputs": [],
   "source": [
    "\n",
    "n=[]\n",
    "for i in range(6):\n",
    "    c=input(\"a number\")\n",
    "    n.append(c)\n",
    "    \n",
    "    for i in n:\n",
    "        a=n.count(i)\n",
    "        if a>1:\n",
    "            n.remove(i\n",
    "                    )\n",
    "    print(n)"
   ]
  },
  {
   "cell_type": "code",
   "execution_count": 4,
   "metadata": {},
   "outputs": [],
   "source": [
    "def function(a):\n",
    "    d=[]\n",
    "    n=int(input(\"a number\"))\n",
    "    for i in range(1,n-1):\n",
    "        if n%i==0:\n",
    "            print(i)\n",
    "            d.append(i)\n",
    "    print(sum(d))"
   ]
  },
  {
   "cell_type": "code",
   "execution_count": 5,
   "metadata": {},
   "outputs": [
    {
     "name": "stdout",
     "output_type": "stream",
     "text": [
      "a number28\n",
      "1\n",
      "2\n",
      "4\n",
      "7\n",
      "14\n",
      "28\n"
     ]
    }
   ],
   "source": [
    "function(10)"
   ]
  },
  {
   "cell_type": "code",
   "execution_count": null,
   "metadata": {},
   "outputs": [],
   "source": [
    "def fun (a,b):\n",
    "    a=ord(input(\"a number\"))\n",
    "    b=int(input(\"a number\"))\n",
    "    \n",
    "    return (a,b)    "
   ]
  },
  {
   "cell_type": "code",
   "execution_count": null,
   "metadata": {},
   "outputs": [],
   "source": [
    "fun(3,7)"
   ]
  },
  {
   "cell_type": "code",
   "execution_count": null,
   "metadata": {},
   "outputs": [],
   "source": [
    "lis=[]\n",
    "for i in range(7):\n",
    "    n=int(input(\"enter a number\"))\n",
    "    lis.append(n)\n",
    "lis.sort()\n",
    "lis.reverse()\n",
    "print(lis)"
   ]
  },
  {
   "cell_type": "code",
   "execution_count": null,
   "metadata": {},
   "outputs": [],
   "source": [
    "\n",
    "    lis=[]\n",
    "    for i in range():\n",
    "        n=int(input(\"a number\"))\n",
    "        for i in range(1,n-1):\n",
    "            if n%i==0:\n",
    "                print(i)\n",
    "                lis.append(i)\n",
    "                c=sum(lis)\n",
    "    print(c)\n",
    "    \n",
    "            "
   ]
  },
  {
   "cell_type": "code",
   "execution_count": 6,
   "metadata": {},
   "outputs": [
    {
     "ename": "FileNotFoundError",
     "evalue": "[Errno 2] No such file or directory: 'my file.txt'",
     "output_type": "error",
     "traceback": [
      "\u001b[1;31m---------------------------------------------------------------------------\u001b[0m",
      "\u001b[1;31mFileNotFoundError\u001b[0m                         Traceback (most recent call last)",
      "\u001b[1;32m<ipython-input-6-b0fbf922745c>\u001b[0m in \u001b[0;36m<module>\u001b[1;34m\u001b[0m\n\u001b[1;32m----> 1\u001b[1;33m \u001b[0mfile\u001b[0m\u001b[1;33m=\u001b[0m\u001b[0mopen\u001b[0m\u001b[1;33m(\u001b[0m\u001b[1;34m\"my file.txt\"\u001b[0m\u001b[1;33m)\u001b[0m\u001b[1;33m\u001b[0m\u001b[1;33m\u001b[0m\u001b[0m\n\u001b[0m",
      "\u001b[1;31mFileNotFoundError\u001b[0m: [Errno 2] No such file or directory: 'my file.txt'"
     ]
    }
   ],
   "source": [
    "file=open(\"my file.txt\")"
   ]
  },
  {
   "cell_type": "code",
   "execution_count": 7,
   "metadata": {},
   "outputs": [
    {
     "name": "stdout",
     "output_type": "stream",
     "text": [
      "no such file exist\n"
     ]
    }
   ],
   "source": [
    "try:\n",
    "    file=open(\"my file.txt\") \n",
    "except FileNotFoundError:\n",
    "    print(\"no such file exist\")"
   ]
  },
  {
   "cell_type": "code",
   "execution_count": 8,
   "metadata": {},
   "outputs": [],
   "source": [
    "try:\n",
    "    file=open(\"my file.txt\") \n",
    "except FileNotFoundError:\n",
    "    \n",
    "    file=open(\"my file.txt\",mode=\"w\") \n",
    "    "
   ]
  },
  {
   "cell_type": "code",
   "execution_count": 9,
   "metadata": {},
   "outputs": [],
   "source": [
    "file=open(\"my file.txt\",mode=\"w\")\n",
    "file.write(\"this is the first content\")\n",
    "file.close()"
   ]
  },
  {
   "cell_type": "code",
   "execution_count": 10,
   "metadata": {},
   "outputs": [],
   "source": [
    "file=open(\"my file.txt\",mode=\"w\")\n",
    "file.write(\"this is the second content\")\n",
    "file.close()"
   ]
  },
  {
   "cell_type": "code",
   "execution_count": 11,
   "metadata": {},
   "outputs": [],
   "source": [
    "file=open(\"my file.txt\",mode=\"a\")\n",
    "file.write(\"\\nthis is the second content\")\n",
    "file.close()"
   ]
  },
  {
   "cell_type": "code",
   "execution_count": 12,
   "metadata": {},
   "outputs": [
    {
     "ename": "NameError",
     "evalue": "name 'Factorial' is not defined",
     "output_type": "error",
     "traceback": [
      "\u001b[1;31m---------------------------------------------------------------------------\u001b[0m",
      "\u001b[1;31mNameError\u001b[0m                                 Traceback (most recent call last)",
      "\u001b[1;32m<ipython-input-12-c3f8b1fa4ff9>\u001b[0m in \u001b[0;36m<module>\u001b[1;34m\u001b[0m\n\u001b[0;32m      1\u001b[0m \u001b[1;32mimport\u001b[0m \u001b[0mmath\u001b[0m\u001b[1;33m\u001b[0m\u001b[1;33m\u001b[0m\u001b[0m\n\u001b[1;32m----> 2\u001b[1;33m \u001b[0mFactorial\u001b[0m\u001b[1;33m\u001b[0m\u001b[1;33m\u001b[0m\u001b[0m\n\u001b[0m",
      "\u001b[1;31mNameError\u001b[0m: name 'Factorial' is not defined"
     ]
    }
   ],
   "source": [
    "import math\n",
    "Factorial"
   ]
  },
  {
   "cell_type": "code",
   "execution_count": 17,
   "metadata": {},
   "outputs": [
    {
     "name": "stdout",
     "output_type": "stream",
     "text": [
      "a gradea\n",
      "a\n",
      "b\n",
      "range(70, 100)\n"
     ]
    }
   ],
   "source": [
    "\n",
    "n=input(\"a grade\")\n",
    "for i in n:\n",
    "    lis={\"a\":range(70,100),\"b\":range(60,70)}\n",
    "print(lis[n])"
   ]
  },
  {
   "cell_type": "code",
   "execution_count": 15,
   "metadata": {},
   "outputs": [
    {
     "data": {
      "text/plain": [
       "range(0, 100)"
      ]
     },
     "execution_count": 15,
     "metadata": {},
     "output_type": "execute_result"
    }
   ],
   "source": [
    "range(100)"
   ]
  },
  {
   "cell_type": "code",
   "execution_count": 27,
   "metadata": {},
   "outputs": [
    {
     "name": "stdout",
     "output_type": "stream",
     "text": [
      "a wordnnnqqqaaa\n"
     ]
    }
   ],
   "source": []
  },
  {
   "cell_type": "code",
   "execution_count": 33,
   "metadata": {},
   "outputs": [
    {
     "name": "stdout",
     "output_type": "stream",
     "text": [
      "a number65\n",
      "1\n",
      "5\n",
      "13\n",
      "65\n",
      "[1, 5, 13, 65]\n"
     ]
    }
   ],
   "source": [
    "m=int(input(\"a number\"))\n",
    "n=range(1,m+1)\n",
    "lsi=[]\n",
    "for i in n:\n",
    "    if m%i==0:\n",
    "        print(i)\n",
    "        lsi.append(i)\n",
    "print(lsi)"
   ]
  },
  {
   "cell_type": "code",
   "execution_count": 36,
   "metadata": {},
   "outputs": [
    {
     "name": "stdout",
     "output_type": "stream",
     "text": [
      "a number100\n",
      "binary1100100\n"
     ]
    }
   ],
   "source": [
    "import math\n",
    "basea=int(input(\"a number\"))\n",
    "print(f\"binary{basea:b}\")"
   ]
  },
  {
   "cell_type": "code",
   "execution_count": 37,
   "metadata": {},
   "outputs": [
    {
     "data": {
      "text/plain": [
       "'0b1100100'"
      ]
     },
     "execution_count": 37,
     "metadata": {},
     "output_type": "execute_result"
    }
   ],
   "source": [
    "bin(basea)"
   ]
  },
  {
   "cell_type": "code",
   "execution_count": 39,
   "metadata": {},
   "outputs": [
    {
     "name": "stdout",
     "output_type": "stream",
     "text": [
      "a number10\n",
      "3628800\n"
     ]
    }
   ],
   "source": [
    "m=int(input(\"a number\"))\n",
    "n=math.factorial(m)\n",
    "print(n)"
   ]
  },
  {
   "cell_type": "code",
   "execution_count": 40,
   "metadata": {},
   "outputs": [
    {
     "name": "stdout",
     "output_type": "stream",
     "text": [
      "a syd50\n"
     ]
    },
    {
     "ename": "AttributeError",
     "evalue": "module 'math' has no attribute 'degree'",
     "output_type": "error",
     "traceback": [
      "\u001b[1;31m---------------------------------------------------------------------------\u001b[0m",
      "\u001b[1;31mAttributeError\u001b[0m                            Traceback (most recent call last)",
      "\u001b[1;32m<ipython-input-40-ee00ae9f703e>\u001b[0m in \u001b[0;36m<module>\u001b[1;34m\u001b[0m\n\u001b[0;32m      1\u001b[0m \u001b[0ma\u001b[0m\u001b[1;33m=\u001b[0m\u001b[0mint\u001b[0m\u001b[1;33m(\u001b[0m\u001b[0minput\u001b[0m\u001b[1;33m(\u001b[0m\u001b[1;34m\"a syd\"\u001b[0m\u001b[1;33m)\u001b[0m\u001b[1;33m)\u001b[0m\u001b[1;33m\u001b[0m\u001b[1;33m\u001b[0m\u001b[0m\n\u001b[1;32m----> 2\u001b[1;33m \u001b[0mc\u001b[0m\u001b[1;33m=\u001b[0m\u001b[0mmath\u001b[0m\u001b[1;33m.\u001b[0m\u001b[0mdegree\u001b[0m\u001b[1;33m(\u001b[0m\u001b[0ma\u001b[0m\u001b[1;33m)\u001b[0m\u001b[1;33m\u001b[0m\u001b[1;33m\u001b[0m\u001b[0m\n\u001b[0m\u001b[0;32m      3\u001b[0m \u001b[0mb\u001b[0m\u001b[1;33m=\u001b[0m\u001b[0mint\u001b[0m\u001b[1;33m(\u001b[0m\u001b[0minput\u001b[0m\u001b[1;33m(\u001b[0m\u001b[1;34m\"a syd\"\u001b[0m\u001b[1;33m)\u001b[0m\u001b[1;33m)\u001b[0m\u001b[1;33m\u001b[0m\u001b[1;33m\u001b[0m\u001b[0m\n\u001b[0;32m      4\u001b[0m \u001b[0md\u001b[0m\u001b[1;33m=\u001b[0m\u001b[0mmath\u001b[0m\u001b[1;33m.\u001b[0m\u001b[0mdegree\u001b[0m\u001b[1;33m(\u001b[0m\u001b[0mb\u001b[0m\u001b[1;33m)\u001b[0m\u001b[1;33m\u001b[0m\u001b[1;33m\u001b[0m\u001b[0m\n\u001b[0;32m      5\u001b[0m \u001b[1;32mif\u001b[0m \u001b[0mc\u001b[0m\u001b[1;33m+\u001b[0m\u001b[0md\u001b[0m\u001b[1;33m==\u001b[0m\u001b[0mint\u001b[0m\u001b[1;33m(\u001b[0m\u001b[1;36m0.25\u001b[0m\u001b[1;33m)\u001b[0m\u001b[1;33m:\u001b[0m\u001b[1;33m\u001b[0m\u001b[1;33m\u001b[0m\u001b[0m\n",
      "\u001b[1;31mAttributeError\u001b[0m: module 'math' has no attribute 'degree'"
     ]
    }
   ],
   "source": [
    "a=int(input(\"a syd\"))\n",
    "c=math.degree(a)\n",
    "b=int(input(\"a syd\"))\n",
    "d=math.degree(b)\n",
    "if c+d==int(0.25):\n",
    "    print(\"compliment\")"
   ]
  },
  {
   "cell_type": "code",
   "execution_count": null,
   "metadata": {},
   "outputs": [],
   "source": [
    "area=((s*(s-a))*(s-b)*(s-c))*(1/2)"
   ]
  },
  {
   "cell_type": "code",
   "execution_count": 42,
   "metadata": {},
   "outputs": [
    {
     "name": "stdout",
     "output_type": "stream",
     "text": [
      "0\n",
      "1\n",
      "4\n",
      "9\n",
      "16\n",
      "25\n",
      "36\n",
      "49\n",
      "64\n",
      "81\n"
     ]
    }
   ],
   "source": [
    "for i in range(11):\n",
    "    for m in range(100):\n",
    "        if i * i==m:\n",
    "            print(m)\n",
    "            \n",
    "        "
   ]
  },
  {
   "cell_type": "markdown",
   "metadata": {},
   "source": [
    "rstrip"
   ]
  },
  {
   "cell_type": "code",
   "execution_count": 1,
   "metadata": {},
   "outputs": [
    {
     "name": "stdout",
     "output_type": "stream",
     "text": [
      "a point5\n",
      "1\n",
      "1\n"
     ]
    }
   ],
   "source": [
    "x=int(input(\"a point\"))\n",
    "y=[1,2]\n",
    "for i in y:\n",
    "    print(y[1]-y[0])"
   ]
  },
  {
   "cell_type": "code",
   "execution_count": 3,
   "metadata": {},
   "outputs": [
    {
     "name": "stdout",
     "output_type": "stream",
     "text": [
      "a point5\n",
      "a point3\n",
      "60.0\n"
     ]
    }
   ],
   "source": [
    "import math\n",
    "x=int(input(\"a point\"))\n",
    "r=int(input(\"a point\"))\n",
    "p=math.factorial(x)\n",
    "g=math.factorial(r)\n",
    "c=p/math.factorial(x-r)\n",
    "print(c)"
   ]
  },
  {
   "cell_type": "code",
   "execution_count": 12,
   "metadata": {},
   "outputs": [
    {
     "name": "stdout",
     "output_type": "stream",
     "text": [
      "a point50\n"
     ]
    },
    {
     "ename": "KeyError",
     "evalue": "50",
     "output_type": "error",
     "traceback": [
      "\u001b[1;31m---------------------------------------------------------------------------\u001b[0m",
      "\u001b[1;31mKeyError\u001b[0m                                  Traceback (most recent call last)",
      "\u001b[1;32m<ipython-input-12-378569b43dd4>\u001b[0m in \u001b[0;36m<module>\u001b[1;34m\u001b[0m\n\u001b[0;32m      4\u001b[0m \u001b[1;32mif\u001b[0m \u001b[0mn\u001b[0m \u001b[1;33m<\u001b[0m\u001b[1;36m90\u001b[0m\u001b[1;33m:\u001b[0m\u001b[1;33m\u001b[0m\u001b[1;33m\u001b[0m\u001b[0m\n\u001b[0;32m      5\u001b[0m     \u001b[0mc\u001b[0m\u001b[1;33m=\u001b[0m\u001b[0mmath\u001b[0m\u001b[1;33m.\u001b[0m\u001b[0msin\u001b[0m\u001b[1;33m(\u001b[0m\u001b[0mn\u001b[0m\u001b[1;33m)\u001b[0m\u001b[1;33m\u001b[0m\u001b[1;33m\u001b[0m\u001b[0m\n\u001b[1;32m----> 6\u001b[1;33m     \u001b[0mprint\u001b[0m\u001b[1;33m(\u001b[0m\u001b[0mlsi\u001b[0m\u001b[1;33m[\u001b[0m\u001b[0mn\u001b[0m\u001b[1;33m]\u001b[0m\u001b[1;33m)\u001b[0m\u001b[1;33m\u001b[0m\u001b[1;33m\u001b[0m\u001b[0m\n\u001b[0m",
      "\u001b[1;31mKeyError\u001b[0m: 50"
     ]
    }
   ],
   "source": [
    "n=int(input(\"a point\"))\n",
    "lsi={range(0,90):\"ist\"\n",
    ",\"2nd\":180}\n",
    "if n <90:\n",
    "    c=math.sin(n)\n",
    "    print(lsi[n])"
   ]
  },
  {
   "cell_type": "code",
   "execution_count": 1,
   "metadata": {},
   "outputs": [
    {
     "ename": "NameError",
     "evalue": "name 'Tk' is not defined",
     "output_type": "error",
     "traceback": [
      "\u001b[1;31m---------------------------------------------------------------------------\u001b[0m",
      "\u001b[1;31mNameError\u001b[0m                                 Traceback (most recent call last)",
      "\u001b[1;32m<ipython-input-1-b2c9bafe92a1>\u001b[0m in \u001b[0;36m<module>\u001b[1;34m\u001b[0m\n\u001b[1;32m----> 1\u001b[1;33m \u001b[0mmain\u001b[0m\u001b[1;33m=\u001b[0m\u001b[0mTk\u001b[0m\u001b[1;33m(\u001b[0m\u001b[1;33m)\u001b[0m\u001b[1;33m\u001b[0m\u001b[1;33m\u001b[0m\u001b[0m\n\u001b[0m\u001b[0;32m      2\u001b[0m \u001b[0mmain\u001b[0m\u001b[1;33m.\u001b[0m\u001b[0mmainloop\u001b[0m\u001b[1;33m(\u001b[0m\u001b[1;33m)\u001b[0m\u001b[1;33m\u001b[0m\u001b[1;33m\u001b[0m\u001b[0m\n",
      "\u001b[1;31mNameError\u001b[0m: name 'Tk' is not defined"
     ]
    }
   ],
   "source": [
    "main=Tk()\n",
    "main.mainloop()"
   ]
  },
  {
   "cell_type": "code",
   "execution_count": null,
   "metadata": {},
   "outputs": [],
   "source": [
    "from tkinter import *\n",
    "main=Tk()\n",
    "Label(main,text=\"name\").pack()\n",
    "Entry(main).pack()\n",
    "Label(main,text=\"age\").pack()\n",
    "Entry(main).pack()\n",
    "Button(main,text=\"Submit\").pack()\n",
    "main.mainloop()"
   ]
  },
  {
   "cell_type": "code",
   "execution_count": 10,
   "metadata": {},
   "outputs": [
    {
     "name": "stdout",
     "output_type": "stream",
     "text": [
      "a nnumber60\n"
     ]
    },
    {
     "ename": "NameError",
     "evalue": "name 'a' is not defined",
     "output_type": "error",
     "traceback": [
      "\u001b[1;31m---------------------------------------------------------------------------\u001b[0m",
      "\u001b[1;31mNameError\u001b[0m                                 Traceback (most recent call last)",
      "\u001b[1;32m<ipython-input-10-3a1f30e5c463>\u001b[0m in \u001b[0;36m<module>\u001b[1;34m\u001b[0m\n\u001b[0;32m      1\u001b[0m \u001b[0mn\u001b[0m\u001b[1;33m=\u001b[0m\u001b[0mint\u001b[0m\u001b[1;33m(\u001b[0m\u001b[0minput\u001b[0m\u001b[1;33m(\u001b[0m\u001b[1;34m\"a nnumber\"\u001b[0m\u001b[1;33m)\u001b[0m\u001b[1;33m)\u001b[0m\u001b[1;33m\u001b[0m\u001b[1;33m\u001b[0m\u001b[0m\n\u001b[1;32m----> 2\u001b[1;33m \u001b[0mlis\u001b[0m\u001b[1;33m=\u001b[0m\u001b[1;33m{\u001b[0m\u001b[0mn\u001b[0m\u001b[1;33m:\u001b[0m\u001b[1;34m\"first quadrant\"\u001b[0m\u001b[1;33m,\u001b[0m\u001b[0ma\u001b[0m\u001b[1;33m:\u001b[0m\u001b[1;34m\"ssecond\"\u001b[0m\u001b[1;33m}\u001b[0m\u001b[1;33m\u001b[0m\u001b[1;33m\u001b[0m\u001b[0m\n\u001b[0m\u001b[0;32m      3\u001b[0m \u001b[1;32mif\u001b[0m \u001b[0mn\u001b[0m\u001b[1;33m<=\u001b[0m\u001b[1;36m91\u001b[0m\u001b[1;33m:\u001b[0m\u001b[1;33m\u001b[0m\u001b[1;33m\u001b[0m\u001b[0m\n\u001b[0;32m      4\u001b[0m     \u001b[0mprint\u001b[0m\u001b[1;33m(\u001b[0m\u001b[0mlis\u001b[0m\u001b[1;33m[\u001b[0m\u001b[0mn\u001b[0m\u001b[1;33m]\u001b[0m\u001b[1;33m)\u001b[0m\u001b[1;33m\u001b[0m\u001b[1;33m\u001b[0m\u001b[0m\n\u001b[0;32m      5\u001b[0m \u001b[1;32mif\u001b[0m \u001b[0mn\u001b[0m\u001b[1;33m>\u001b[0m\u001b[1;36m90\u001b[0m\u001b[1;33m:\u001b[0m\u001b[1;33m\u001b[0m\u001b[1;33m\u001b[0m\u001b[0m\n",
      "\u001b[1;31mNameError\u001b[0m: name 'a' is not defined"
     ]
    }
   ],
   "source": [
    "n=i(input(\"a nnumber\"))nt\n",
    "lis={n:\"first quadrant\",a:\"ssecond\"}\n",
    "if n<=91:\n",
    "    print(lis[n])\n",
    "if n>90:\n",
    "    print(lis[n])"
   ]
  },
  {
   "cell_type": "code",
   "execution_count": 17,
   "metadata": {},
   "outputs": [
    {
     "name": "stdout",
     "output_type": "stream",
     "text": [
      "a number7\n"
     ]
    }
   ],
   "source": [
    "import random\n",
    "n=(int(input(\"a number\")))\n",
    "c=random.randint(1,10)\n",
    "if i==c:\n",
    "    print(i)\n",
    "    print(c)\n",
    "    print(\"nice one\")"
   ]
  },
  {
   "cell_type": "code",
   "execution_count": 18,
   "metadata": {},
   "outputs": [],
   "source": [
    "def startswithAlimi(name):return True if name.startswith(alimi) else False"
   ]
  },
  {
   "cell_type": "code",
   "execution_count": 19,
   "metadata": {},
   "outputs": [],
   "source": [
    "def do3(fn):\n",
    "    for i in range(3):\n",
    "        fn()"
   ]
  },
  {
   "cell_type": "code",
   "execution_count": 20,
   "metadata": {},
   "outputs": [],
   "source": [
    "def printmessage():\n",
    "    print(\"hello dear\")"
   ]
  },
  {
   "cell_type": "code",
   "execution_count": 22,
   "metadata": {},
   "outputs": [
    {
     "name": "stdout",
     "output_type": "stream",
     "text": [
      "hello dear\n"
     ]
    }
   ],
   "source": [
    "printmessage()"
   ]
  },
  {
   "cell_type": "code",
   "execution_count": 23,
   "metadata": {},
   "outputs": [
    {
     "name": "stdout",
     "output_type": "stream",
     "text": [
      "hello dear\n",
      "hello dear\n",
      "hello dear\n"
     ]
    }
   ],
   "source": [
    "do3(printmessage)"
   ]
  },
  {
   "cell_type": "code",
   "execution_count": 24,
   "metadata": {},
   "outputs": [],
   "source": [
    "def theupper(a):\n",
    "    def inner(x):\n",
    "        return a+x\n",
    "    return inner"
   ]
  },
  {
   "cell_type": "code",
   "execution_count": 26,
   "metadata": {},
   "outputs": [
    {
     "data": {
      "text/plain": [
       "12"
      ]
     },
     "execution_count": 26,
     "metadata": {},
     "output_type": "execute_result"
    }
   ],
   "source": [
    "theupper(4)(8)"
   ]
  },
  {
   "cell_type": "code",
   "execution_count": 30,
   "metadata": {},
   "outputs": [],
   "source": [
    "from tkinter import*\n",
    "root=Tk()\n",
    "root.mainloop()"
   ]
  },
  {
   "cell_type": "code",
   "execution_count": 31,
   "metadata": {},
   "outputs": [],
   "source": [
    "main=Tk()\n",
    "Label(main,text=\"name\").pack()\n",
    "Entry(main).pack()\n",
    "main.mainloop()"
   ]
  },
  {
   "cell_type": "code",
   "execution_count": null,
   "metadata": {},
   "outputs": [],
   "source": [
    "root=Tk()\n",
    "x=Label(root,text=\"hello world\")\n",
    "x.pack()\n",
    "e=Entry(root).pack()\n",
    "e.get()\n",
    "e.insert(0,\"enter ur name\")\n",
    "root.mainloop()"
   ]
  },
  {
   "cell_type": "code",
   "execution_count": 32,
   "metadata": {},
   "outputs": [],
   "source": [
    "root=Tk()\n",
    "x=Label(root,text=\"hello world\")\n",
    "x.grid(row=0,column=0)\n",
    "b=Label(root,text=\"dope\")\n",
    "b.grid(row=1,column=1)\n",
    "root.mainloop()"
   ]
  },
  {
   "cell_type": "code",
   "execution_count": 39,
   "metadata": {
    "collapsed": true
   },
   "outputs": [],
   "source": [
    "root=Tk()\n",
    "\n",
    "def click():\n",
    "    x=Label(root,text=e.get())\n",
    "    x.pack()\n",
    "Button(root,text=\"click me\",padx=50,pady=70,command=click).pack()\n",
    "root.mainloop()"
   ]
  },
  {
   "cell_type": "code",
   "execution_count": null,
   "metadata": {},
   "outputs": [],
   "source": [
    "from random import choice\n",
    "def function():\n",
    "    lis=[\"yellow\",\"blue\",\"red\",\"grey\"]\n",
    "    choice(lis)\n",
    "    \n",
    "    root.config(bg=choice(lis))\n",
    "\n",
    "from tkinter import*\n",
    "root=Tk(className=\"colour game\")\n",
    "c=Label(root,text=\"pick a colour\").pack()\n",
    "Button(root,text=\"click\",command=function).pack()\n",
    "result=Label(root)\n",
    "result.pack()\n",
    "\n",
    "root.mainloop()"
   ]
  },
  {
   "cell_type": "code",
   "execution_count": 18,
   "metadata": {},
   "outputs": [
    {
     "data": {
      "text/plain": [
       "'blue'"
      ]
     },
     "execution_count": 18,
     "metadata": {},
     "output_type": "execute_result"
    }
   ],
   "source": [
    "function()"
   ]
  },
  {
   "cell_type": "code",
   "execution_count": 39,
   "metadata": {},
   "outputs": [],
   "source": [
    "from random import choice\n",
    "def function():\n",
    "    list=[\"yellow\",\"blue\",\"red\",\"grey\"]\n",
    "    a=choice(list)\n",
    "    return a"
   ]
  },
  {
   "cell_type": "code",
   "execution_count": 27,
   "metadata": {},
   "outputs": [
    {
     "name": "stderr",
     "output_type": "stream",
     "text": [
      "Exception in Tkinter callback\n",
      "Traceback (most recent call last):\n",
      "  File \"C:\\Users\\USER\\Anaconda3\\lib\\tkinter\\__init__.py\", line 1705, in __call__\n",
      "    return self.func(*args)\n",
      "TypeError: func() missing 2 required positional arguments: 'a' and 'b'\n"
     ]
    }
   ],
   "source": [
    "def func(a,b):\n",
    "    a=int(x.get())\n",
    "    b=int(c.get())\n",
    "    p=a+b\n",
    "    result[\"text\"]=str(p)\n",
    "from tkinter import *\n",
    "root=Tk()\n",
    "f=Frame(root)\n",
    "f.pack()\n",
    "g=Frame(root)\n",
    "g.pack()\n",
    "y=Frame(root)\n",
    "y.pack()\n",
    "b=Label(f,text=\"enter a number\")\n",
    "b.pack()\n",
    "c=Entry(f)\n",
    "c.pack\n",
    "result=Label(g,bg=\"grey\").pack()\n",
    "x=Entry(g)\n",
    "x.pack()\n",
    "\n",
    "Button(root,text=\"damn\",command=func).pack()\n",
    "root.mainloop()\n",
    "\n",
    "\n"
   ]
  },
  {
   "cell_type": "code",
   "execution_count": 25,
   "metadata": {},
   "outputs": [
    {
     "ename": "TclError",
     "evalue": "invalid command name \".!frame2.!entry\"",
     "output_type": "error",
     "traceback": [
      "\u001b[1;31m---------------------------------------------------------------------------\u001b[0m",
      "\u001b[1;31mTclError\u001b[0m                                  Traceback (most recent call last)",
      "\u001b[1;32m<ipython-input-25-596ebb040685>\u001b[0m in \u001b[0;36m<module>\u001b[1;34m\u001b[0m\n\u001b[1;32m----> 1\u001b[1;33m \u001b[0mfunc\u001b[0m\u001b[1;33m(\u001b[0m\u001b[1;36m3\u001b[0m\u001b[1;33m,\u001b[0m\u001b[1;36m8\u001b[0m\u001b[1;33m)\u001b[0m\u001b[1;33m\u001b[0m\u001b[1;33m\u001b[0m\u001b[0m\n\u001b[0m",
      "\u001b[1;32m<ipython-input-23-ebf8802e6b3c>\u001b[0m in \u001b[0;36mfunc\u001b[1;34m(a, b)\u001b[0m\n\u001b[0;32m      1\u001b[0m \u001b[1;32mdef\u001b[0m \u001b[0mfunc\u001b[0m\u001b[1;33m(\u001b[0m\u001b[0ma\u001b[0m\u001b[1;33m,\u001b[0m\u001b[0mb\u001b[0m\u001b[1;33m)\u001b[0m\u001b[1;33m:\u001b[0m\u001b[1;33m\u001b[0m\u001b[1;33m\u001b[0m\u001b[0m\n\u001b[1;32m----> 2\u001b[1;33m     \u001b[0ma\u001b[0m\u001b[1;33m=\u001b[0m\u001b[0mint\u001b[0m\u001b[1;33m(\u001b[0m\u001b[0mx\u001b[0m\u001b[1;33m.\u001b[0m\u001b[0mget\u001b[0m\u001b[1;33m(\u001b[0m\u001b[1;33m)\u001b[0m\u001b[1;33m)\u001b[0m\u001b[1;33m\u001b[0m\u001b[1;33m\u001b[0m\u001b[0m\n\u001b[0m\u001b[0;32m      3\u001b[0m     \u001b[0mb\u001b[0m\u001b[1;33m=\u001b[0m\u001b[0mint\u001b[0m\u001b[1;33m(\u001b[0m\u001b[0mc\u001b[0m\u001b[1;33m.\u001b[0m\u001b[0mget\u001b[0m\u001b[1;33m(\u001b[0m\u001b[1;33m)\u001b[0m\u001b[1;33m)\u001b[0m\u001b[1;33m\u001b[0m\u001b[1;33m\u001b[0m\u001b[0m\n\u001b[0;32m      4\u001b[0m     \u001b[1;32mreturn\u001b[0m \u001b[0ma\u001b[0m\u001b[1;33m+\u001b[0m\u001b[0mb\u001b[0m\u001b[1;33m\u001b[0m\u001b[1;33m\u001b[0m\u001b[0m\n\u001b[0;32m      5\u001b[0m     \u001b[0mresult\u001b[0m\u001b[1;33m[\u001b[0m\u001b[1;34m\"text\"\u001b[0m\u001b[1;33m]\u001b[0m\u001b[1;33m=\u001b[0m\u001b[0mstr\u001b[0m\u001b[1;33m(\u001b[0m\u001b[0mfunc\u001b[0m\u001b[1;33m)\u001b[0m\u001b[1;33m\u001b[0m\u001b[1;33m\u001b[0m\u001b[0m\n",
      "\u001b[1;32m~\\Anaconda3\\lib\\tkinter\\__init__.py\u001b[0m in \u001b[0;36mget\u001b[1;34m(self)\u001b[0m\n\u001b[0;32m   2680\u001b[0m     \u001b[1;32mdef\u001b[0m \u001b[0mget\u001b[0m\u001b[1;33m(\u001b[0m\u001b[0mself\u001b[0m\u001b[1;33m)\u001b[0m\u001b[1;33m:\u001b[0m\u001b[1;33m\u001b[0m\u001b[1;33m\u001b[0m\u001b[0m\n\u001b[0;32m   2681\u001b[0m         \u001b[1;34m\"\"\"Return the text.\"\"\"\u001b[0m\u001b[1;33m\u001b[0m\u001b[1;33m\u001b[0m\u001b[0m\n\u001b[1;32m-> 2682\u001b[1;33m         \u001b[1;32mreturn\u001b[0m \u001b[0mself\u001b[0m\u001b[1;33m.\u001b[0m\u001b[0mtk\u001b[0m\u001b[1;33m.\u001b[0m\u001b[0mcall\u001b[0m\u001b[1;33m(\u001b[0m\u001b[0mself\u001b[0m\u001b[1;33m.\u001b[0m\u001b[0m_w\u001b[0m\u001b[1;33m,\u001b[0m \u001b[1;34m'get'\u001b[0m\u001b[1;33m)\u001b[0m\u001b[1;33m\u001b[0m\u001b[1;33m\u001b[0m\u001b[0m\n\u001b[0m\u001b[0;32m   2683\u001b[0m     \u001b[1;32mdef\u001b[0m \u001b[0micursor\u001b[0m\u001b[1;33m(\u001b[0m\u001b[0mself\u001b[0m\u001b[1;33m,\u001b[0m \u001b[0mindex\u001b[0m\u001b[1;33m)\u001b[0m\u001b[1;33m:\u001b[0m\u001b[1;33m\u001b[0m\u001b[1;33m\u001b[0m\u001b[0m\n\u001b[0;32m   2684\u001b[0m         \u001b[1;34m\"\"\"Insert cursor at INDEX.\"\"\"\u001b[0m\u001b[1;33m\u001b[0m\u001b[1;33m\u001b[0m\u001b[0m\n",
      "\u001b[1;31mTclError\u001b[0m: invalid command name \".!frame2.!entry\""
     ]
    }
   ],
   "source": [
    "func(3,8)"
   ]
  },
  {
   "cell_type": "raw",
   "metadata": {},
   "source": []
  },
  {
   "cell_type": "code",
   "execution_count": 62,
   "metadata": {},
   "outputs": [],
   "source": [
    "\n",
    "def function():\n",
    "    lis={\"mul\":(int(c.get())*int(d.get())),\"sub\":(int(c.get())-int(d.get())),\"add\":(int(c.get())+int(d.get()))}\n",
    "    reward[\"text\"]=(lis[\"mul\"])\n",
    "    mark[\"text\"]=(lis[\"sub\"])\n",
    "    new[\"text\"]=(lis[\"add\"])\n",
    "root=Tk()\n",
    "m=Label(root,text=\"arithmetic\")\n",
    "m.pack()\n",
    "c=Entry(root)\n",
    "c.pack()\n",
    "b=Label(root,text=\"ar\")\n",
    "b.pack\n",
    "d=Entry(root,)\n",
    "d.pack()\n",
    "reward=Label(root,text=\"multiply\")\n",
    "reward.pack()\n",
    "mark=Label(root,text=\"subtract\")\n",
    "mark.pack()\n",
    "new=Label(root,text=\"add\")\n",
    "new.pack()\n",
    "\n",
    "Button(root,text=\"damn\",command=function).pack()\n",
    "root.mainloop()"
   ]
  },
  {
   "cell_type": "code",
   "execution_count": 43,
   "metadata": {},
   "outputs": [],
   "source": [
    "def function():\n",
    "    lis={\"sub\":a*b}\n",
    "    lis[sub]"
   ]
  },
  {
   "cell_type": "code",
   "execution_count": 44,
   "metadata": {},
   "outputs": [
    {
     "ename": "TypeError",
     "evalue": "function() takes 0 positional arguments but 2 were given",
     "output_type": "error",
     "traceback": [
      "\u001b[1;31m---------------------------------------------------------------------------\u001b[0m",
      "\u001b[1;31mTypeError\u001b[0m                                 Traceback (most recent call last)",
      "\u001b[1;32m<ipython-input-44-ee1ff7a12b0a>\u001b[0m in \u001b[0;36m<module>\u001b[1;34m\u001b[0m\n\u001b[1;32m----> 1\u001b[1;33m \u001b[0mfunction\u001b[0m\u001b[1;33m(\u001b[0m\u001b[1;36m3\u001b[0m\u001b[1;33m,\u001b[0m\u001b[1;36m5\u001b[0m\u001b[1;33m)\u001b[0m\u001b[1;33m\u001b[0m\u001b[1;33m\u001b[0m\u001b[0m\n\u001b[0m",
      "\u001b[1;31mTypeError\u001b[0m: function() takes 0 positional arguments but 2 were given"
     ]
    }
   ],
   "source": [
    "function(3,5)"
   ]
  },
  {
   "cell_type": "raw",
   "metadata": {},
   "source": []
  },
  {
   "cell_type": "markdown",
   "metadata": {},
   "source": [
    "file=open(\"my file.txt\",mode=\"a\")\n",
    "file.write(\"this is the first content\")\n",
    "file.append\n",
    "(function())\n",
    "file.close()"
   ]
  },
  {
   "cell_type": "code",
   "execution_count": null,
   "metadata": {},
   "outputs": [],
   "source": [
    "che"
   ]
  },
  {
   "cell_type": "code",
   "execution_count": 65,
   "metadata": {},
   "outputs": [
    {
     "data": {
      "text/plain": [
       "34"
      ]
     },
     "execution_count": 65,
     "metadata": {},
     "output_type": "execute_result"
    }
   ],
   "source": [
    "34%35"
   ]
  },
  {
   "cell_type": "code",
   "execution_count": null,
   "metadata": {},
   "outputs": [],
   "source": [
    "from tkinter import *\n",
    "root=Tk(className=\"my calculator\")\n",
    "y=Entry(root)\n",
    "y.grid(row=0,column=0,columnspan=3)\n",
    "def click(num):\n",
    "    bad=y.get()\n",
    "    y.delete(0,END)\n",
    "    y.insert(0,str(bad)+str(num))\n",
    "             \n",
    "a=Button(root,text=\"1\",command=lambda:click(1))\n",
    "b=Button(root,text=\"2\",command=lambda:click(2))\n",
    "c=Button(root,text=\"3\",command=lambda:click(3))\n",
    "d=Button(root,text=\"4\",command=lambda:click(4))\n",
    "e=Button(root,text=\"5\",command=lambda:click(5))\n",
    "f=Button(root,text=\"6\",command=lambda:click(6))\n",
    "\n",
    "g=Button(root,text=\"7\",command=lambda:click(7))\n",
    "h=Button(root,text=\"8\",command=lambda:click(8))\n",
    "i=Button(root,text=\"9\",command=lambda:click(9))\n",
    "j=Button(root,text=\"0\",command=lambda:click(0))\n",
    "add=Button(root,text=\"+\",command=lambda:click())\n",
    "equal=Button(root,text=\"=\",command=lambda:click())\n",
    "a.grid(row=3,column=0)\n",
    "b.grid(row=3,column=1)\n",
    "c.grid(row=3,column=2)\n",
    "d.grid(row=2,column=0)\n",
    "e.grid(row=2,column=1)\n",
    "f.grid(row=2,column=2)\n",
    "g.grid(row=1,column=0)\n",
    "h.grid(row=1,column=1)\n",
    "i.grid(row=1,column=2)\n",
    "j.grid(row=4,column=1)\n",
    "add.grid(row=4,column=0)\n",
    "equal.grid(row=4,column=2)\n",
    "root.mainloop()"
   ]
  },
  {
   "cell_type": "code",
   "execution_count": 1,
   "metadata": {},
   "outputs": [],
   "source": [
    "from tkinter import *"
   ]
  },
  {
   "cell_type": "code",
   "execution_count": 1,
   "metadata": {},
   "outputs": [],
   "source": [
    "from tkinter import *\n",
    "master=Tk()\n",
    "Radiobutton(master,text=\"male\").grid(row=1,column=0)\n",
    "Radiobutton(master,text=\"Female\").grid(row=1,column=1)\n",
    "master.mainloop()"
   ]
  },
  {
   "cell_type": "code",
   "execution_count": 4,
   "metadata": {},
   "outputs": [],
   "source": [
    "master=Tk()\n",
    "frame=LabelFrame(master,text=\"gender\")\n",
    "frame.grid(row=0)\n",
    "Radiobutton(frame,text=\"Male\").grid(row=1,column=0)\n",
    "Radiobutton(frame,text=\"female\").grid(row=1,column=1)\n",
    "master.mainloop()"
   ]
  },
  {
   "cell_type": "code",
   "execution_count": 6,
   "metadata": {},
   "outputs": [],
   "source": [
    "master=Tk()\n",
    "frame=LabelFrame(master,text=\"gender\")\n",
    "frame.grid(row=0)\n",
    "gender=IntVar()\n",
    "Radiobutton(frame,text=\"male\",value=1,variable=gender).grid(row=1,column=0)\n",
    "Radiobutton(frame,text=\"Female\",value=2,variable=gender).grid(row=1,column=1)\n",
    "master.mainloop()"
   ]
  },
  {
   "cell_type": "code",
   "execution_count": 8,
   "metadata": {},
   "outputs": [],
   "source": [
    "root=Tk()\n",
    "Checkbutton(root,text=\"RICE\").pack()\n",
    "Checkbutton(root,text=\"beans\").pack()\n",
    "Checkbutton(root,text=\"garri and soup\").pack()\n",
    "Checkbutton(root,text=\"shagetti\",indicatoron=False).pack()\n",
    "root.mainloop()"
   ]
  },
  {
   "cell_type": "code",
   "execution_count": null,
   "metadata": {},
   "outputs": [],
   "source": [
    "from random import choices\n",
    "def function(r):\n",
    "    list=[\"red\",\"green\",\"blue\"]\n",
    "    a=choices(list,weights=[1,0,0])\n",
    "    b[\"bg\"]=\"\".join(a) \n",
    "def take(e):\n",
    "    list=[\"red\",\"green\",\"blue\"]\n",
    "    a=choices(list,weights=[0,1,0])\n",
    "    b[\"bg\"]=\"\".join(a)\n",
    "def rest(c):\n",
    "    list=[\"red\",\"green\",\"blue\"]\n",
    "    a=choices(list,weights=[0,0,1])\n",
    "    b[\"bg\"]=\"\".join(a)\n",
    "\n",
    "root=Tk()\n",
    "root.geometry(\"500x200\")\n",
    "F=Frame(root)\n",
    "F.pack(side=LEFT)\n",
    "\n",
    "b=Label(F,height=20,width=20)\n",
    "b.pack()\n",
    "f1=Frame(root)\n",
    "f1.pack()\n",
    "f2=Frame(root)\n",
    "f2.pack()\n",
    "f3=Frame(root)\n",
    "f3.pack()\n",
    "Scale(f1,from_=1, to=225,orient=HORIZONTAL,command=function,fg=\"red\").pack(side=RIGHT)\n",
    "Scale(f2,from_=1, to=225,orient=HORIZONTAL,fg=\"green\",command=take).pack(side=RIGHT)\n",
    "Scale(f3,from_=1, to=225,orient=HORIZONTAL,fg=\"blue\",command=rest).pack(side=RIGHT)\n",
    "root.mainloop()"
   ]
  },
  {
   "cell_type": "code",
   "execution_count": 37,
   "metadata": {},
   "outputs": [
    {
     "name": "stdout",
     "output_type": "stream",
     "text": [
      "['red']\n"
     ]
    }
   ],
   "source": [
    "list=[\"red\",\"green\",\"blue\"]\n",
    "a=choices(list,weights=[1,0,0])\n",
    "print(a)"
   ]
  },
  {
   "cell_type": "code",
   "execution_count": 7,
   "metadata": {},
   "outputs": [],
   "source": [
    "root=Tk()\n",
    "f=Frame(root)\n",
    "f.grid(row=0)\n",
    "f2=Frame(root)\n",
    "f2.grid(row=1)\n",
    "b=LabelFrame(f,text=\"email\",bg=\"red\")\n",
    "b.grid()\n",
    "Text=(b).grid()\n",
    "c=Label(f2,text=\"password\")\n",
    "c.grid()\n",
    "root.mainloop()"
   ]
  },
  {
   "cell_type": "code",
   "execution_count": null,
   "metadata": {},
   "outputs": [],
   "source": []
  },
  {
   "cell_type": "code",
   "execution_count": null,
   "metadata": {},
   "outputs": [],
   "source": []
  },
  {
   "cell_type": "code",
   "execution_count": null,
   "metadata": {},
   "outputs": [],
   "source": []
  },
  {
   "cell_type": "code",
   "execution_count": 38,
   "metadata": {},
   "outputs": [
    {
     "name": "stdout",
     "output_type": "stream",
     "text": [
      "1\n",
      "\n",
      "None\n",
      "10\n",
      "30\n",
      "30\n",
      "3\n",
      "3\n",
      "\n",
      "2\n",
      "-4\n",
      "-12\n",
      "None\n"
     ]
    }
   ],
   "source": [
    "def fun(val):\n",
    "    entry.insert(END,val)\n",
    "def remove():\n",
    "    print(entry.get())\n",
    "    new=entry.get()[:-1]\n",
    "    print(new)\n",
    "    entry.delete(\"0\",\"end\")\n",
    "    entry.insert(\"end\",new)\n",
    "def compute():\n",
    "    val=eval(entry.get())\n",
    "    print(val)\n",
    "    entry.delete(\"0\",\"end\")\n",
    "    entry.insert(\"end\",str(val))\n",
    "def clear():\n",
    "    entry.get()\n",
    "    new=entry.delete(\"0\",\"end\")\n",
    "    print(new)\n",
    "    \n",
    "    \n",
    "\n",
    "\n",
    "from tkinter import *\n",
    "root=Tk()\n",
    "root.config(bg=\"red\")\n",
    "length=10\n",
    "dicti={\"bg\":\"white\",\"bd\":6}\n",
    "entry=Entry(root,width=25)\n",
    "entry.grid(row=0,column=1,columnspan=4)\n",
    "Button(root,text=\"1\",width=length,**dicti,command=lambda:fun(\"1\")).grid(row=1,column=1)\n",
    "Button(root,text=\"2\",width=length,**dicti,command=lambda:fun(\"2\")).grid(row=1,column=2)\n",
    "Button(root,text=\"3\",width=length,**dicti,command=lambda:fun(\"3\")).grid(row=1,column=3)\n",
    "Button(root,text=\"+\",width=length,**dicti,command=lambda:fun(\"+\")).grid(row=1,column=4)\n",
    "Button(root,text=\"4\",width=length,**dicti,command=lambda:fun(\"4\")).grid(row=2,column=1)\n",
    "Button(root,text=\"5\",width=length,**dicti,command=lambda:fun(\"5\")).grid(row=2,column=2)\n",
    "Button(root,text=\"6\",width=length,**dicti,command=lambda:fun(\"6\")).grid(row=2,column=3)\n",
    "Button(root,text=\"-\",width=length,**dicti,command=lambda:fun(\"-\")).grid(row=2,column=4)\n",
    "Button(root,text=\"7\",width=length,**dicti,command=lambda:fun(\"7\")).grid(row=3,column=1)\n",
    "Button(root,text=\"8\",width=length,**dicti,command=lambda:fun(\"8\")).grid(row=3,column=2)\n",
    "Button(root,text=\"9\",width=length,**dicti,command=lambda:fun(\"9\")).grid(row=3,column=3)\n",
    "Button(root,text=\"x\",width=length,**dicti,command=lambda:fun(\"*\")).grid(row=3,column=4)\n",
    "Button(root,text=\".\",width=length,**dicti,command=lambda:fun(\".\")).grid(row=4,column=1)\n",
    "Button(root,text=\"0\",width=length,**dicti,command=lambda:fun(\"0\")).grid(row=4,column=2)\n",
    "Button(root,text=\"c\",width=length,**dicti,command=remove).grid(row=4,column=3)\n",
    "Button(root,text=\"clear\",width=length,**dicti,command=clear).grid(row=5,column=1,columnspan=2)\n",
    "Button(root,text=\"=\",width=length,**dicti,command=compute).grid(row=5,column=2,columnspan=2)\n",
    "Button(root,text=chr(247),width=length,**dicti,command=lambda:fun(\"/\")).grid(row=4,column=4)\n",
    "root.mainloop()"
   ]
  },
  {
   "cell_type": "code",
   "execution_count": null,
   "metadata": {},
   "outputs": [],
   "source": [
    "def func():\n",
    "    if c.cget(\"show\")==\"\":\n",
    "        c.config(show=\"*\")\n",
    "    else:\n",
    "        c.config(show=\"\")\n",
    "from tkinter import *\n",
    "root=Tk()\n",
    "root.title(\"facebook log\")\n",
    "\n",
    "f=LabelFrame(root,text=\"mobile number\")\n",
    "f.grid(row=0,sticky=S)\n",
    "\n",
    "a=Label(f)\n",
    "a.grid()\n",
    "d=Entry(a)\n",
    "d.grid()\n",
    "\n",
    "g=LabelFrame(root,text=\"password\")\n",
    "g.grid(row=1,sticky=S)\n",
    "b=Label(g)\n",
    "b.grid()\n",
    "c=Entry(b,show=\"*\")\n",
    "c.grid()\n",
    "d=Checkbutton(root,text=\"show password\",command=func)\n",
    "d.grid()\n",
    "Button(root,bg=\"blue\",text=\"log in\",fg=\"white\").grid(row=3)\n",
    "root.mainloop()"
   ]
  },
  {
   "cell_type": "code",
   "execution_count": 35,
   "metadata": {},
   "outputs": [
    {
     "data": {
      "text/plain": [
       "'÷'"
      ]
     },
     "execution_count": 35,
     "metadata": {},
     "output_type": "execute_result"
    }
   ],
   "source": [
    "chr(247)"
   ]
  },
  {
   "cell_type": "markdown",
   "metadata": {},
   "source": [
    "## crypto rugpull app"
   ]
  },
  {
   "cell_type": "code",
   "execution_count": null,
   "metadata": {},
   "outputs": [],
   "source": []
  },
  {
   "cell_type": "raw",
   "metadata": {},
   "source": [
    "verify rugpull data from rugdoctor and token sniffer,coin market cap,cointelegraph\n",
    "{rugpull:\"stealing liquidity\",\n",
    "rugpull2:\"disabling the ability to sell tokens\",\n",
    "rugpull3:overnight project,no audits,\n",
    "rugpull4:lack a community,lowtvl\n",
    "rugpull5:not lsited on any exchange}\n",
    "if conditions met>70 probably a rugpull"
   ]
  },
  {
   "cell_type": "markdown",
   "metadata": {},
   "source": [
    "## minerals app"
   ]
  },
  {
   "cell_type": "raw",
   "metadata": {},
   "source": []
  },
  {
   "cell_type": "markdown",
   "metadata": {},
   "source": [
    "properties of minerals will be stored in a database\n",
    "this GUI is for geologist and miners\n",
    "say you are in the field and discover a mineral and you are not sure what it is\n",
    "you can input the properties of the mineral found and the app will narrow down the possibility of the minerals giving the name and the real market price"
   ]
  },
  {
   "cell_type": "code",
   "execution_count": null,
   "metadata": {},
   "outputs": [],
   "source": [
    "global and local 77 7"
   ]
  },
  {
   "cell_type": "code",
   "execution_count": 1,
   "metadata": {},
   "outputs": [],
   "source": [
    "from tkinter import *"
   ]
  },
  {
   "cell_type": "code",
   "execution_count": null,
   "metadata": {},
   "outputs": [],
   "source": []
  },
  {
   "cell_type": "markdown",
   "metadata": {},
   "source": []
  }
 ],
 "metadata": {
  "kernelspec": {
   "display_name": "Python 3",
   "language": "python",
   "name": "python3"
  },
  "language_info": {
   "codemirror_mode": {
    "name": "ipython",
    "version": 3
   },
   "file_extension": ".py",
   "mimetype": "text/x-python",
   "name": "python",
   "nbconvert_exporter": "python",
   "pygments_lexer": "ipython3",
   "version": "3.7.3"
  }
 },
 "nbformat": 4,
 "nbformat_minor": 2
}
