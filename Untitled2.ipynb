{
 "cells": [
  {
   "cell_type": "code",
   "execution_count": null,
   "metadata": {},
   "outputs": [],
   "source": [
    "class animal:\n",
    "    def __init__(self,name,isaggressive=False,kind=\"domestic\"):\n",
    "        self.name=name\n",
    "        self.isaggressive=isaggressive\n",
    "        self.kind=kind\n",
    "    def makeasound(self):\n",
    "        return \"this animal can make a sound\"\n",
    "    def walk(self):\n",
    "        return \"animal walks\""
   ]
  },
  {
   "cell_type": "code",
   "execution_count": null,
   "metadata": {},
   "outputs": [],
   "source": [
    "class dog(animal):\n",
    "    def __init__(self,name):\n",
    "        self.name=name"
   ]
  },
  {
   "cell_type": "code",
   "execution_count": null,
   "metadata": {},
   "outputs": [],
   "source": [
    "og=dog(\"jimmy\")"
   ]
  },
  {
   "cell_type": "code",
   "execution_count": null,
   "metadata": {},
   "outputs": [],
   "source": [
    "og.makeasound()"
   ]
  },
  {
   "cell_type": "code",
   "execution_count": null,
   "metadata": {},
   "outputs": [],
   "source": [
    "og.walk()"
   ]
  },
  {
   "cell_type": "code",
   "execution_count": null,
   "metadata": {},
   "outputs": [],
   "source": [
    "class dog(animal):\n",
    "    def __init__(self,name):\n",
    "        self.name=name\n",
    "    def makeasound(self):\n",
    "        return f\"{self.name}barks\""
   ]
  },
  {
   "cell_type": "code",
   "execution_count": null,
   "metadata": {},
   "outputs": [],
   "source": [
    "og=dog(\"jimmy\")\n",
    "og.makeasound()"
   ]
  },
  {
   "cell_type": "code",
   "execution_count": null,
   "metadata": {},
   "outputs": [],
   "source": [
    "def div(a,b):\n",
    "    print(a/b)\n",
    "    \n",
    "def smart(func):\n",
    "    def inner(a,b):\n",
    "        if a<b:\n",
    "            a,b=b,a\n",
    "        return func(a,b)\n",
    "    return inner\n",
    "div=smart(div)"
   ]
  },
  {
   "cell_type": "code",
   "execution_count": null,
   "metadata": {},
   "outputs": [],
   "source": [
    "div(2,4)"
   ]
  },
  {
   "cell_type": "code",
   "execution_count": null,
   "metadata": {},
   "outputs": [],
   "source": [
    "class game:\n",
    "    def __init__(self,rock,scissors,paper):\n",
    "        self._rock=rock\n",
    "        self._scissors=scissors\n",
    "        self._paper=paper\n",
    "    "
   ]
  },
  {
   "cell_type": "code",
   "execution_count": null,
   "metadata": {},
   "outputs": [],
   "source": [
    "a=game(\"rock\",\"scissors\",\"paper\") \n",
    "n=input(\"choose\")\n",
    "if n==\"rock\":\n",
    "    print(a._paper,\"u loose\")\n",
    "elif n==\"paper\":\n",
    "    print(a._scissors,\"u loose\")\n",
    "elif n==\"scissors\":\n",
    "    print(a._rock,\"u loose\")\n",
    "    "
   ]
  },
  {
   "cell_type": "code",
   "execution_count": null,
   "metadata": {},
   "outputs": [],
   "source": [
    "c=[]\n",
    "n=int(input(\"a number\"))\n",
    "while True:\n",
    "    n=int(input(\"a number\"))\n",
    "    c.append(n)\n",
    "    if n==0:\n",
    "        break\n",
    "print(c)\n",
    "    "
   ]
  },
  {
   "cell_type": "code",
   "execution_count": null,
   "metadata": {},
   "outputs": [],
   "source": [
    "# http://localhost:8888/notebooks/Desktop/python%20classwork/monday-worl/Untitled2.ipynb#\n",
    "\n",
    "n=int(input(\"a number\"))\n",
    "a=[n]\n",
    "while n!=0:\n",
    "    n=int(input(\"a number\"))\n",
    "    a.append(n)\n",
    "    a.reverse()\n",
    "    print(a)\n",
    "    "
   ]
  },
  {
   "cell_type": "code",
   "execution_count": null,
   "metadata": {},
   "outputs": [],
   "source": [
    "lis=[]\n",
    "while True:\n",
    "    n=int(input(\"letter\"))\n",
    "    lis.append(n)\n",
    "    \n",
    "    lis.reverse()\n",
    "    lis.sort() \n",
    "    if n ==0:\n",
    "        break\n",
    "    print(lis.pop(-1))"
   ]
  },
  {
   "cell_type": "code",
   "execution_count": null,
   "metadata": {},
   "outputs": [],
   "source": [
    "function(1,3,4,5,7)"
   ]
  },
  {
   "cell_type": "code",
   "execution_count": null,
   "metadata": {},
   "outputs": [],
   "source": [
    "item1=\"phone\"\n",
    "price=100\n",
    "quantity=7\n",
    "itemtotal=quantity"
   ]
  },
  {
   "cell_type": "code",
   "execution_count": null,
   "metadata": {},
   "outputs": [],
   "source": [
    "class item:\n",
    "    def value(self,x,y):\n",
    "        return x+y\n",
    "item1=item()\n",
    "item1.name=\"phone\"\n",
    "item1.price=1000\n",
    "item.quanitiy=6\n",
    "item1.value(item1.price,item.quanitiy)\n",
    "\n",
    "item2=item()\n",
    "item2.price=20000"
   ]
  },
  {
   "cell_type": "code",
   "execution_count": null,
   "metadata": {},
   "outputs": [],
   "source": [
    "item1.value(10,19)"
   ]
  },
  {
   "cell_type": "code",
   "execution_count": null,
   "metadata": {},
   "outputs": [],
   "source": [
    "class de:\n",
    "    pay=9\n",
    "    all =[]\n",
    "    def __init__(self,c:int,i):\n",
    "        self.i=i\n",
    "        self.c=c\n",
    "        print(f\"  i am{c}\")\n",
    "       # assert i>=0\n",
    "    def apply(self ):\n",
    "        self.i=self.i*de.pay\n",
    "        item1=de(1,8)\n",
    "        item2=de(5,33)\n",
    "        de.all.append(self)\n",
    "        print(all)\n",
    "    \n",
    "        "
   ]
  },
  {
   "cell_type": "code",
   "execution_count": null,
   "metadata": {},
   "outputs": [],
   "source": [
    "acc=de(1,-1)"
   ]
  },
  {
   "cell_type": "code",
   "execution_count": null,
   "metadata": {},
   "outputs": [],
   "source": [
    "acc.apply()"
   ]
  },
  {
   "cell_type": "code",
   "execution_count": null,
   "metadata": {},
   "outputs": [],
   "source": [
    "acc.i"
   ]
  },
  {
   "cell_type": "code",
   "execution_count": null,
   "metadata": {},
   "outputs": [],
   "source": [
    "`class df:\n",
    "    def __init__():"
   ]
  },
  {
   "cell_type": "code",
   "execution_count": null,
   "metadata": {},
   "outputs": [],
   "source": [
    "class student:\n",
    "    def __init__(self,m,m2):\n",
    "        self.m=m\n",
    "        self.m2=m2\n",
    "    def __add__ (self,other):\n",
    "        m\n",
    "        \n",
    "    "
   ]
  },
  {
   "cell_type": "code",
   "execution_count": null,
   "metadata": {},
   "outputs": [],
   "source": [
    "a=3\n",
    "n=0\n",
    "lis=[a]\n",
    "for i in lis:\n",
    "    c=a+1\n",
    "    if lis.append(c):\n",
    "        n+=1\n",
    "        if lis(n%2!=0):\n",
    "            c=a+(n+1)\n",
    "            print(c)\n",
    "    \n",
    "        \n",
    "    "
   ]
  },
  {
   "cell_type": "code",
   "execution_count": null,
   "metadata": {},
   "outputs": [],
   "source": [
    "bt"
   ]
  },
  {
   "cell_type": "code",
   "execution_count": null,
   "metadata": {},
   "outputs": [],
   "source": []
  }
 ],
 "metadata": {
  "kernelspec": {
   "display_name": "Python 3",
   "language": "python",
   "name": "python3"
  },
  "language_info": {
   "codemirror_mode": {
    "name": "ipython",
    "version": 3
   },
   "file_extension": ".py",
   "mimetype": "text/x-python",
   "name": "python",
   "nbconvert_exporter": "python",
   "pygments_lexer": "ipython3",
   "version": "3.7.3"
  }
 },
 "nbformat": 4,
 "nbformat_minor": 2
}
