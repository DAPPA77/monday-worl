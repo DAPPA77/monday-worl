{
 "cells": [
  {
   "cell_type": "code",
   "execution_count": null,
   "metadata": {},
   "outputs": [],
   "source": [
    "a=int(input(\"a number: \"))\n",
    "if a%2==0:\n",
    "    print(\"even\")\n",
    "else:\n",
    "    print(\"odd\")"
   ]
  },
  {
   "cell_type": "code",
   "execution_count": 1,
   "metadata": {},
   "outputs": [
    {
     "name": "stdout",
     "output_type": "stream",
     "text": [
      "a number: -1\n",
      "is negative\n"
     ]
    }
   ],
   "source": [
    "a=int(input(\"a number: \"))\n",
    "b=(5.25*a)\n",
    "c=(4*a)\n",
    "if a==2:\n",
    "    print(b)\n",
    "elif a==1:\n",
    "    print(c)\n",
    "if a<0:\n",
    "    print(\"is negative\")\n"
   ]
  },
  {
   "cell_type": "code",
   "execution_count": null,
   "metadata": {},
   "outputs": [],
   "source": []
  },
  {
   "cell_type": "code",
   "execution_count": 1,
   "metadata": {},
   "outputs": [
    {
     "name": "stdout",
     "output_type": "stream",
     "text": [
      "enter a letter :q\n",
      "consonant\n"
     ]
    }
   ],
   "source": [
    "vowel=input(\"enter a letter :\")\n",
    "if vowel==[\"a\",\"e\",\"i\",\"o\",\"u\"]:\n",
    "    print(\"vowel\")\n",
    "else:\n",
    "    print(\"consonant\")"
   ]
  },
  {
   "cell_type": "code",
   "execution_count": 7,
   "metadata": {},
   "outputs": [
    {
     "name": "stdout",
     "output_type": "stream",
     "text": [
      "enter the sides: 7\n",
      "polygon\n"
     ]
    }
   ],
   "source": [
    "shapes=int(input(\"enter the sides: \"))\n",
    "if shapes>=3 and shapes<=10:\n",
    "           print(\"polygon\")\n",
    "else:\n",
    "           print(\"not a shape\")\n",
    "          "
   ]
  },
  {
   "cell_type": "code",
   "execution_count": 13,
   "metadata": {},
   "outputs": [
    {
     "name": "stdout",
     "output_type": "stream",
     "text": [
      "month: january\n",
      "31 days\n"
     ]
    }
   ],
   "source": [
    "month=str(input(\"month: \"))\n",
    "if month==\"january\"or month==\"march\" or month==\"may\"or month==\"july\":\n",
    "    print(\"31 days\")\n",
    "if month==[\"september\",\"april\",\"june\",\"november\"]:\n",
    "    print(\"30 days\")\n",
    "elif month==\"febuary\":\n",
    "    print(\"29 days\")"
   ]
  },
  {
   "cell_type": "code",
   "execution_count": 27,
   "metadata": {},
   "outputs": [
    {
     "name": "stdout",
     "output_type": "stream",
     "text": [
      "number0\n",
      "number1\n",
      "number2\n",
      "1.0\n",
      "1.0\n"
     ]
    }
   ],
   "source": [
    "a=int(input(\"number\"))\n",
    "b=int(input(\"number\"))\n",
    "c=int(input(\"number\"))\n",
    "number=((a+b+c)/3)\n",
    "num=[number]\n",
    "for i in num:\n",
    "    print(i) \n",
    "    if i==0:\n",
    "        break\n",
    "print(number)\n"
   ]
  },
  {
   "cell_type": "code",
   "execution_count": 8,
   "metadata": {},
   "outputs": [
    {
     "name": "stdout",
     "output_type": "stream",
     "text": [
      "$ 4.95 $ 2.97\n",
      "$ 9.95 $ 5.97\n",
      "$ 14.95 $ 8.97\n",
      "$ 19.95 $ 11.97\n",
      "$ 24.95 $ 14.97\n"
     ]
    }
   ],
   "source": [
    "num=[4.95,9.95,14.95,19.95,24.95]\n",
    "a=(60/100)\n",
    "for i in num:\n",
    "    b=i*a\n",
    "    print(\"$\",round(i,3,),\"$\",round(b,3))"
   ]
  },
  {
   "cell_type": "code",
   "execution_count": 10,
   "metadata": {},
   "outputs": [
    {
     "ename": "TypeError",
     "evalue": "'method' object is not subscriptable",
     "output_type": "error",
     "traceback": [
      "\u001b[1;31m---------------------------------------------------------------------------\u001b[0m",
      "\u001b[1;31mTypeError\u001b[0m                                 Traceback (most recent call last)",
      "\u001b[1;32m<ipython-input-10-f6b20896c8aa>\u001b[0m in \u001b[0;36m<module>\u001b[1;34m\u001b[0m\n\u001b[1;32m----> 1\u001b[1;33m \u001b[0mpenny\u001b[0m\u001b[1;33m=\u001b[0m\u001b[0mint\u001b[0m\u001b[1;33m(\u001b[0m\u001b[0minput\u001b[0m\u001b[1;33m[\u001b[0m\u001b[1;34m\"price\"\u001b[0m\u001b[1;33m]\u001b[0m\u001b[1;33m)\u001b[0m\u001b[1;33m\u001b[0m\u001b[1;33m\u001b[0m\u001b[0m\n\u001b[0m\u001b[0;32m      2\u001b[0m \u001b[1;32mfor\u001b[0m \u001b[0mi\u001b[0m \u001b[1;32min\u001b[0m \u001b[0mpenny\u001b[0m\u001b[1;33m:\u001b[0m\u001b[1;33m\u001b[0m\u001b[1;33m\u001b[0m\u001b[0m\n\u001b[0;32m      3\u001b[0m     \u001b[1;32mif\u001b[0m \u001b[0mpenny\u001b[0m\u001b[1;33m==\u001b[0m\u001b[1;34m\"\"\u001b[0m\u001b[1;33m:\u001b[0m\u001b[1;33m\u001b[0m\u001b[1;33m\u001b[0m\u001b[0m\n\u001b[0;32m      4\u001b[0m         \u001b[1;32mcontinue\u001b[0m\u001b[1;33m\u001b[0m\u001b[1;33m\u001b[0m\u001b[0m\n\u001b[0;32m      5\u001b[0m     \u001b[0mprint\u001b[0m\u001b[1;33m(\u001b[0m\u001b[0mi\u001b[0m\u001b[1;33m)\u001b[0m\u001b[1;33m\u001b[0m\u001b[1;33m\u001b[0m\u001b[0m\n",
      "\u001b[1;31mTypeError\u001b[0m: 'method' object is not subscriptable"
     ]
    }
   ],
   "source": [
    "penny=[(input(\"price of items\")]\n",
    "for i in penny:\n",
    "    if penny==\"\":\n",
    "        continue\n",
    "    print(i)\n",
    "b=int(input(\"cashpaid \"))\n",
    "c=b/20\n",
    "print(c)"
   ]
  },
  {
   "cell_type": "code",
   "execution_count": null,
   "metadata": {},
   "outputs": [],
   "source": []
  }
 ],
 "metadata": {
  "kernelspec": {
   "display_name": "Python 3",
   "language": "python",
   "name": "python3"
  },
  "language_info": {
   "codemirror_mode": {
    "name": "ipython",
    "version": 3
   },
   "file_extension": ".py",
   "mimetype": "text/x-python",
   "name": "python",
   "nbconvert_exporter": "python",
   "pygments_lexer": "ipython3",
   "version": "3.7.3"
  }
 },
 "nbformat": 4,
 "nbformat_minor": 2
}
